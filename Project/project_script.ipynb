{
  "nbformat": 4,
  "nbformat_minor": 0,
  "metadata": {
    "colab": {
      "provenance": [],
      "gpuType": "T4",
      "authorship_tag": "ABX9TyP39e6j3+EgFOB4Z/SuFACp",
      "include_colab_link": true
    },
    "kernelspec": {
      "name": "python3",
      "display_name": "Python 3"
    },
    "language_info": {
      "name": "python"
    },
    "accelerator": "GPU"
  },
  "cells": [
    {
      "cell_type": "markdown",
      "metadata": {
        "id": "view-in-github",
        "colab_type": "text"
      },
      "source": [
        "<a href=\"https://colab.research.google.com/github/larasauser/2024_MLEES/blob/main/Project/project_script.ipynb\" target=\"_parent\"><img src=\"https://colab.research.google.com/assets/colab-badge.svg\" alt=\"Open In Colab\"/></a>"
      ]
    },
    {
      "cell_type": "markdown",
      "source": [
        "**# Machine learning Project - Sauser Lara**\n",
        "## *Filling gaps in NDVI images using CNN and Diffusion models*\n",
        "\n",
        "[Ajouter une image d'illustration]\n",
        "\n",
        "##Main steps :\n",
        "\n",
        "\n",
        "1.   Gather dataset\n",
        "2.   Split the dataset\n",
        "3.   Create the CNN alorithm\n",
        "4.   Create the Dissolution model\n",
        "5.   Evaluate them (RMSE ?)\n",
        "\n",
        "\n",
        "##Questions\n",
        "1.   Should I keep infos of date when cutting\n",
        "my images ?\n",
        "\n"
      ],
      "metadata": {
        "id": "dVyGSaYdWANM"
      }
    },
    {
      "cell_type": "markdown",
      "source": [
        "### 1. Loading the data and separate them into smaller images (25x25 px)\n",
        "--- This should be done only once per image set because it takes time ---\n",
        "\n",
        "--- New image set should be used after this step ---\n",
        "\n"
      ],
      "metadata": {
        "id": "o_yvJQotYJyt"
      }
    },
    {
      "cell_type": "code",
      "execution_count": 1,
      "metadata": {
        "id": "zuevR7yUU_ii",
        "colab": {
          "base_uri": "https://localhost:8080/"
        },
        "outputId": "34f720cb-47f3-4432-b2d9-dacf63dddca2"
      },
      "outputs": [
        {
          "output_type": "stream",
          "name": "stdout",
          "text": [
            "Mounted at /content/drive\n"
          ]
        }
      ],
      "source": [
        "#Dataset stored on Google Drive\n",
        "from google.colab import drive\n",
        "drive.mount('/content/drive')\n",
        "\n",
        "import os\n",
        "folder_path = '/content/drive/My Drive/NDVI_Images_Landsat8_10/'"
      ]
    },
    {
      "cell_type": "markdown",
      "source": [
        "To have more images and to reduce computational cost, we decide to devide them into sub-images of 25x25 pixels."
      ],
      "metadata": {
        "id": "koSOQva9bP_2"
      }
    },
    {
      "cell_type": "code",
      "source": [
        "pip install Pillow"
      ],
      "metadata": {
        "colab": {
          "base_uri": "https://localhost:8080/"
        },
        "id": "pGWHDKLCbZJf",
        "outputId": "ccd42835-fcff-4e4a-e11a-8737acc00bce"
      },
      "execution_count": 2,
      "outputs": [
        {
          "output_type": "stream",
          "name": "stdout",
          "text": [
            "Requirement already satisfied: Pillow in /usr/local/lib/python3.10/dist-packages (10.4.0)\n"
          ]
        }
      ]
    },
    {
      "cell_type": "code",
      "source": [
        "from PIL import Image\n",
        "import os\n",
        "\n",
        "def split_image(image_path, output_folder, sub_image_size=(25, 25)):\n",
        "    # Open image\n",
        "    img = Image.open(image_path)\n",
        "    img_width, img_height = img.size\n",
        "\n",
        "    # Image count\n",
        "    count = 0\n",
        "\n",
        "    # Division\n",
        "    for i in range(0, img_width, sub_image_size[0]):\n",
        "        for j in range(0, img_height, sub_image_size[1]):\n",
        "            # Cutting box\n",
        "            box = (i, j, min(i + sub_image_size[0], img_width), min(j + sub_image_size[1], img_height))\n",
        "            # Cutting\n",
        "            sub_image = img.crop(box)\n",
        "            # Verification (size)\n",
        "            if sub_image.size[0] > 0 and sub_image.size[1] > 0:\n",
        "                # Saving\n",
        "                sub_image.save(os.path.join(output_folder, f'sub_image_{count}.tif'))\n",
        "                count += 1\n",
        "\n",
        "def process_all_images(input_folder, output_folder):\n",
        "    # List all tif file in input folder\n",
        "    for filename in os.listdir(input_folder):\n",
        "        if filename.endswith('.tif'):\n",
        "            image_path = os.path.join(input_folder, filename)\n",
        "            print(f\"Image in treatment : {filename}\")\n",
        "            split_image(image_path, output_folder)\n",
        ""
      ],
      "metadata": {
        "id": "wLfxyfLybbBC"
      },
      "execution_count": 3,
      "outputs": []
    },
    {
      "cell_type": "code",
      "source": [
        "#Split our images\n",
        "output_folder = '/content/drive/My Drive/NDVI_Images_Landsat8_10/split'\n",
        "process_all_images(folder_path, output_folder)"
      ],
      "metadata": {
        "colab": {
          "base_uri": "https://localhost:8080/"
        },
        "id": "LE_VUrGCcKNo",
        "outputId": "0ada2cfa-4432-4b38-aa19-820f7a20cb2a"
      },
      "execution_count": 4,
      "outputs": [
        {
          "output_type": "stream",
          "name": "stdout",
          "text": [
            "Image in treatment : NDVI_Val_Herens_2013-04-18.tif\n",
            "Image in treatment : NDVI_Val_Herens_2013-11-12.tif\n",
            "Image in treatment : NDVI_Val_Herens_2013-12-30.tif\n",
            "Image in treatment : NDVI_Val_Herens_2013-11-28.tif\n",
            "Image in treatment : NDVI_Val_Herens_2014-03-20.tif\n",
            "Image in treatment : NDVI_Val_Herens_2014-06-08.tif\n",
            "Image in treatment : NDVI_Val_Herens_2014-10-30.tif\n",
            "Image in treatment : NDVI_Val_Herens_2015-02-19.tif\n",
            "Image in treatment : NDVI_Val_Herens_2015-04-24.tif\n",
            "Image in treatment : NDVI_Val_Herens_2015-04-08.tif\n",
            "Image in treatment : NDVI_Val_Herens_2015-08-30.tif\n",
            "Image in treatment : NDVI_Val_Herens_2015-05-10.tif\n",
            "Image in treatment : NDVI_Val_Herens_2015-12-20.tif\n",
            "Image in treatment : NDVI_Val_Herens_2016-10-03.tif\n",
            "Image in treatment : NDVI_Val_Herens_2016-04-10.tif\n",
            "Image in treatment : NDVI_Val_Herens_2016-12-06.tif\n",
            "Image in treatment : NDVI_Val_Herens_2017-03-28.tif\n",
            "Image in treatment : NDVI_Val_Herens_2017-01-23.tif\n",
            "Image in treatment : NDVI_Val_Herens_2017-04-29.tif\n",
            "Image in treatment : NDVI_Val_Herens_2018-06-19.tif\n",
            "Image in treatment : NDVI_Val_Herens_2017-04-13.tif\n",
            "Image in treatment : NDVI_Val_Herens_2018-10-09.tif\n",
            "Image in treatment : NDVI_Val_Herens_2018-10-25.tif\n",
            "Image in treatment : NDVI_Val_Herens_2019-01-29.tif\n",
            "Image in treatment : NDVI_Val_Herens_2019-02-14.tif\n",
            "Image in treatment : NDVI_Val_Herens_2019-08-25.tif\n",
            "Image in treatment : NDVI_Val_Herens_2020-01-16.tif\n",
            "Image in treatment : NDVI_Val_Herens_2019-12-31.tif\n",
            "Image in treatment : NDVI_Val_Herens_2020-03-04.tif\n",
            "Image in treatment : NDVI_Val_Herens_2020-05-07.tif\n",
            "Image in treatment : NDVI_Val_Herens_2021-01-18.tif\n",
            "Image in treatment : NDVI_Val_Herens_2021-03-23.tif\n",
            "Image in treatment : NDVI_Val_Herens_2021-04-08.tif\n",
            "Image in treatment : NDVI_Val_Herens_2021-08-14.tif\n",
            "Image in treatment : NDVI_Val_Herens_2022-01-21.tif\n",
            "Image in treatment : NDVI_Val_Herens_2021-10-17.tif\n",
            "Image in treatment : NDVI_Val_Herens_2022-03-10.tif\n",
            "Image in treatment : NDVI_Val_Herens_2022-03-26.tif\n",
            "Image in treatment : NDVI_Val_Herens_2022-04-27.tif\n",
            "Image in treatment : NDVI_Val_Herens_2022-07-16.tif\n",
            "Image in treatment : NDVI_Val_Herens_2022-08-01.tif\n",
            "Image in treatment : NDVI_Val_Herens_2022-09-18.tif\n",
            "Image in treatment : NDVI_Val_Herens_2023-06-17.tif\n",
            "Image in treatment : NDVI_Val_Herens_2023-08-20.tif\n",
            "Image in treatment : NDVI_Val_Herens_2023-10-07.tif\n",
            "Image in treatment : NDVI_Val_Herens_2023-11-08.tif\n"
          ]
        }
      ]
    },
    {
      "cell_type": "code",
      "source": [
        "\n"
      ],
      "metadata": {
        "id": "DE0mzlezpO-Y",
        "outputId": "4abeb78a-d3bb-4e99-870e-b47b7397a8df",
        "colab": {
          "base_uri": "https://localhost:8080/",
          "height": 147
        }
      },
      "execution_count": 19,
      "outputs": [
        {
          "output_type": "error",
          "ename": "NameError",
          "evalue": "name 'count' is not defined",
          "traceback": [
            "\u001b[0;31m---------------------------------------------------------------------------\u001b[0m",
            "\u001b[0;31mNameError\u001b[0m                                 Traceback (most recent call last)",
            "\u001b[0;32m<ipython-input-19-26780ddf2751>\u001b[0m in \u001b[0;36m<cell line: 1>\u001b[0;34m()\u001b[0m\n\u001b[0;32m----> 1\u001b[0;31m \u001b[0mcount\u001b[0m\u001b[0;34m\u001b[0m\u001b[0;34m\u001b[0m\u001b[0m\n\u001b[0m",
            "\u001b[0;31mNameError\u001b[0m: name 'count' is not defined"
          ]
        }
      ]
    }
  ]
}