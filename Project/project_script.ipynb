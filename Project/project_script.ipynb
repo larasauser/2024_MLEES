{
  "nbformat": 4,
  "nbformat_minor": 0,
  "metadata": {
    "colab": {
      "provenance": [],
      "authorship_tag": "ABX9TyNkhyp/yZY8Gw9snsXa0pfF",
      "include_colab_link": true
    },
    "kernelspec": {
      "name": "python3",
      "display_name": "Python 3"
    },
    "language_info": {
      "name": "python"
    }
  },
  "cells": [
    {
      "cell_type": "markdown",
      "metadata": {
        "id": "view-in-github",
        "colab_type": "text"
      },
      "source": [
        "<a href=\"https://colab.research.google.com/github/larasauser/2024_MLEES/blob/main/Project/project_script.ipynb\" target=\"_parent\"><img src=\"https://colab.research.google.com/assets/colab-badge.svg\" alt=\"Open In Colab\"/></a>"
      ]
    },
    {
      "cell_type": "markdown",
      "source": [
        "**# Machine learning Project - Sauser Lara**\n",
        "## *Filling gaps in NDVI images using CNN and Diffusion models*\n",
        "\n",
        "[Ajouter une image d'illustration]\n",
        "\n",
        "##Main steps :\n",
        "\n",
        "\n",
        "1.   Gather dataset\n",
        "2.   Split the dataset\n",
        "3.   Create the CNN alorithm\n",
        "4.   Create the Dissolution model\n",
        "5.   Evaluate them (RMSE ?)\n",
        "\n"
      ],
      "metadata": {
        "id": "dVyGSaYdWANM"
      }
    },
    {
      "cell_type": "markdown",
      "source": [
        "### 1. Loading the data and the dependecies\n",
        "\n"
      ],
      "metadata": {
        "id": "o_yvJQotYJyt"
      }
    },
    {
      "cell_type": "code",
      "execution_count": null,
      "metadata": {
        "id": "zuevR7yUU_ii"
      },
      "outputs": [],
      "source": [
        "#Dataset stored on Google Drive\n"
      ]
    }
  ]
}