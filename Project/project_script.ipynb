{
  "nbformat": 4,
  "nbformat_minor": 0,
  "metadata": {
    "colab": {
      "provenance": [],
      "gpuType": "T4",
      "authorship_tag": "ABX9TyNOFp6UYVsDI5Z02vF3ogdf",
      "include_colab_link": true
    },
    "kernelspec": {
      "name": "python3",
      "display_name": "Python 3"
    },
    "language_info": {
      "name": "python"
    }
  },
  "cells": [
    {
      "cell_type": "markdown",
      "metadata": {
        "id": "view-in-github",
        "colab_type": "text"
      },
      "source": [
        "<a href=\"https://colab.research.google.com/github/larasauser/2024_MLEES/blob/main/Project/project_script.ipynb\" target=\"_parent\"><img src=\"https://colab.research.google.com/assets/colab-badge.svg\" alt=\"Open In Colab\"/></a>"
      ]
    },
    {
      "cell_type": "markdown",
      "source": [
        "**# Machine learning Project - Sauser Lara**\n",
        "## *Filling gaps in NDVI images using CNN*\n",
        "\n",
        "[Ajouter une image d'illustration]\n",
        "\n",
        " [THE CODE IS NOT CLEANED YET]"
      ],
      "metadata": {
        "id": "dVyGSaYdWANM"
      }
    },
    {
      "cell_type": "markdown",
      "source": [
        "### 1. Loading the data and separate them into smaller images (32x32 px)\n",
        "--- This should be done only once per image set because it takes time ---\n",
        "\n",
        "--- New image set should be used after this step ---\n",
        "\n"
      ],
      "metadata": {
        "id": "o_yvJQotYJyt"
      }
    },
    {
      "cell_type": "code",
      "execution_count": 14,
      "metadata": {
        "id": "zuevR7yUU_ii",
        "colab": {
          "base_uri": "https://localhost:8080/"
        },
        "outputId": "9152d7f9-0147-4c6f-cea8-ee6e8a86db63"
      },
      "outputs": [
        {
          "output_type": "stream",
          "name": "stdout",
          "text": [
            "Drive already mounted at /content/drive; to attempt to forcibly remount, call drive.mount(\"/content/drive\", force_remount=True).\n"
          ]
        }
      ],
      "source": [
        "#Dataset stored on Google Drive\n",
        "from google.colab import drive\n",
        "drive.mount('/content/drive')\n",
        "\n",
        "\n",
        "import os\n",
        "folder_path = '/content/drive/My Drive/NDVI_images/'"
      ]
    },
    {
      "cell_type": "markdown",
      "source": [
        "Let's visualise some of our original images."
      ],
      "metadata": {
        "id": "EsvF_7NTRFBY"
      }
    },
    {
      "cell_type": "code",
      "source": [
        "!pip install rasterio"
      ],
      "metadata": {
        "collapsed": true,
        "colab": {
          "base_uri": "https://localhost:8080/"
        },
        "id": "HxCke5l44EuD",
        "outputId": "f917833a-a7c3-4c74-c711-e69bc2d60aac"
      },
      "execution_count": 2,
      "outputs": [
        {
          "output_type": "stream",
          "name": "stdout",
          "text": [
            "Collecting rasterio\n",
            "  Downloading rasterio-1.4.3-cp310-cp310-manylinux_2_17_x86_64.manylinux2014_x86_64.whl.metadata (9.1 kB)\n",
            "Collecting affine (from rasterio)\n",
            "  Downloading affine-2.4.0-py3-none-any.whl.metadata (4.0 kB)\n",
            "Requirement already satisfied: attrs in /usr/local/lib/python3.10/dist-packages (from rasterio) (24.2.0)\n",
            "Requirement already satisfied: certifi in /usr/local/lib/python3.10/dist-packages (from rasterio) (2024.8.30)\n",
            "Requirement already satisfied: click>=4.0 in /usr/local/lib/python3.10/dist-packages (from rasterio) (8.1.7)\n",
            "Collecting cligj>=0.5 (from rasterio)\n",
            "  Downloading cligj-0.7.2-py3-none-any.whl.metadata (5.0 kB)\n",
            "Requirement already satisfied: numpy>=1.24 in /usr/local/lib/python3.10/dist-packages (from rasterio) (1.26.4)\n",
            "Collecting click-plugins (from rasterio)\n",
            "  Downloading click_plugins-1.1.1-py2.py3-none-any.whl.metadata (6.4 kB)\n",
            "Requirement already satisfied: pyparsing in /usr/local/lib/python3.10/dist-packages (from rasterio) (3.2.0)\n",
            "Downloading rasterio-1.4.3-cp310-cp310-manylinux_2_17_x86_64.manylinux2014_x86_64.whl (22.2 MB)\n",
            "\u001b[2K   \u001b[90m━━━━━━━━━━━━━━━━━━━━━━━━━━━━━━━━━━━━━━━━\u001b[0m \u001b[32m22.2/22.2 MB\u001b[0m \u001b[31m69.8 MB/s\u001b[0m eta \u001b[36m0:00:00\u001b[0m\n",
            "\u001b[?25hDownloading cligj-0.7.2-py3-none-any.whl (7.1 kB)\n",
            "Downloading affine-2.4.0-py3-none-any.whl (15 kB)\n",
            "Downloading click_plugins-1.1.1-py2.py3-none-any.whl (7.5 kB)\n",
            "Installing collected packages: cligj, click-plugins, affine, rasterio\n",
            "Successfully installed affine-2.4.0 click-plugins-1.1.1 cligj-0.7.2 rasterio-1.4.3\n"
          ]
        }
      ]
    },
    {
      "cell_type": "code",
      "source": [
        "import matplotlib.pyplot as plt\n",
        "import matplotlib.image as mpimg\n",
        "from matplotlib.gridspec import GridSpec\n",
        "import rasterio\n",
        "import numpy as np\n",
        "# Get a list of files in the directory\n",
        "tif_files = [f for f in os.listdir(folder_path) if f.endswith('.tif')]\n",
        "\n",
        "# Specify the indices of images you want to display\n",
        "selected_indices = [10, 45, 90 ]\n",
        "\n",
        "# Safeguard: Ensure indices are within range\n",
        "selected_files = [tif_files[i] for i in selected_indices if i < len(tif_files)]\n",
        "\n",
        "# Set up a GridSpec layout\n",
        "fig = plt.figure(figsize=(15, 5))\n",
        "gs = GridSpec(1, len(selected_files) + 1, width_ratios=[1] * len(selected_files) + [0.1])  # Extra column for the colorbar\n",
        "\n",
        "axes = [fig.add_subplot(gs[0, i]) for i in range(len(selected_files))]  # Subplots for images\n",
        "cbar_ax = fig.add_subplot(gs[0, -1])  # Separate subplot for the colorbar\n",
        "\n",
        "for i, file_name in enumerate(selected_files):\n",
        "    file_path = os.path.join(folder_path, file_name)\n",
        "\n",
        "    # Open the GeoTIFF file\n",
        "    with rasterio.open(file_path) as src:\n",
        "        ndvi_data = src.read(1)  # Read the first band (NDVI values)\n",
        "        ndvi_data = np.where(ndvi_data == src.nodata, np.nan, ndvi_data)  # Handle NoData values\n",
        "\n",
        "    # Plot the NDVI data in the subplot\n",
        "    im = axes[i].imshow(ndvi_data, cmap='RdYlGn', vmin=-1, vmax=1)\n",
        "    axes[i].set_title(file_name)\n",
        "    axes[i].axis('off')\n",
        "\n",
        "# Add the shared colorbar in the dedicated axis\n",
        "cbar = fig.colorbar(im, cax=cbar_ax, orientation='vertical')\n",
        "cbar.set_label('NDVI')\n",
        "\n",
        "# Adjust layout\n",
        "plt.tight_layout()\n",
        "plt.show()"
      ],
      "metadata": {
        "id": "wsiKVu9uREnB"
      },
      "execution_count": null,
      "outputs": []
    },
    {
      "cell_type": "markdown",
      "source": [
        "First, we need to fill in the NaN values that come from satellite position. DIRE MIEUX\n",
        "We use a SimpleImputer based on the median."
      ],
      "metadata": {
        "id": "WyCkghuXPK-s"
      }
    },
    {
      "cell_type": "code",
      "source": [
        "import os\n",
        "import numpy as np\n",
        "from sklearn.impute import SimpleImputer\n",
        "import rasterio\n",
        "# Créer un dossier pour sauvegarder les images corrigées\n",
        "output_folder = os.path.join(folder_path, \"imputed\")\n",
        "os.makedirs(output_folder, exist_ok=True)\n",
        "\n",
        "# Fonction pour imputer les valeurs NaN\n",
        "def impute_ndvi_image(image_path, output_path):\n",
        "    with rasterio.open(image_path) as src:\n",
        "        image = src.read(1)  # Lecture de la première bande uniquement\n",
        "        meta = src.meta  # Métadonnées pour sauvegarde\n",
        "\n",
        "    # Masque des NaN\n",
        "    nan_mask = np.isnan(image)\n",
        "\n",
        "    # Imputation des NaN avec la médiane\n",
        "    imputer = SimpleImputer(strategy='median')\n",
        "    image_imputed = imputer.fit_transform(image)\n",
        "\n",
        "    # Sauvegarde de l'image corrigée\n",
        "    with rasterio.open(output_path, 'w', **meta) as dst:\n",
        "        dst.write(image_imputed, 1)\n",
        "\n",
        "# Parcourir toutes les images dans le dossier et appliquer l'imputation\n",
        "for filename in os.listdir(folder_path):\n",
        "    if filename.endswith(\".tif\"):\n",
        "        input_path = os.path.join(folder_path, filename)\n",
        "        output_path = os.path.join(output_folder, filename)\n",
        "        impute_ndvi_image(input_path, output_path)\n"
      ],
      "metadata": {
        "colab": {
          "base_uri": "https://localhost:8080/"
        },
        "id": "jRe93LsVPKmX",
        "outputId": "14f107a6-5d8f-427f-981b-297019f62c6d"
      },
      "execution_count": 6,
      "outputs": [
        {
          "output_type": "stream",
          "name": "stderr",
          "text": [
            "/usr/local/lib/python3.10/dist-packages/sklearn/impute/_base.py:598: UserWarning: Skipping features without any observed values: [ 0  1  2  3  4  5  6  7  8  9 10 11 12 13 14 15 16 17 18 19 20 21 22 23\n",
            " 24 25 26 27 28 29 30 31 32 33 34 35 36 37 38 39 40 41 42 43 44 45 46 47\n",
            " 48 49]. At least one non-missing value is needed for imputation with strategy='median'.\n",
            "  warnings.warn(\n",
            "/usr/local/lib/python3.10/dist-packages/sklearn/impute/_base.py:598: UserWarning: Skipping features without any observed values: [ 0  1  2  3  4  5  6  7  8  9 10 11 12 13 14 15 16 17 18 19 20 21 22 23\n",
            " 24 25 26 27 28 29 30 31 32 33 34 35 36]. At least one non-missing value is needed for imputation with strategy='median'.\n",
            "  warnings.warn(\n",
            "/usr/local/lib/python3.10/dist-packages/sklearn/impute/_base.py:598: UserWarning: Skipping features without any observed values: [ 0  1  2  3  4  5  6  7  8  9 10 11 12 13 14 15 16 17 18 19 20 21 22 23\n",
            " 24 25 26 27 28 29 30 31 32 33]. At least one non-missing value is needed for imputation with strategy='median'.\n",
            "  warnings.warn(\n",
            "/usr/local/lib/python3.10/dist-packages/sklearn/impute/_base.py:598: UserWarning: Skipping features without any observed values: [ 0  1  2  3  4  5  6  7  8  9 10 11 12 13 14 15 16 17 18 19 20 21 22 23\n",
            " 24 25 26 27 28 29 30 31 32 33]. At least one non-missing value is needed for imputation with strategy='median'.\n",
            "  warnings.warn(\n",
            "/usr/local/lib/python3.10/dist-packages/sklearn/impute/_base.py:598: UserWarning: Skipping features without any observed values: [ 0  1  2  3  4  5  6  7  8  9 10 11 12 13 14 15 16 17 18 19 20 21 22 23\n",
            " 24 25 26 27 28 29 30 31 32 33 34 35 36 37 38 39 40 41 42 43]. At least one non-missing value is needed for imputation with strategy='median'.\n",
            "  warnings.warn(\n",
            "/usr/local/lib/python3.10/dist-packages/sklearn/impute/_base.py:598: UserWarning: Skipping features without any observed values: [ 0  1  2  3  4  5  6  7  8  9 10 11 12 13 14 15 16 17 18 19 20 21 22 23\n",
            " 24 25 26 27 28 29 30 31 32 33]. At least one non-missing value is needed for imputation with strategy='median'.\n",
            "  warnings.warn(\n",
            "/usr/local/lib/python3.10/dist-packages/sklearn/impute/_base.py:598: UserWarning: Skipping features without any observed values: [ 0  1  2  3  4  5  6  7  8  9 10 11 12 13 14 15 16 17 18 19 20 21 22 23\n",
            " 24 25 26 27 28 29 30 31 32 33]. At least one non-missing value is needed for imputation with strategy='median'.\n",
            "  warnings.warn(\n",
            "/usr/local/lib/python3.10/dist-packages/sklearn/impute/_base.py:598: UserWarning: Skipping features without any observed values: [ 0  1  2  3  4  5  6  7  8  9 10 11 12 13 14 15 16 17 18 19 20 21 22 23\n",
            " 24 25 26 27 28 29 30 31 32 33]. At least one non-missing value is needed for imputation with strategy='median'.\n",
            "  warnings.warn(\n",
            "/usr/local/lib/python3.10/dist-packages/sklearn/impute/_base.py:598: UserWarning: Skipping features without any observed values: [ 0  1  2  3  4  5  6  7  8  9 10 11 12 13 14 15 16 17 18 19 20 21 22 23\n",
            " 24 25 26 27 28 29 30 31 32 33]. At least one non-missing value is needed for imputation with strategy='median'.\n",
            "  warnings.warn(\n",
            "/usr/local/lib/python3.10/dist-packages/sklearn/impute/_base.py:598: UserWarning: Skipping features without any observed values: [ 0  1  2  3  4  5  6  7  8  9 10 11 12 13 14 15 16 17 18 19 20 21 22 23\n",
            " 24 25 26 27 28 29 30 31 32 33]. At least one non-missing value is needed for imputation with strategy='median'.\n",
            "  warnings.warn(\n",
            "/usr/local/lib/python3.10/dist-packages/sklearn/impute/_base.py:598: UserWarning: Skipping features without any observed values: [ 0  1  2  3  4  5  6  7  8  9 10 11 12 13 14 15 16 17 18 19 20 21 22 23\n",
            " 24 25 26 27 28 29 30 31 32 33]. At least one non-missing value is needed for imputation with strategy='median'.\n",
            "  warnings.warn(\n",
            "/usr/local/lib/python3.10/dist-packages/sklearn/impute/_base.py:598: UserWarning: Skipping features without any observed values: [ 0  1  2  3  4  5  6  7  8  9 10 11 12 13 14 15 16 17 18 19 20 21 22 23\n",
            " 24 25 26 27 28 29 30 31 32 33]. At least one non-missing value is needed for imputation with strategy='median'.\n",
            "  warnings.warn(\n",
            "/usr/local/lib/python3.10/dist-packages/sklearn/impute/_base.py:598: UserWarning: Skipping features without any observed values: [ 0  1  2  3  4  5  6  7  8  9 10 11 12 13 14 15 16 17 18 19 20 21 22 23\n",
            " 24 25 26 27 28 29 30 31 32 33]. At least one non-missing value is needed for imputation with strategy='median'.\n",
            "  warnings.warn(\n",
            "/usr/local/lib/python3.10/dist-packages/sklearn/impute/_base.py:598: UserWarning: Skipping features without any observed values: [ 0  1  2  3  4  5  6  7  8  9 10 11 12 13 14 15 16 17 18 19 20 21 22 23\n",
            " 24 25 26 27 28 29 30 31 32 33]. At least one non-missing value is needed for imputation with strategy='median'.\n",
            "  warnings.warn(\n",
            "/usr/local/lib/python3.10/dist-packages/sklearn/impute/_base.py:598: UserWarning: Skipping features without any observed values: [ 0  1  2  3  4  5  6  7  8  9 10 11 12 13 14 15 16 17 18 19 20 21 22 23\n",
            " 24 25 26 27 28 29 30 31 32 33]. At least one non-missing value is needed for imputation with strategy='median'.\n",
            "  warnings.warn(\n",
            "/usr/local/lib/python3.10/dist-packages/sklearn/impute/_base.py:598: UserWarning: Skipping features without any observed values: [ 0  1  2  3  4  5  6  7  8  9 10 11 12 13 14 15 16 17 18 19 20 21 22 23\n",
            " 24 25 26 27 28 29 30 31 32 33]. At least one non-missing value is needed for imputation with strategy='median'.\n",
            "  warnings.warn(\n",
            "/usr/local/lib/python3.10/dist-packages/sklearn/impute/_base.py:598: UserWarning: Skipping features without any observed values: [ 0  1  2  3  4  5  6  7  8  9 10 11 12 13 14 15 16 17 18 19 20 21 22 23\n",
            " 24 25 26 27 28 29 30 31 32 33]. At least one non-missing value is needed for imputation with strategy='median'.\n",
            "  warnings.warn(\n",
            "/usr/local/lib/python3.10/dist-packages/sklearn/impute/_base.py:598: UserWarning: Skipping features without any observed values: [ 0  1  2  3  4  5  6  7  8  9 10 11 12 13 14 15 16 17 18 19 20 21 22 23\n",
            " 24 25 26 27 28 29 30 31 32 33]. At least one non-missing value is needed for imputation with strategy='median'.\n",
            "  warnings.warn(\n",
            "/usr/local/lib/python3.10/dist-packages/sklearn/impute/_base.py:598: UserWarning: Skipping features without any observed values: [ 0  1  2  3  4  5  6  7  8  9 10 11 12 13 14 15 16 17 18 19 20 21 22 23\n",
            " 24 25 26 27 28 29 30 31 32 33]. At least one non-missing value is needed for imputation with strategy='median'.\n",
            "  warnings.warn(\n",
            "/usr/local/lib/python3.10/dist-packages/sklearn/impute/_base.py:598: UserWarning: Skipping features without any observed values: [ 0  1  2  3  4  5  6  7  8  9 10 11 12 13 14 15 16 17 18 19 20 21 22 23\n",
            " 24 25 26 27 28 29 30 31 32 33]. At least one non-missing value is needed for imputation with strategy='median'.\n",
            "  warnings.warn(\n",
            "/usr/local/lib/python3.10/dist-packages/sklearn/impute/_base.py:598: UserWarning: Skipping features without any observed values: [ 0  1  2  3  4  5  6  7  8  9 10 11 12 13 14 15 16 17 18 19 20 21 22 23\n",
            " 24 25 26 27 28 29 30 31 32 33]. At least one non-missing value is needed for imputation with strategy='median'.\n",
            "  warnings.warn(\n",
            "/usr/local/lib/python3.10/dist-packages/sklearn/impute/_base.py:598: UserWarning: Skipping features without any observed values: [ 0  1  2  3  4  5  6  7  8  9 10 11 12 13 14 15 16 17 18 19 20 21 22 23\n",
            " 24 25 26 27 28 29 30 31 32 33]. At least one non-missing value is needed for imputation with strategy='median'.\n",
            "  warnings.warn(\n",
            "/usr/local/lib/python3.10/dist-packages/sklearn/impute/_base.py:598: UserWarning: Skipping features without any observed values: [ 0  1  2  3  4  5  6  7  8  9 10 11 12 13 14 15 16 17 18 19 20 21 22 23\n",
            " 24 25 26 27 28 29 30 31 32 33]. At least one non-missing value is needed for imputation with strategy='median'.\n",
            "  warnings.warn(\n",
            "/usr/local/lib/python3.10/dist-packages/sklearn/impute/_base.py:598: UserWarning: Skipping features without any observed values: [ 0  1  2  3  4  5  6  7  8  9 10 11 12 13 14 15 16 17 18 19 20 21 22 23\n",
            " 24 25 26 27 28 29 30 31 32 33]. At least one non-missing value is needed for imputation with strategy='median'.\n",
            "  warnings.warn(\n",
            "/usr/local/lib/python3.10/dist-packages/sklearn/impute/_base.py:598: UserWarning: Skipping features without any observed values: [ 0  1  2  3  4  5  6  7  8  9 10 11 12 13 14 15 16 17 18 19 20 21 22 23\n",
            " 24 25 26 27 28 29 30 31 32 33]. At least one non-missing value is needed for imputation with strategy='median'.\n",
            "  warnings.warn(\n",
            "/usr/local/lib/python3.10/dist-packages/sklearn/impute/_base.py:598: UserWarning: Skipping features without any observed values: [ 0  1  2  3  4  5  6  7  8  9 10 11 12 13 14 15 16 17 18 19 20 21 22 23\n",
            " 24 25 26 27 28 29 30 31 32 33]. At least one non-missing value is needed for imputation with strategy='median'.\n",
            "  warnings.warn(\n",
            "/usr/local/lib/python3.10/dist-packages/sklearn/impute/_base.py:598: UserWarning: Skipping features without any observed values: [ 0  1  2  3  4  5  6  7  8  9 10 11 12 13 14 15 16 17 18 19 20 21 22 23\n",
            " 24 25 26 27 28 29 30 31 32 33]. At least one non-missing value is needed for imputation with strategy='median'.\n",
            "  warnings.warn(\n",
            "/usr/local/lib/python3.10/dist-packages/sklearn/impute/_base.py:598: UserWarning: Skipping features without any observed values: [ 0  1  2  3  4  5  6  7  8  9 10 11 12 13 14 15 16 17 18 19 20 21 22 23\n",
            " 24 25 26 27 28 29 30 31 32 33]. At least one non-missing value is needed for imputation with strategy='median'.\n",
            "  warnings.warn(\n",
            "/usr/local/lib/python3.10/dist-packages/sklearn/impute/_base.py:598: UserWarning: Skipping features without any observed values: [ 0  1  2  3  4  5  6  7  8  9 10 11 12 13 14 15 16 17 18 19 20 21 22 23\n",
            " 24 25 26 27 28 29 30 31 32 33]. At least one non-missing value is needed for imputation with strategy='median'.\n",
            "  warnings.warn(\n",
            "/usr/local/lib/python3.10/dist-packages/sklearn/impute/_base.py:598: UserWarning: Skipping features without any observed values: [ 0  1  2  3  4  5  6  7  8  9 10 11 12 13 14 15 16 17 18 19 20 21 22 23\n",
            " 24 25 26 27 28 29 30 31 32 33]. At least one non-missing value is needed for imputation with strategy='median'.\n",
            "  warnings.warn(\n",
            "/usr/local/lib/python3.10/dist-packages/sklearn/impute/_base.py:598: UserWarning: Skipping features without any observed values: [ 0  1  2  3  4  5  6  7  8  9 10 11 12 13 14 15 16 17 18 19 20 21 22 23\n",
            " 24 25 26 27 28 29 30 31 32 33]. At least one non-missing value is needed for imputation with strategy='median'.\n",
            "  warnings.warn(\n",
            "/usr/local/lib/python3.10/dist-packages/sklearn/impute/_base.py:598: UserWarning: Skipping features without any observed values: [ 0  1  2  3  4  5  6  7  8  9 10 11 12 13 14 15 16 17 18 19 20 21 22 23\n",
            " 24 25 26 27 28 29 30 31 32 33]. At least one non-missing value is needed for imputation with strategy='median'.\n",
            "  warnings.warn(\n",
            "/usr/local/lib/python3.10/dist-packages/sklearn/impute/_base.py:598: UserWarning: Skipping features without any observed values: [ 0  1  2  3  4  5  6  7  8  9 10 11 12 13 14 15 16 17 18 19 20 21 22 23\n",
            " 24 25 26 27 28 29 30 31 32 33]. At least one non-missing value is needed for imputation with strategy='median'.\n",
            "  warnings.warn(\n",
            "/usr/local/lib/python3.10/dist-packages/sklearn/impute/_base.py:598: UserWarning: Skipping features without any observed values: [ 0  1  2  3  4  5  6  7  8  9 10 11 12 13 14 15 16 17 18 19 20 21 22 23\n",
            " 24 25 26 27 28 29 30 31 32 33]. At least one non-missing value is needed for imputation with strategy='median'.\n",
            "  warnings.warn(\n",
            "/usr/local/lib/python3.10/dist-packages/sklearn/impute/_base.py:598: UserWarning: Skipping features without any observed values: [ 0  1  2  3  4  5  6  7  8  9 10 11 12 13 14 15 16 17 18 19 20 21 22 23\n",
            " 24 25 26 27 28 29 30 31 32 33]. At least one non-missing value is needed for imputation with strategy='median'.\n",
            "  warnings.warn(\n",
            "/usr/local/lib/python3.10/dist-packages/sklearn/impute/_base.py:598: UserWarning: Skipping features without any observed values: [ 0  1  2  3  4  5  6  7  8  9 10 11 12 13 14 15 16 17 18 19 20 21 22 23\n",
            " 24 25 26 27 28 29 30 31 32 33]. At least one non-missing value is needed for imputation with strategy='median'.\n",
            "  warnings.warn(\n",
            "/usr/local/lib/python3.10/dist-packages/sklearn/impute/_base.py:598: UserWarning: Skipping features without any observed values: [ 0  1  2  3  4  5  6  7  8  9 10 11 12 13 14 15 16 17 18 19 20 21 22 23\n",
            " 24 25 26 27 28 29 30 31 32 33]. At least one non-missing value is needed for imputation with strategy='median'.\n",
            "  warnings.warn(\n",
            "/usr/local/lib/python3.10/dist-packages/sklearn/impute/_base.py:598: UserWarning: Skipping features without any observed values: [ 0  1  2  3  4  5  6  7  8  9 10 11 12 13 14 15 16 17 18 19 20 21 22 23\n",
            " 24 25 26 27 28 29 30 31 32 33]. At least one non-missing value is needed for imputation with strategy='median'.\n",
            "  warnings.warn(\n",
            "/usr/local/lib/python3.10/dist-packages/sklearn/impute/_base.py:598: UserWarning: Skipping features without any observed values: [ 0  1  2  3  4  5  6  7  8  9 10 11 12 13 14 15 16 17 18 19 20 21 22 23\n",
            " 24 25 26 27 28 29 30 31 32 33]. At least one non-missing value is needed for imputation with strategy='median'.\n",
            "  warnings.warn(\n",
            "/usr/local/lib/python3.10/dist-packages/sklearn/impute/_base.py:598: UserWarning: Skipping features without any observed values: [ 0  1  2  3  4  5  6  7  8  9 10 11 12 13 14 15 16 17 18 19 20 21 22 23\n",
            " 24 25 26 27 28 29 30 31 32 33]. At least one non-missing value is needed for imputation with strategy='median'.\n",
            "  warnings.warn(\n",
            "/usr/local/lib/python3.10/dist-packages/sklearn/impute/_base.py:598: UserWarning: Skipping features without any observed values: [ 0  1  2  3  4  5  6  7  8  9 10 11 12 13 14 15 16 17 18 19 20 21 22 23\n",
            " 24 25 26 27 28 29 30 31 32 33]. At least one non-missing value is needed for imputation with strategy='median'.\n",
            "  warnings.warn(\n",
            "/usr/local/lib/python3.10/dist-packages/sklearn/impute/_base.py:598: UserWarning: Skipping features without any observed values: [ 0  1  2  3  4  5  6  7  8  9 10 11 12 13 14 15 16 17 18 19 20 21 22 23\n",
            " 24 25 26 27 28 29 30 31 32 33]. At least one non-missing value is needed for imputation with strategy='median'.\n",
            "  warnings.warn(\n",
            "/usr/local/lib/python3.10/dist-packages/sklearn/impute/_base.py:598: UserWarning: Skipping features without any observed values: [ 0  1  2  3  4  5  6  7  8  9 10 11 12 13 14 15 16 17 18 19 20 21 22 23\n",
            " 24 25 26 27 28 29 30 31 32 33]. At least one non-missing value is needed for imputation with strategy='median'.\n",
            "  warnings.warn(\n",
            "/usr/local/lib/python3.10/dist-packages/sklearn/impute/_base.py:598: UserWarning: Skipping features without any observed values: [ 0  1  2  3  4  5  6  7  8  9 10 11 12 13 14 15 16 17 18 19 20 21 22 23\n",
            " 24 25 26 27 28 29 30 31 32 33]. At least one non-missing value is needed for imputation with strategy='median'.\n",
            "  warnings.warn(\n",
            "/usr/local/lib/python3.10/dist-packages/sklearn/impute/_base.py:598: UserWarning: Skipping features without any observed values: [ 0  1  2  3  4  5  6  7  8  9 10 11 12 13 14 15 16 17 18 19 20 21 22 23\n",
            " 24 25 26 27 28 29 30 31 32 33]. At least one non-missing value is needed for imputation with strategy='median'.\n",
            "  warnings.warn(\n",
            "/usr/local/lib/python3.10/dist-packages/sklearn/impute/_base.py:598: UserWarning: Skipping features without any observed values: [ 0  1  2  3  4  5  6  7  8  9 10 11 12 13 14 15 16 17 18 19 20 21 22 23\n",
            " 24 25 26 27 28 29 30 31 32 33]. At least one non-missing value is needed for imputation with strategy='median'.\n",
            "  warnings.warn(\n",
            "/usr/local/lib/python3.10/dist-packages/sklearn/impute/_base.py:598: UserWarning: Skipping features without any observed values: [ 0  1  2  3  4  5  6  7  8  9 10 11 12 13 14 15 16 17 18 19 20 21 22 23\n",
            " 24 25 26 27 28 29 30 31 32 33]. At least one non-missing value is needed for imputation with strategy='median'.\n",
            "  warnings.warn(\n",
            "/usr/local/lib/python3.10/dist-packages/sklearn/impute/_base.py:598: UserWarning: Skipping features without any observed values: [ 0  1  2  3  4  5  6  7  8  9 10 11 12 13 14 15 16 17 18 19 20 21 22 23\n",
            " 24 25 26 27 28 29 30 31 32 33]. At least one non-missing value is needed for imputation with strategy='median'.\n",
            "  warnings.warn(\n",
            "/usr/local/lib/python3.10/dist-packages/sklearn/impute/_base.py:598: UserWarning: Skipping features without any observed values: [ 0  1  2  3  4  5  6  7  8  9 10 11 12 13 14 15 16 17 18 19 20 21 22 23\n",
            " 24 25 26 27 28 29 30 31 32 33]. At least one non-missing value is needed for imputation with strategy='median'.\n",
            "  warnings.warn(\n",
            "/usr/local/lib/python3.10/dist-packages/sklearn/impute/_base.py:598: UserWarning: Skipping features without any observed values: [ 0  1  2  3  4  5  6  7  8  9 10 11 12 13 14 15 16 17 18 19 20 21 22 23\n",
            " 24 25 26 27 28 29 30 31 32 33]. At least one non-missing value is needed for imputation with strategy='median'.\n",
            "  warnings.warn(\n",
            "/usr/local/lib/python3.10/dist-packages/sklearn/impute/_base.py:598: UserWarning: Skipping features without any observed values: [ 0  1  2  3  4  5  6  7  8  9 10 11 12 13 14 15 16 17 18 19 20 21 22 23\n",
            " 24 25 26 27 28 29 30 31 32 33]. At least one non-missing value is needed for imputation with strategy='median'.\n",
            "  warnings.warn(\n",
            "/usr/local/lib/python3.10/dist-packages/sklearn/impute/_base.py:598: UserWarning: Skipping features without any observed values: [ 0  1  2  3  4  5  6  7  8  9 10 11 12 13 14 15 16 17 18 19 20 21 22 23\n",
            " 24 25 26 27 28 29 30 31 32 33]. At least one non-missing value is needed for imputation with strategy='median'.\n",
            "  warnings.warn(\n",
            "/usr/local/lib/python3.10/dist-packages/sklearn/impute/_base.py:598: UserWarning: Skipping features without any observed values: [ 0  1  2  3  4  5  6  7  8  9 10 11 12 13 14 15 16 17 18 19 20 21 22 23\n",
            " 24 25 26 27 28 29 30 31 32 33]. At least one non-missing value is needed for imputation with strategy='median'.\n",
            "  warnings.warn(\n",
            "/usr/local/lib/python3.10/dist-packages/sklearn/impute/_base.py:598: UserWarning: Skipping features without any observed values: [ 0  1  2  3  4  5  6  7  8  9 10 11 12 13 14 15 16 17 18 19 20 21 22 23\n",
            " 24 25 26 27 28 29 30 31 32 33]. At least one non-missing value is needed for imputation with strategy='median'.\n",
            "  warnings.warn(\n",
            "/usr/local/lib/python3.10/dist-packages/sklearn/impute/_base.py:598: UserWarning: Skipping features without any observed values: [ 0  1  2  3  4  5  6  7  8  9 10 11 12 13 14 15 16 17 18 19 20 21 22 23\n",
            " 24 25 26 27 28 29 30 31 32 33]. At least one non-missing value is needed for imputation with strategy='median'.\n",
            "  warnings.warn(\n",
            "/usr/local/lib/python3.10/dist-packages/sklearn/impute/_base.py:598: UserWarning: Skipping features without any observed values: [ 0  1  2  3  4  5  6  7  8  9 10 11 12 13 14 15 16 17 18 19 20 21 22 23\n",
            " 24 25 26 27 28 29 30 31 32 33]. At least one non-missing value is needed for imputation with strategy='median'.\n",
            "  warnings.warn(\n",
            "/usr/local/lib/python3.10/dist-packages/sklearn/impute/_base.py:598: UserWarning: Skipping features without any observed values: [ 0  1  2  3  4  5  6  7  8  9 10 11 12 13 14 15 16 17 18 19 20 21 22 23\n",
            " 24 25 26 27 28 29 30 31 32 33]. At least one non-missing value is needed for imputation with strategy='median'.\n",
            "  warnings.warn(\n",
            "/usr/local/lib/python3.10/dist-packages/sklearn/impute/_base.py:598: UserWarning: Skipping features without any observed values: [ 0  1  2  3  4  5  6  7  8  9 10 11 12 13 14 15 16 17 18 19 20 21 22 23\n",
            " 24 25 26 27 28 29 30 31 32 33]. At least one non-missing value is needed for imputation with strategy='median'.\n",
            "  warnings.warn(\n",
            "/usr/local/lib/python3.10/dist-packages/sklearn/impute/_base.py:598: UserWarning: Skipping features without any observed values: [ 0  1  2  3  4  5  6  7  8  9 10 11 12 13 14 15 16 17 18 19 20 21 22 23\n",
            " 24 25 26 27 28 29 30 31 32 33]. At least one non-missing value is needed for imputation with strategy='median'.\n",
            "  warnings.warn(\n",
            "/usr/local/lib/python3.10/dist-packages/sklearn/impute/_base.py:598: UserWarning: Skipping features without any observed values: [ 0  1  2  3  4  5  6  7  8  9 10 11 12 13 14 15 16 17 18 19 20 21 22 23\n",
            " 24 25 26 27 28 29 30 31 32 33]. At least one non-missing value is needed for imputation with strategy='median'.\n",
            "  warnings.warn(\n",
            "/usr/local/lib/python3.10/dist-packages/sklearn/impute/_base.py:598: UserWarning: Skipping features without any observed values: [ 0  1  2  3  4  5  6  7  8  9 10 11 12 13 14 15 16 17 18 19 20 21 22 23\n",
            " 24 25 26 27 28 29 30 31 32 33]. At least one non-missing value is needed for imputation with strategy='median'.\n",
            "  warnings.warn(\n",
            "/usr/local/lib/python3.10/dist-packages/sklearn/impute/_base.py:598: UserWarning: Skipping features without any observed values: [ 0  1  2  3  4  5  6  7  8  9 10 11 12 13 14 15 16 17 18 19 20 21 22 23\n",
            " 24 25 26 27 28 29 30 31 32 33]. At least one non-missing value is needed for imputation with strategy='median'.\n",
            "  warnings.warn(\n",
            "/usr/local/lib/python3.10/dist-packages/sklearn/impute/_base.py:598: UserWarning: Skipping features without any observed values: [ 0  1  2  3  4  5  6  7  8  9 10 11 12 13 14 15 16 17 18 19 20 21 22 23\n",
            " 24 25 26 27 28 29 30 31 32 33]. At least one non-missing value is needed for imputation with strategy='median'.\n",
            "  warnings.warn(\n",
            "/usr/local/lib/python3.10/dist-packages/sklearn/impute/_base.py:598: UserWarning: Skipping features without any observed values: [ 0  1  2  3  4  5  6  7  8  9 10 11 12 13 14 15 16 17 18 19 20 21 22 23\n",
            " 24 25 26 27 28 29 30 31 32 33]. At least one non-missing value is needed for imputation with strategy='median'.\n",
            "  warnings.warn(\n",
            "/usr/local/lib/python3.10/dist-packages/sklearn/impute/_base.py:598: UserWarning: Skipping features without any observed values: [ 0  1  2  3  4  5  6  7  8  9 10 11 12 13 14 15 16 17 18 19 20 21 22 23\n",
            " 24 25 26 27 28 29 30 31 32 33]. At least one non-missing value is needed for imputation with strategy='median'.\n",
            "  warnings.warn(\n",
            "/usr/local/lib/python3.10/dist-packages/sklearn/impute/_base.py:598: UserWarning: Skipping features without any observed values: [ 0  1  2  3  4  5  6  7  8  9 10 11 12 13 14 15 16 17 18 19 20 21 22 23\n",
            " 24 25 26 27 28 29 30 31 32 33]. At least one non-missing value is needed for imputation with strategy='median'.\n",
            "  warnings.warn(\n",
            "/usr/local/lib/python3.10/dist-packages/sklearn/impute/_base.py:598: UserWarning: Skipping features without any observed values: [ 0  1  2  3  4  5  6  7  8  9 10 11 12 13 14 15 16 17 18 19 20 21 22 23\n",
            " 24 25 26 27 28 29 30 31 32 33]. At least one non-missing value is needed for imputation with strategy='median'.\n",
            "  warnings.warn(\n",
            "/usr/local/lib/python3.10/dist-packages/sklearn/impute/_base.py:598: UserWarning: Skipping features without any observed values: [ 0  1  2  3  4  5  6  7  8  9 10 11 12 13 14 15 16 17 18 19 20 21 22 23\n",
            " 24 25 26 27 28 29 30 31 32 33]. At least one non-missing value is needed for imputation with strategy='median'.\n",
            "  warnings.warn(\n",
            "/usr/local/lib/python3.10/dist-packages/sklearn/impute/_base.py:598: UserWarning: Skipping features without any observed values: [ 0  1  2  3  4  5  6  7  8  9 10 11 12 13 14 15 16 17 18 19 20 21 22 23\n",
            " 24 25 26 27 28 29 30 31 32 33]. At least one non-missing value is needed for imputation with strategy='median'.\n",
            "  warnings.warn(\n",
            "/usr/local/lib/python3.10/dist-packages/sklearn/impute/_base.py:598: UserWarning: Skipping features without any observed values: [ 0  1  2  3  4  5  6  7  8  9 10 11 12 13 14 15 16 17 18 19 20 21 22 23\n",
            " 24 25 26 27 28 29 30 31 32 33]. At least one non-missing value is needed for imputation with strategy='median'.\n",
            "  warnings.warn(\n",
            "/usr/local/lib/python3.10/dist-packages/sklearn/impute/_base.py:598: UserWarning: Skipping features without any observed values: [ 0  1  2  3  4  5  6  7  8  9 10 11 12 13 14 15 16 17 18 19 20 21 22 23\n",
            " 24 25 26 27 28 29 30 31 32 33]. At least one non-missing value is needed for imputation with strategy='median'.\n",
            "  warnings.warn(\n",
            "/usr/local/lib/python3.10/dist-packages/sklearn/impute/_base.py:598: UserWarning: Skipping features without any observed values: [ 0  1  2  3  4  5  6  7  8  9 10 11 12 13 14 15 16 17 18 19 20 21 22 23\n",
            " 24 25 26 27 28 29 30 31 32 33]. At least one non-missing value is needed for imputation with strategy='median'.\n",
            "  warnings.warn(\n",
            "/usr/local/lib/python3.10/dist-packages/sklearn/impute/_base.py:598: UserWarning: Skipping features without any observed values: [ 0  1  2  3  4  5  6  7  8  9 10 11 12 13 14 15 16 17 18 19 20 21 22 23\n",
            " 24 25 26 27 28 29 30 31 32 33]. At least one non-missing value is needed for imputation with strategy='median'.\n",
            "  warnings.warn(\n",
            "/usr/local/lib/python3.10/dist-packages/sklearn/impute/_base.py:598: UserWarning: Skipping features without any observed values: [ 0  1  2  3  4  5  6  7  8  9 10 11 12 13 14 15 16 17 18 19 20 21 22 23\n",
            " 24 25 26 27 28 29 30 31 32 33]. At least one non-missing value is needed for imputation with strategy='median'.\n",
            "  warnings.warn(\n",
            "/usr/local/lib/python3.10/dist-packages/sklearn/impute/_base.py:598: UserWarning: Skipping features without any observed values: [ 0  1  2  3  4  5  6  7  8  9 10 11 12 13 14 15 16 17 18 19 20 21 22 23\n",
            " 24 25 26 27 28 29 30 31 32 33]. At least one non-missing value is needed for imputation with strategy='median'.\n",
            "  warnings.warn(\n",
            "/usr/local/lib/python3.10/dist-packages/sklearn/impute/_base.py:598: UserWarning: Skipping features without any observed values: [ 0  1  2  3  4  5  6  7  8  9 10 11 12 13 14 15 16 17 18 19 20 21 22 23\n",
            " 24 25 26 27 28 29 30 31 32 33]. At least one non-missing value is needed for imputation with strategy='median'.\n",
            "  warnings.warn(\n",
            "/usr/local/lib/python3.10/dist-packages/sklearn/impute/_base.py:598: UserWarning: Skipping features without any observed values: [ 0  1  2  3  4  5  6  7  8  9 10 11 12 13 14 15 16 17 18 19 20 21 22 23\n",
            " 24 25 26 27 28 29 30 31 32 33]. At least one non-missing value is needed for imputation with strategy='median'.\n",
            "  warnings.warn(\n",
            "/usr/local/lib/python3.10/dist-packages/sklearn/impute/_base.py:598: UserWarning: Skipping features without any observed values: [ 0  1  2  3  4  5  6  7  8  9 10 11 12 13 14 15 16 17 18 19 20 21 22 23\n",
            " 24 25 26 27 28 29 30 31 32 33]. At least one non-missing value is needed for imputation with strategy='median'.\n",
            "  warnings.warn(\n",
            "/usr/local/lib/python3.10/dist-packages/sklearn/impute/_base.py:598: UserWarning: Skipping features without any observed values: [ 0  1  2  3  4  5  6  7  8  9 10 11 12 13 14 15 16 17 18 19 20 21 22 23\n",
            " 24 25 26 27 28 29 30 31 32 33]. At least one non-missing value is needed for imputation with strategy='median'.\n",
            "  warnings.warn(\n",
            "/usr/local/lib/python3.10/dist-packages/sklearn/impute/_base.py:598: UserWarning: Skipping features without any observed values: [ 0  1  2  3  4  5  6  7  8  9 10 11 12 13 14 15 16 17 18 19 20 21 22 23\n",
            " 24 25 26 27 28 29 30 31 32 33]. At least one non-missing value is needed for imputation with strategy='median'.\n",
            "  warnings.warn(\n",
            "/usr/local/lib/python3.10/dist-packages/sklearn/impute/_base.py:598: UserWarning: Skipping features without any observed values: [ 0  1  2  3  4  5  6  7  8  9 10 11 12 13 14 15 16 17 18 19 20 21 22 23\n",
            " 24 25 26 27 28 29 30 31 32 33]. At least one non-missing value is needed for imputation with strategy='median'.\n",
            "  warnings.warn(\n",
            "/usr/local/lib/python3.10/dist-packages/sklearn/impute/_base.py:598: UserWarning: Skipping features without any observed values: [ 0  1  2  3  4  5  6  7  8  9 10 11 12 13 14 15 16 17 18 19 20 21 22 23\n",
            " 24 25 26 27 28 29 30 31 32 33]. At least one non-missing value is needed for imputation with strategy='median'.\n",
            "  warnings.warn(\n",
            "/usr/local/lib/python3.10/dist-packages/sklearn/impute/_base.py:598: UserWarning: Skipping features without any observed values: [ 0  1  2  3  4  5  6  7  8  9 10 11 12 13 14 15 16 17 18 19 20 21 22 23\n",
            " 24 25 26 27 28 29 30 31 32 33]. At least one non-missing value is needed for imputation with strategy='median'.\n",
            "  warnings.warn(\n",
            "/usr/local/lib/python3.10/dist-packages/sklearn/impute/_base.py:598: UserWarning: Skipping features without any observed values: [ 0  1  2  3  4  5  6  7  8  9 10 11 12 13 14 15 16 17 18 19 20 21 22 23\n",
            " 24 25 26 27 28 29 30 31 32 33]. At least one non-missing value is needed for imputation with strategy='median'.\n",
            "  warnings.warn(\n",
            "/usr/local/lib/python3.10/dist-packages/sklearn/impute/_base.py:598: UserWarning: Skipping features without any observed values: [ 0  1  2  3  4  5  6  7  8  9 10 11 12 13 14 15 16 17 18 19 20 21 22 23\n",
            " 24 25 26 27 28 29 30 31 32 33]. At least one non-missing value is needed for imputation with strategy='median'.\n",
            "  warnings.warn(\n",
            "/usr/local/lib/python3.10/dist-packages/sklearn/impute/_base.py:598: UserWarning: Skipping features without any observed values: [ 0  1  2  3  4  5  6  7  8  9 10 11 12 13 14 15 16 17 18 19 20 21 22 23\n",
            " 24 25 26 27 28 29 30 31 32 33]. At least one non-missing value is needed for imputation with strategy='median'.\n",
            "  warnings.warn(\n",
            "/usr/local/lib/python3.10/dist-packages/sklearn/impute/_base.py:598: UserWarning: Skipping features without any observed values: [ 0  1  2  3  4  5  6  7  8  9 10 11 12 13 14 15 16 17 18 19 20 21 22 23\n",
            " 24 25 26 27 28 29 30 31 32 33]. At least one non-missing value is needed for imputation with strategy='median'.\n",
            "  warnings.warn(\n",
            "/usr/local/lib/python3.10/dist-packages/sklearn/impute/_base.py:598: UserWarning: Skipping features without any observed values: [ 0  1  2  3  4  5  6  7  8  9 10 11 12 13 14 15 16 17 18 19 20 21 22 23\n",
            " 24 25 26 27 28 29 30 31 32 33]. At least one non-missing value is needed for imputation with strategy='median'.\n",
            "  warnings.warn(\n",
            "/usr/local/lib/python3.10/dist-packages/sklearn/impute/_base.py:598: UserWarning: Skipping features without any observed values: [ 0  1  2  3  4  5  6  7  8  9 10 11 12 13 14 15 16 17 18 19 20 21 22 23\n",
            " 24 25 26 27 28 29 30 31 32 33]. At least one non-missing value is needed for imputation with strategy='median'.\n",
            "  warnings.warn(\n",
            "/usr/local/lib/python3.10/dist-packages/sklearn/impute/_base.py:598: UserWarning: Skipping features without any observed values: [ 0  1  2  3  4  5  6  7  8  9 10 11 12 13 14 15 16 17 18 19 20 21 22 23\n",
            " 24 25 26 27 28 29 30 31 32 33]. At least one non-missing value is needed for imputation with strategy='median'.\n",
            "  warnings.warn(\n",
            "/usr/local/lib/python3.10/dist-packages/sklearn/impute/_base.py:598: UserWarning: Skipping features without any observed values: [ 0  1  2  3  4  5  6  7  8  9 10 11 12 13 14 15 16 17 18 19 20 21 22 23\n",
            " 24 25 26 27 28 29 30 31 32 33]. At least one non-missing value is needed for imputation with strategy='median'.\n",
            "  warnings.warn(\n",
            "/usr/local/lib/python3.10/dist-packages/sklearn/impute/_base.py:598: UserWarning: Skipping features without any observed values: [ 0  1  2  3  4  5  6  7  8  9 10 11 12 13 14 15 16 17 18 19 20 21 22 23\n",
            " 24 25 26 27 28 29 30 31 32 33]. At least one non-missing value is needed for imputation with strategy='median'.\n",
            "  warnings.warn(\n",
            "/usr/local/lib/python3.10/dist-packages/sklearn/impute/_base.py:598: UserWarning: Skipping features without any observed values: [ 0  1  2  3  4  5  6  7  8  9 10 11 12 13 14 15 16 17 18 19 20 21 22 23\n",
            " 24 25 26 27 28 29 30 31 32 33]. At least one non-missing value is needed for imputation with strategy='median'.\n",
            "  warnings.warn(\n"
          ]
        }
      ]
    },
    {
      "cell_type": "code",
      "source": [
        "import numpy as np\n",
        "import os\n",
        "import rasterio\n",
        "\n",
        "folder_path = '/content/drive/My Drive/NDVI_images/imputed'\n",
        "\n",
        "def check_for_nan(image_path):\n",
        "    with rasterio.open(image_path) as src:\n",
        "        image = src.read(1)  # Lecture de la première bande\n",
        "\n",
        "    # Vérifier s'il reste des NaN\n",
        "    if np.isnan(image).any():\n",
        "        print(f\"Il reste des NaN dans {image_path}\")\n",
        "    else:\n",
        "        print(f\"Pas de NaN dans {image_path}\")\n",
        "\n",
        "# Parcourir toutes les images dans le dossier imputé\n",
        "for filename in os.listdir(folder_path):\n",
        "    if filename.endswith(\".tif\"):\n",
        "        file_path = os.path.join(folder_path, filename)\n",
        "        check_for_nan(file_path)\n"
      ],
      "metadata": {
        "collapsed": true,
        "colab": {
          "base_uri": "https://localhost:8080/"
        },
        "id": "COalmbT8RW81",
        "outputId": "6864560d-7d3f-4e2b-ba2a-01581a46b72b"
      },
      "execution_count": 7,
      "outputs": [
        {
          "output_type": "stream",
          "name": "stdout",
          "text": [
            "Pas de NaN dans /content/drive/My Drive/NDVI_images/imputed/NDVI_2013-12-30.tif\n",
            "Pas de NaN dans /content/drive/My Drive/NDVI_images/imputed/NDVI_2014-03-20.tif\n",
            "Pas de NaN dans /content/drive/My Drive/NDVI_images/imputed/NDVI_2015-04-24.tif\n",
            "Pas de NaN dans /content/drive/My Drive/NDVI_images/imputed/NDVI_2015-05-10.tif\n",
            "Pas de NaN dans /content/drive/My Drive/NDVI_images/imputed/NDVI_2020-05-07.tif\n",
            "Pas de NaN dans /content/drive/My Drive/NDVI_images/imputed/NDVI_2013-07-14(1).tif\n",
            "Pas de NaN dans /content/drive/My Drive/NDVI_images/imputed/NDVI_2013-08-15(1).tif\n",
            "Pas de NaN dans /content/drive/My Drive/NDVI_images/imputed/NDVI_2014-07-17(1).tif\n",
            "Pas de NaN dans /content/drive/My Drive/NDVI_images/imputed/NDVI_2014-07-01.tif\n",
            "Pas de NaN dans /content/drive/My Drive/NDVI_images/imputed/NDVI_2015-04-15.tif\n",
            "Pas de NaN dans /content/drive/My Drive/NDVI_images/imputed/NDVI_2015-07-04(1).tif\n",
            "Pas de NaN dans /content/drive/My Drive/NDVI_images/imputed/NDVI_2015-08-21(1).tif\n",
            "Pas de NaN dans /content/drive/My Drive/NDVI_images/imputed/NDVI_2015-08-05(1).tif\n",
            "Pas de NaN dans /content/drive/My Drive/NDVI_images/imputed/NDVI_2016-08-23(1).tif\n",
            "Pas de NaN dans /content/drive/My Drive/NDVI_images/imputed/NDVI_2016-08-07(1).tif\n",
            "Pas de NaN dans /content/drive/My Drive/NDVI_images/imputed/NDVI_2016-09-08(1).tif\n",
            "Pas de NaN dans /content/drive/My Drive/NDVI_images/imputed/NDVI_2016-09-24(1).tif\n",
            "Pas de NaN dans /content/drive/My Drive/NDVI_images/imputed/NDVI_2017-04-20(1).tif\n",
            "Pas de NaN dans /content/drive/My Drive/NDVI_images/imputed/NDVI_2017-02-15.tif\n",
            "Pas de NaN dans /content/drive/My Drive/NDVI_images/imputed/NDVI_2017-05-22(1).tif\n",
            "Pas de NaN dans /content/drive/My Drive/NDVI_images/imputed/NDVI_2017-08-26(1).tif\n",
            "Pas de NaN dans /content/drive/My Drive/NDVI_images/imputed/NDVI_2017-10-13(1).tif\n",
            "Pas de NaN dans /content/drive/My Drive/NDVI_images/imputed/NDVI_2018-05-25(1).tif\n",
            "Pas de NaN dans /content/drive/My Drive/NDVI_images/imputed/NDVI_2018-06-26(1).tif\n",
            "Pas de NaN dans /content/drive/My Drive/NDVI_images/imputed/NDVI_2018-09-30.tif\n",
            "Pas de NaN dans /content/drive/My Drive/NDVI_images/imputed/NDVI_2019-02-05(1).tif\n",
            "Pas de NaN dans /content/drive/My Drive/NDVI_images/imputed/NDVI_2019-06-13(1).tif\n",
            "Pas de NaN dans /content/drive/My Drive/NDVI_images/imputed/NDVI_2019-06-29(1).tif\n",
            "Pas de NaN dans /content/drive/My Drive/NDVI_images/imputed/NDVI_2019-02-21(1).tif\n",
            "Pas de NaN dans /content/drive/My Drive/NDVI_images/imputed/NDVI_2019-10-03(1).tif\n",
            "Pas de NaN dans /content/drive/My Drive/NDVI_images/imputed/NDVI_2020-03-27.tif\n",
            "Pas de NaN dans /content/drive/My Drive/NDVI_images/imputed/NDVI_2020-05-30.tif\n",
            "Pas de NaN dans /content/drive/My Drive/NDVI_images/imputed/NDVI_2021-07-20(1).tif\n",
            "Pas de NaN dans /content/drive/My Drive/NDVI_images/imputed/NDVI_2021-03-30(1).tif\n",
            "Pas de NaN dans /content/drive/My Drive/NDVI_images/imputed/NDVI_2021-08-21(1).tif\n",
            "Pas de NaN dans /content/drive/My Drive/NDVI_images/imputed/NDVI_2021-09-06(1).tif\n",
            "Pas de NaN dans /content/drive/My Drive/NDVI_images/imputed/NDVI_2022-01-12.tif\n",
            "Pas de NaN dans /content/drive/My Drive/NDVI_images/imputed/NDVI_2022-02-13(1).tif\n",
            "Pas de NaN dans /content/drive/My Drive/NDVI_images/imputed/NDVI_2021-10-24(1).tif\n",
            "Pas de NaN dans /content/drive/My Drive/NDVI_images/imputed/NDVI_2022-04-18(1).tif\n",
            "Pas de NaN dans /content/drive/My Drive/NDVI_images/imputed/NDVI_2022-05-20(1).tif\n",
            "Pas de NaN dans /content/drive/My Drive/NDVI_images/imputed/NDVI_2022-08-08(1).tif\n",
            "Pas de NaN dans /content/drive/My Drive/NDVI_images/imputed/NDVI_2022-10-27(1).tif\n",
            "Pas de NaN dans /content/drive/My Drive/NDVI_images/imputed/NDVI_2023-04-05(1).tif\n",
            "Pas de NaN dans /content/drive/My Drive/NDVI_images/imputed/NDVI_2023-06-24(1).tif\n",
            "Pas de NaN dans /content/drive/My Drive/NDVI_images/imputed/NDVI_2023-08-11(1).tif\n",
            "Pas de NaN dans /content/drive/My Drive/NDVI_images/imputed/NDVI_2013-05-27.tif\n",
            "Pas de NaN dans /content/drive/My Drive/NDVI_images/imputed/NDVI_2013-04-25.tif\n",
            "Pas de NaN dans /content/drive/My Drive/NDVI_images/imputed/NDVI_2013-07-14.tif\n",
            "Pas de NaN dans /content/drive/My Drive/NDVI_images/imputed/NDVI_2013-08-15.tif\n",
            "Pas de NaN dans /content/drive/My Drive/NDVI_images/imputed/NDVI_2013-08-31.tif\n",
            "Pas de NaN dans /content/drive/My Drive/NDVI_images/imputed/NDVI_2014-07-17.tif\n",
            "Pas de NaN dans /content/drive/My Drive/NDVI_images/imputed/NDVI_2014-11-22.tif\n",
            "Pas de NaN dans /content/drive/My Drive/NDVI_images/imputed/NDVI_2015-07-20.tif\n",
            "Pas de NaN dans /content/drive/My Drive/NDVI_images/imputed/NDVI_2015-07-04.tif\n",
            "Pas de NaN dans /content/drive/My Drive/NDVI_images/imputed/NDVI_2015-08-21.tif\n",
            "Pas de NaN dans /content/drive/My Drive/NDVI_images/imputed/NDVI_2016-08-07.tif\n",
            "Pas de NaN dans /content/drive/My Drive/NDVI_images/imputed/NDVI_2015-08-05.tif\n",
            "Pas de NaN dans /content/drive/My Drive/NDVI_images/imputed/NDVI_2016-08-23.tif\n",
            "Pas de NaN dans /content/drive/My Drive/NDVI_images/imputed/NDVI_2016-09-08.tif\n",
            "Pas de NaN dans /content/drive/My Drive/NDVI_images/imputed/NDVI_2016-09-24.tif\n",
            "Pas de NaN dans /content/drive/My Drive/NDVI_images/imputed/NDVI_2017-04-20.tif\n",
            "Pas de NaN dans /content/drive/My Drive/NDVI_images/imputed/NDVI_2017-08-26.tif\n",
            "Pas de NaN dans /content/drive/My Drive/NDVI_images/imputed/NDVI_2017-05-22.tif\n",
            "Pas de NaN dans /content/drive/My Drive/NDVI_images/imputed/NDVI_2018-03-22.tif\n",
            "Pas de NaN dans /content/drive/My Drive/NDVI_images/imputed/NDVI_2017-10-13.tif\n",
            "Pas de NaN dans /content/drive/My Drive/NDVI_images/imputed/NDVI_2018-05-25.tif\n",
            "Pas de NaN dans /content/drive/My Drive/NDVI_images/imputed/NDVI_2018-06-26.tif\n",
            "Pas de NaN dans /content/drive/My Drive/NDVI_images/imputed/NDVI_2019-01-04.tif\n",
            "Pas de NaN dans /content/drive/My Drive/NDVI_images/imputed/NDVI_2019-02-21.tif\n",
            "Pas de NaN dans /content/drive/My Drive/NDVI_images/imputed/NDVI_2019-02-05.tif\n",
            "Pas de NaN dans /content/drive/My Drive/NDVI_images/imputed/NDVI_2019-06-13.tif\n",
            "Pas de NaN dans /content/drive/My Drive/NDVI_images/imputed/NDVI_2019-06-29.tif\n",
            "Pas de NaN dans /content/drive/My Drive/NDVI_images/imputed/NDVI_2019-10-03.tif\n",
            "Pas de NaN dans /content/drive/My Drive/NDVI_images/imputed/NDVI_2021-02-26.tif\n",
            "Pas de NaN dans /content/drive/My Drive/NDVI_images/imputed/NDVI_2019-09-17.tif\n",
            "Pas de NaN dans /content/drive/My Drive/NDVI_images/imputed/NDVI_2020-02-24.tif\n",
            "Pas de NaN dans /content/drive/My Drive/NDVI_images/imputed/NDVI_2021-03-30.tif\n",
            "Pas de NaN dans /content/drive/My Drive/NDVI_images/imputed/NDVI_2021-08-21.tif\n",
            "Pas de NaN dans /content/drive/My Drive/NDVI_images/imputed/NDVI_2021-07-20.tif\n",
            "Pas de NaN dans /content/drive/My Drive/NDVI_images/imputed/NDVI_2021-09-06.tif\n",
            "Pas de NaN dans /content/drive/My Drive/NDVI_images/imputed/NDVI_2021-10-24.tif\n",
            "Pas de NaN dans /content/drive/My Drive/NDVI_images/imputed/NDVI_2022-02-13.tif\n",
            "Pas de NaN dans /content/drive/My Drive/NDVI_images/imputed/NDVI_2022-04-18.tif\n",
            "Pas de NaN dans /content/drive/My Drive/NDVI_images/imputed/NDVI_2022-07-07.tif\n",
            "Pas de NaN dans /content/drive/My Drive/NDVI_images/imputed/NDVI_2022-05-20.tif\n",
            "Pas de NaN dans /content/drive/My Drive/NDVI_images/imputed/NDVI_2022-08-08.tif\n",
            "Pas de NaN dans /content/drive/My Drive/NDVI_images/imputed/NDVI_2022-10-27.tif\n",
            "Pas de NaN dans /content/drive/My Drive/NDVI_images/imputed/NDVI_2023-02-16.tif\n",
            "Pas de NaN dans /content/drive/My Drive/NDVI_images/imputed/NDVI_2023-01-31.tif\n",
            "Pas de NaN dans /content/drive/My Drive/NDVI_images/imputed/NDVI_2023-04-05.tif\n",
            "Pas de NaN dans /content/drive/My Drive/NDVI_images/imputed/NDVI_2023-06-24.tif\n",
            "Pas de NaN dans /content/drive/My Drive/NDVI_images/imputed/NDVI_2023-08-11.tif\n"
          ]
        }
      ]
    },
    {
      "cell_type": "markdown",
      "source": [
        "To have more images and to reduce computational cost, we decide to devide them into sub-images of 32x32 pixels."
      ],
      "metadata": {
        "id": "koSOQva9bP_2"
      }
    },
    {
      "cell_type": "code",
      "source": [
        "from PIL import Image\n",
        "import os\n",
        "def split_image(image_path, output_folder, sub_image_size=(32, 32)):\n",
        "    # Open image\n",
        "    img = Image.open(image_path)\n",
        "    img_width, img_height = img.size\n",
        "\n",
        "    # Image count\n",
        "    count = 0\n",
        "\n",
        "    # Division\n",
        "    for i in range(0, img_width, sub_image_size[0]):\n",
        "        for j in range(0, img_height, sub_image_size[1]):\n",
        "            # Cutting box\n",
        "            box = (i, j, i + sub_image_size[0], j + sub_image_size[1])\n",
        "            # Cutting\n",
        "            sub_image = img.crop(box)\n",
        "            # Verification (size)\n",
        "            if sub_image.size[0] > 0 and sub_image.size[1] > 0:\n",
        "                # Saving\n",
        "                sub_image.save(os.path.join(output_folder, f\"{os.path.splitext(os.path.basename(image_path))[0]}_sub_image_{count}.tif\"))\n",
        "                count += 1\n",
        "    print(count)\n",
        "\n",
        "def process_all_images(input_folder, output_folder):\n",
        "    # List all tif file in input folder\n",
        "    for filename in os.listdir(input_folder):\n",
        "        if filename.endswith('.tif'):\n",
        "            image_path = os.path.join(input_folder, filename)\n",
        "            print(f\"Image in treatment : {filename}\")\n",
        "            split_image(image_path, output_folder)\n"
      ],
      "metadata": {
        "id": "wLfxyfLybbBC"
      },
      "execution_count": 8,
      "outputs": []
    },
    {
      "cell_type": "code",
      "source": [
        "#Split our images\n",
        "folder_path = '/content/drive/My Drive/NDVI_images/imputed'\n",
        "output_folder = '/content/drive/My Drive/NDVI_images/split'\n",
        "process_all_images(folder_path, output_folder)"
      ],
      "metadata": {
        "colab": {
          "base_uri": "https://localhost:8080/"
        },
        "id": "LE_VUrGCcKNo",
        "outputId": "749e9faf-19e5-4ca8-ad99-f17efcecafab"
      },
      "execution_count": 9,
      "outputs": [
        {
          "output_type": "stream",
          "name": "stdout",
          "text": [
            "Image in treatment : NDVI_2013-12-30.tif\n",
            "88\n",
            "Image in treatment : NDVI_2014-03-20.tif\n",
            "88\n",
            "Image in treatment : NDVI_2015-04-24.tif\n",
            "88\n",
            "Image in treatment : NDVI_2015-05-10.tif\n",
            "88\n",
            "Image in treatment : NDVI_2020-05-07.tif\n",
            "88\n",
            "Image in treatment : NDVI_2013-07-14(1).tif\n",
            "88\n",
            "Image in treatment : NDVI_2013-08-15(1).tif\n",
            "88\n",
            "Image in treatment : NDVI_2014-07-17(1).tif\n",
            "88\n",
            "Image in treatment : NDVI_2014-07-01.tif\n",
            "88\n",
            "Image in treatment : NDVI_2015-04-15.tif\n",
            "88\n",
            "Image in treatment : NDVI_2015-07-04(1).tif\n",
            "88\n",
            "Image in treatment : NDVI_2015-08-21(1).tif\n",
            "88\n",
            "Image in treatment : NDVI_2015-08-05(1).tif\n",
            "88\n",
            "Image in treatment : NDVI_2016-08-23(1).tif\n",
            "88\n",
            "Image in treatment : NDVI_2016-08-07(1).tif\n",
            "88\n",
            "Image in treatment : NDVI_2016-09-08(1).tif\n",
            "88\n",
            "Image in treatment : NDVI_2016-09-24(1).tif\n",
            "88\n",
            "Image in treatment : NDVI_2017-04-20(1).tif\n",
            "88\n",
            "Image in treatment : NDVI_2017-02-15.tif\n",
            "88\n",
            "Image in treatment : NDVI_2017-05-22(1).tif\n",
            "88\n",
            "Image in treatment : NDVI_2017-08-26(1).tif\n",
            "88\n",
            "Image in treatment : NDVI_2017-10-13(1).tif\n",
            "88\n",
            "Image in treatment : NDVI_2018-05-25(1).tif\n",
            "88\n",
            "Image in treatment : NDVI_2018-06-26(1).tif\n",
            "88\n",
            "Image in treatment : NDVI_2018-09-30.tif\n",
            "88\n",
            "Image in treatment : NDVI_2019-02-05(1).tif\n",
            "88\n",
            "Image in treatment : NDVI_2019-06-13(1).tif\n",
            "88\n",
            "Image in treatment : NDVI_2019-06-29(1).tif\n",
            "88\n",
            "Image in treatment : NDVI_2019-02-21(1).tif\n",
            "88\n",
            "Image in treatment : NDVI_2019-10-03(1).tif\n",
            "88\n",
            "Image in treatment : NDVI_2020-03-27.tif\n",
            "88\n",
            "Image in treatment : NDVI_2020-05-30.tif\n",
            "88\n",
            "Image in treatment : NDVI_2021-07-20(1).tif\n",
            "88\n",
            "Image in treatment : NDVI_2021-03-30(1).tif\n",
            "88\n",
            "Image in treatment : NDVI_2021-08-21(1).tif\n",
            "88\n",
            "Image in treatment : NDVI_2021-09-06(1).tif\n",
            "88\n",
            "Image in treatment : NDVI_2022-01-12.tif\n",
            "88\n",
            "Image in treatment : NDVI_2022-02-13(1).tif\n",
            "88\n",
            "Image in treatment : NDVI_2021-10-24(1).tif\n",
            "88\n",
            "Image in treatment : NDVI_2022-04-18(1).tif\n",
            "88\n",
            "Image in treatment : NDVI_2022-05-20(1).tif\n",
            "88\n",
            "Image in treatment : NDVI_2022-08-08(1).tif\n",
            "88\n",
            "Image in treatment : NDVI_2022-10-27(1).tif\n",
            "88\n",
            "Image in treatment : NDVI_2023-04-05(1).tif\n",
            "88\n",
            "Image in treatment : NDVI_2023-06-24(1).tif\n",
            "88\n",
            "Image in treatment : NDVI_2023-08-11(1).tif\n",
            "88\n",
            "Image in treatment : NDVI_2013-05-27.tif\n",
            "88\n",
            "Image in treatment : NDVI_2013-04-25.tif\n",
            "88\n",
            "Image in treatment : NDVI_2013-07-14.tif\n",
            "88\n",
            "Image in treatment : NDVI_2013-08-15.tif\n",
            "88\n",
            "Image in treatment : NDVI_2013-08-31.tif\n",
            "88\n",
            "Image in treatment : NDVI_2014-07-17.tif\n",
            "88\n",
            "Image in treatment : NDVI_2014-11-22.tif\n",
            "88\n",
            "Image in treatment : NDVI_2015-07-20.tif\n",
            "88\n",
            "Image in treatment : NDVI_2015-07-04.tif\n",
            "88\n",
            "Image in treatment : NDVI_2015-08-21.tif\n",
            "88\n",
            "Image in treatment : NDVI_2016-08-07.tif\n",
            "88\n",
            "Image in treatment : NDVI_2015-08-05.tif\n",
            "88\n",
            "Image in treatment : NDVI_2016-08-23.tif\n",
            "88\n",
            "Image in treatment : NDVI_2016-09-08.tif\n",
            "88\n",
            "Image in treatment : NDVI_2016-09-24.tif\n",
            "88\n",
            "Image in treatment : NDVI_2017-04-20.tif\n",
            "88\n",
            "Image in treatment : NDVI_2017-08-26.tif\n",
            "88\n",
            "Image in treatment : NDVI_2017-05-22.tif\n",
            "88\n",
            "Image in treatment : NDVI_2018-03-22.tif\n",
            "88\n",
            "Image in treatment : NDVI_2017-10-13.tif\n",
            "88\n",
            "Image in treatment : NDVI_2018-05-25.tif\n",
            "88\n",
            "Image in treatment : NDVI_2018-06-26.tif\n",
            "88\n",
            "Image in treatment : NDVI_2019-01-04.tif\n",
            "88\n",
            "Image in treatment : NDVI_2019-02-21.tif\n",
            "88\n",
            "Image in treatment : NDVI_2019-02-05.tif\n",
            "88\n",
            "Image in treatment : NDVI_2019-06-13.tif\n",
            "88\n",
            "Image in treatment : NDVI_2019-06-29.tif\n",
            "88\n",
            "Image in treatment : NDVI_2019-10-03.tif\n",
            "88\n",
            "Image in treatment : NDVI_2021-02-26.tif\n",
            "88\n",
            "Image in treatment : NDVI_2019-09-17.tif\n",
            "88\n",
            "Image in treatment : NDVI_2020-02-24.tif\n",
            "88\n",
            "Image in treatment : NDVI_2021-03-30.tif\n",
            "88\n",
            "Image in treatment : NDVI_2021-08-21.tif\n",
            "88\n",
            "Image in treatment : NDVI_2021-07-20.tif\n",
            "88\n",
            "Image in treatment : NDVI_2021-09-06.tif\n",
            "88\n",
            "Image in treatment : NDVI_2021-10-24.tif\n",
            "88\n",
            "Image in treatment : NDVI_2022-02-13.tif\n",
            "88\n",
            "Image in treatment : NDVI_2022-04-18.tif\n",
            "88\n",
            "Image in treatment : NDVI_2022-07-07.tif\n",
            "88\n",
            "Image in treatment : NDVI_2022-05-20.tif\n",
            "88\n",
            "Image in treatment : NDVI_2022-08-08.tif\n",
            "88\n",
            "Image in treatment : NDVI_2022-10-27.tif\n",
            "88\n",
            "Image in treatment : NDVI_2023-02-16.tif\n",
            "88\n",
            "Image in treatment : NDVI_2023-01-31.tif\n",
            "88\n",
            "Image in treatment : NDVI_2023-04-05.tif\n",
            "88\n",
            "Image in treatment : NDVI_2023-06-24.tif\n",
            "88\n",
            "Image in treatment : NDVI_2023-08-11.tif\n",
            "88\n"
          ]
        }
      ]
    },
    {
      "cell_type": "markdown",
      "source": [
        "Images are now splitted. We now have 8184 images to use for our model."
      ],
      "metadata": {
        "id": "hpNX1_Kpb_7J"
      }
    },
    {
      "cell_type": "markdown",
      "source": [
        "### 2. Convolutional Neural Network (CNN)"
      ],
      "metadata": {
        "id": "UdAvLQAwcHnS"
      }
    },
    {
      "cell_type": "code",
      "source": [
        "from google.colab import drive\n",
        "drive.mount('/content/drive')\n",
        "\n",
        "import numpy as np\n",
        "import matplotlib.pyplot as plt\n",
        "import tensorflow as tf\n",
        "from tensorflow.keras import layers, models\n",
        "from tensorflow.keras.preprocessing.image import ImageDataGenerator\n",
        "\n"
      ],
      "metadata": {
        "id": "oWadx2Mzb_tW",
        "outputId": "e64a12ed-a7f7-4428-f6e8-8f85ce415519",
        "colab": {
          "base_uri": "https://localhost:8080/"
        }
      },
      "execution_count": 1,
      "outputs": [
        {
          "output_type": "stream",
          "name": "stdout",
          "text": [
            "Mounted at /content/drive\n"
          ]
        }
      ]
    },
    {
      "cell_type": "code",
      "source": [
        "#drive.flush_and_unmount('/content/drive')"
      ],
      "metadata": {
        "colab": {
          "base_uri": "https://localhost:8080/"
        },
        "id": "7UoNA7pCpBc1",
        "outputId": "69037676-fca1-49a2-d8ee-a2652c1500c7"
      },
      "execution_count": null,
      "outputs": [
        {
          "output_type": "stream",
          "name": "stdout",
          "text": [
            "Drive not mounted, so nothing to flush and unmount.\n"
          ]
        }
      ]
    },
    {
      "cell_type": "markdown",
      "source": [
        "#### 2.1 Split the dataset into train, test and validation set"
      ],
      "metadata": {
        "id": "lLYQhVw4hNOr"
      }
    },
    {
      "cell_type": "code",
      "source": [
        "import os\n",
        "import random\n",
        "import shutil"
      ],
      "metadata": {
        "id": "DE0mzlezpO-Y"
      },
      "execution_count": 11,
      "outputs": []
    },
    {
      "cell_type": "code",
      "source": [
        "# Define the source directory and the new directories for train, validation, and test sets\n",
        "source_dir = '/content/drive/My Drive/NDVI_images/split'\n",
        "train_dir = '/content/drive/My Drive/NDVI_images/train'\n",
        "val_dir = '/content/drive/My Drive/NDVI_images/validation'\n",
        "test_dir = '/content/drive/My Drive/NDVI_images/test'"
      ],
      "metadata": {
        "id": "hTIBgZLs7EaN"
      },
      "execution_count": 12,
      "outputs": []
    },
    {
      "cell_type": "code",
      "source": [
        "# Create the new directories if they don't exist\n",
        "for dir in [train_dir, val_dir, test_dir]:\n",
        "    if not os.path.exists(dir):\n",
        "        os.makedirs(dir)"
      ],
      "metadata": {
        "id": "72SEH1Dj7Ia2"
      },
      "execution_count": 13,
      "outputs": []
    },
    {
      "cell_type": "code",
      "source": [
        "# Get all image files from the source directory\n",
        "all_images = [f for f in os.listdir(source_dir) if f.endswith(('.tif'))]"
      ],
      "metadata": {
        "id": "2GmxYQvz7MRy"
      },
      "execution_count": 14,
      "outputs": []
    },
    {
      "cell_type": "code",
      "source": [
        "# Shuffle the list of images\n",
        "random.shuffle(all_images)"
      ],
      "metadata": {
        "id": "qFXAsbIV7Rcx"
      },
      "execution_count": 15,
      "outputs": []
    },
    {
      "cell_type": "code",
      "source": [
        "len(all_images)"
      ],
      "metadata": {
        "colab": {
          "base_uri": "https://localhost:8080/"
        },
        "id": "_1RbvEtWt2iJ",
        "outputId": "61ad757d-5b30-4f1c-d578-4a3c0f41166c"
      },
      "execution_count": 16,
      "outputs": [
        {
          "output_type": "execute_result",
          "data": {
            "text/plain": [
              "8184"
            ]
          },
          "metadata": {},
          "execution_count": 16
        }
      ]
    },
    {
      "cell_type": "code",
      "source": [
        "# Calculate the number of images for each set\n",
        "total_images = len(all_images)\n",
        "train_split = int(0.7 * total_images)\n",
        "val_split = int(0.2 * total_images)"
      ],
      "metadata": {
        "id": "I5kxeksp7Usz"
      },
      "execution_count": 17,
      "outputs": []
    },
    {
      "cell_type": "code",
      "source": [
        "# Split the images into train, validation, and test sets\n",
        "train_images = all_images[:train_split]\n",
        "val_images = all_images[train_split:train_split+val_split]\n",
        "test_images = all_images[train_split+val_split:]"
      ],
      "metadata": {
        "id": "CcBz6vo-7a-7"
      },
      "execution_count": 18,
      "outputs": []
    },
    {
      "cell_type": "code",
      "source": [
        "# Function to copy images to their respective directories\n",
        "def copy_images(image_list, destination):\n",
        "    for image in image_list:\n",
        "        src = os.path.join(source_dir, image)\n",
        "        dst = os.path.join(destination, image)\n",
        "        shutil.copy(src, dst)\n"
      ],
      "metadata": {
        "id": "Or1ccrih7fxc"
      },
      "execution_count": 19,
      "outputs": []
    },
    {
      "cell_type": "code",
      "source": [
        "# Copy the images to their respective directories\n",
        "copy_images(train_images, train_dir)\n",
        "copy_images(val_images, val_dir)\n",
        "copy_images(test_images, test_dir)"
      ],
      "metadata": {
        "id": "7_0BqPDE7lgP"
      },
      "execution_count": 20,
      "outputs": []
    },
    {
      "cell_type": "code",
      "source": [
        "print(f\"Total images: {total_images}\")\n",
        "print(f\"Training images: {len(train_images)}\")\n",
        "print(f\"Validation images: {len(val_images)}\")\n",
        "print(f\"Test images: {len(test_images)}\")"
      ],
      "metadata": {
        "colab": {
          "base_uri": "https://localhost:8080/"
        },
        "id": "cb3XFR_q7ozT",
        "outputId": "d9eb80d4-808b-4489-933b-43b6844b574c"
      },
      "execution_count": 21,
      "outputs": [
        {
          "output_type": "stream",
          "name": "stdout",
          "text": [
            "Total images: 8184\n",
            "Training images: 5728\n",
            "Validation images: 1636\n",
            "Test images: 820\n"
          ]
        }
      ]
    },
    {
      "cell_type": "markdown",
      "source": [
        "#### 2.2 Create fake holes in images for training set"
      ],
      "metadata": {
        "id": "fZbCIxbB8-QT"
      }
    },
    {
      "cell_type": "code",
      "source": [
        "import os\n",
        "import numpy as np\n",
        "import cv2\n",
        "from tqdm import tqdm"
      ],
      "metadata": {
        "id": "HnqQK5yl9Jsv"
      },
      "execution_count": 25,
      "outputs": []
    },
    {
      "cell_type": "code",
      "source": [
        "# Define the paths\n",
        "train_dir = '/content/drive/My Drive/NDVI_images/train'\n",
        "output_dir = os.path.join(train_dir, 'train_with_holes')"
      ],
      "metadata": {
        "id": "GOLMXYZq9MX9"
      },
      "execution_count": 26,
      "outputs": []
    },
    {
      "cell_type": "code",
      "source": [
        "def add_fake_holes(image, num_holes=4, max_hole_size=12):\n",
        "    \"\"\"\n",
        "    Add fake holes to an image to simulate cloud coverage.\n",
        "\n",
        "    Args:\n",
        "        image (numpy array): Input image as a NumPy array.\n",
        "        num_holes (int): Number of fake holes to add.\n",
        "        max_hole_size (int): Maximum size (in pixels) of each hole.\n",
        "\n",
        "    Returns:\n",
        "        numpy array: Image with fake holes applied.\n",
        "    \"\"\"\n",
        "    image_with_holes = image.copy()\n",
        "    height, width = image.shape[:2]\n",
        "\n",
        "    for _ in range(num_holes):\n",
        "        # Randomly select a center for the hole\n",
        "        x_center = np.random.randint(0, width)\n",
        "        y_center = np.random.randint(0, height)\n",
        "\n",
        "        # Randomly determine the size of the hole\n",
        "        hole_width = np.random.randint(1, max_hole_size)\n",
        "        hole_height = np.random.randint(1, max_hole_size)\n",
        "\n",
        "        # Create the hole (set pixel values to zero)\n",
        "        x_start = max(0, x_center - hole_width // 2)\n",
        "        x_end = min(width, x_center + hole_width // 2)\n",
        "        y_start = max(0, y_center - hole_height // 2)\n",
        "        y_end = min(height, y_center + hole_height // 2)\n",
        "\n",
        "        image_with_holes[y_start:y_end, x_start:x_end] = np.nan  # Simulate cloud (masked area)\n",
        "\n",
        "    return image_with_holes\n"
      ],
      "metadata": {
        "id": "tQeBLNX7dNWz"
      },
      "execution_count": 27,
      "outputs": []
    },
    {
      "cell_type": "code",
      "source": [
        "import os\n",
        "import rasterio\n",
        "import numpy as np\n",
        "\n",
        "def process_and_add_fake_holes(train_dir, output_dir):\n",
        "    \"\"\"\n",
        "    Iterate over all GeoTIFF images in a directory, add fake holes, and save the processed images.\n",
        "    Args:\n",
        "        train_dir (str): Directory containing input GeoTIFF images.\n",
        "        output_dir (str): Directory to save processed GeoTIFF images.\n",
        "    \"\"\"\n",
        "    if not os.path.exists(output_dir):\n",
        "        os.makedirs(output_dir)\n",
        "\n",
        "    # Iterate over all images in the train_dir\n",
        "    for filename in os.listdir(train_dir):\n",
        "        if filename.endswith('.tif'):\n",
        "            input_path = os.path.join(train_dir, filename)\n",
        "            output_path = os.path.join(output_dir, filename)\n",
        "\n",
        "            try:\n",
        "                # Load the image using rasterio\n",
        "                with rasterio.open(input_path) as src:\n",
        "                    image = src.read(1)  # Read the first band\n",
        "                    meta = src.meta.copy()  # Copy metadata\n",
        "\n",
        "                # Add fake holes\n",
        "                image_with_holes = add_fake_holes(image)\n",
        "\n",
        "                # Update the metadata (e.g., for nodata values)\n",
        "                meta.update(dtype='float32', nodata=np.nan)\n",
        "\n",
        "                # Save the processed image\n",
        "                with rasterio.open(output_path, 'w', **meta) as dst:\n",
        "                    dst.write(image_with_holes, 1)  # Write to the first band\n",
        "\n",
        "                #print(f\"Processed and saved: {output_path}\")\n",
        "\n",
        "            except Exception as e:\n",
        "                print(f\"Failed to process {filename}: {e}\")\n"
      ],
      "metadata": {
        "id": "azTkwd3NFOq0"
      },
      "execution_count": 28,
      "outputs": []
    },
    {
      "cell_type": "code",
      "source": [
        "process_and_add_fake_holes(train_dir, output_dir)"
      ],
      "metadata": {
        "collapsed": true,
        "colab": {
          "base_uri": "https://localhost:8080/"
        },
        "id": "KCbYeIKIFl_e",
        "outputId": "9ba7c34a-2018-48db-8155-8c6206063ea0"
      },
      "execution_count": 29,
      "outputs": [
        {
          "output_type": "stream",
          "name": "stderr",
          "text": [
            "/usr/local/lib/python3.10/dist-packages/rasterio/__init__.py:366: NotGeoreferencedWarning: The given matrix is equal to Affine.identity or its flipped counterpart. GDAL may ignore this matrix and save no geotransform without raising an error. This behavior is somewhat driver-specific.\n",
            "  dataset = writer(\n"
          ]
        }
      ]
    },
    {
      "cell_type": "markdown",
      "source": [
        "#### 2.3 Create holes in image of the validation set"
      ],
      "metadata": {
        "id": "PuGmlBwA0WLz"
      }
    },
    {
      "cell_type": "code",
      "source": [
        "import os\n",
        "import numpy as np\n",
        "import cv2\n",
        "from tqdm import tqdm"
      ],
      "metadata": {
        "id": "QI5hUzze0uLL"
      },
      "execution_count": 1,
      "outputs": []
    },
    {
      "cell_type": "code",
      "source": [
        "# Define the paths\n",
        "val_dir = '/content/drive/My Drive/NDVI_images/validation'\n",
        "output_dir = os.path.join(val_dir, 'val_with_holes')"
      ],
      "metadata": {
        "id": "NxCRXmGh0zOr"
      },
      "execution_count": 3,
      "outputs": []
    },
    {
      "cell_type": "code",
      "source": [
        "# Create the output directory if it doesn't exist\n",
        "os.makedirs(output_dir, exist_ok=True)"
      ],
      "metadata": {
        "id": "O-zVxJnB1QxH"
      },
      "execution_count": 4,
      "outputs": []
    },
    {
      "cell_type": "code",
      "source": [
        "def add_fake_holes(image, num_holes=4, max_hole_size=12):\n",
        "    \"\"\"\n",
        "    Add fake holes to an image to simulate cloud coverage.\n",
        "\n",
        "    Args:\n",
        "        image (numpy array): Input image as a NumPy array.\n",
        "        num_holes (int): Number of fake holes to add.\n",
        "        max_hole_size (int): Maximum size (in pixels) of each hole.\n",
        "\n",
        "    Returns:\n",
        "        numpy array: Image with fake holes applied.\n",
        "    \"\"\"\n",
        "    image_with_holes = image.copy()\n",
        "    height, width = image.shape[:2]\n",
        "\n",
        "    for _ in range(num_holes):\n",
        "        # Randomly select a center for the hole\n",
        "        x_center = np.random.randint(0, width)\n",
        "        y_center = np.random.randint(0, height)\n",
        "\n",
        "        # Randomly determine the size of the hole\n",
        "        hole_width = np.random.randint(1, max_hole_size)\n",
        "        hole_height = np.random.randint(1, max_hole_size)\n",
        "\n",
        "        # Create the hole (set pixel values to zero)\n",
        "        x_start = max(0, x_center - hole_width // 2)\n",
        "        x_end = min(width, x_center + hole_width // 2)\n",
        "        y_start = max(0, y_center - hole_height // 2)\n",
        "        y_end = min(height, y_center + hole_height // 2)\n",
        "\n",
        "        image_with_holes[y_start:y_end, x_start:x_end] = np.nan  # Simulate cloud (masked area)\n",
        "\n",
        "    return image_with_holes\n"
      ],
      "metadata": {
        "id": "WJd5xzF2F4-f"
      },
      "execution_count": 8,
      "outputs": []
    },
    {
      "cell_type": "code",
      "source": [
        "import os\n",
        "import rasterio\n",
        "import numpy as np\n",
        "\n",
        "def process_and_add_fake_holes(val_dir, output_dir):\n",
        "    \"\"\"\n",
        "    Iterate over all GeoTIFF images in a directory, add fake holes, and save the processed images.\n",
        "    Args:\n",
        "        train_dir (str): Directory containing input GeoTIFF images.\n",
        "        output_dir (str): Directory to save processed GeoTIFF images.\n",
        "    \"\"\"\n",
        "    if not os.path.exists(output_dir):\n",
        "        os.makedirs(output_dir)\n",
        "\n",
        "    # Iterate over all images in the train_dir\n",
        "    for filename in os.listdir(val_dir):\n",
        "        if filename.endswith('.tif'):\n",
        "            input_path = os.path.join(val_dir, filename)\n",
        "            output_path = os.path.join(output_dir, filename)\n",
        "\n",
        "            try:\n",
        "                # Load the image using rasterio\n",
        "                with rasterio.open(input_path) as src:\n",
        "                    image = src.read(1)  # Read the first band\n",
        "                    meta = src.meta.copy()  # Copy metadata\n",
        "\n",
        "                # Add fake holes\n",
        "                image_with_holes = add_fake_holes(image)\n",
        "\n",
        "                # Update the metadata (e.g., for nodata values)\n",
        "                meta.update(dtype='float32', nodata=np.nan)\n",
        "\n",
        "                # Save the processed image\n",
        "                with rasterio.open(output_path, 'w', **meta) as dst:\n",
        "                    dst.write(image_with_holes, 1)  # Write to the first band\n",
        "\n",
        "                #print(f\"Processed and saved: {output_path}\")\n",
        "\n",
        "            except Exception as e:\n",
        "                print(f\"Failed to process {filename}: {e}\")\n"
      ],
      "metadata": {
        "id": "XkrtoYNS1SP6"
      },
      "execution_count": 9,
      "outputs": []
    },
    {
      "cell_type": "code",
      "source": [
        "process_and_add_fake_holes(val_dir, output_dir)"
      ],
      "metadata": {
        "colab": {
          "base_uri": "https://localhost:8080/"
        },
        "id": "wTy4X-du1pjq",
        "outputId": "18f26745-e4cf-4a2e-a6c4-5b57759375c4"
      },
      "execution_count": 10,
      "outputs": [
        {
          "output_type": "stream",
          "name": "stderr",
          "text": [
            "/usr/local/lib/python3.10/dist-packages/rasterio/__init__.py:366: NotGeoreferencedWarning: The given matrix is equal to Affine.identity or its flipped counterpart. GDAL may ignore this matrix and save no geotransform without raising an error. This behavior is somewhat driver-specific.\n",
            "  dataset = writer(\n"
          ]
        }
      ]
    },
    {
      "cell_type": "markdown",
      "source": [
        "#### 2.4 Building the CNN"
      ],
      "metadata": {
        "id": "RE-3Q8EXfZB5"
      }
    },
    {
      "cell_type": "code",
      "source": [
        "#Load the training data\n",
        "from google.colab import drive\n",
        "drive.mount('/content/drive')\n",
        "\n",
        "train_dir = '/content/drive/My Drive/NDVI_images/train'\n",
        "train_with_holes_dir = '/content/drive/My Drive/NDVI_images/train/train_with_holes'\n",
        "\n",
        "val_dir = '/content/drive/My Drive/NDVI_images/validation'\n",
        "val_with_holes_dir = '/content/drive/My Drive/NDVI_images/validation/val_with_holes'"
      ],
      "metadata": {
        "id": "2hvS2k8UfLnE",
        "colab": {
          "base_uri": "https://localhost:8080/"
        },
        "outputId": "fbd7a537-c024-44f6-fcdd-5891050ffeb9"
      },
      "execution_count": 6,
      "outputs": [
        {
          "output_type": "stream",
          "name": "stdout",
          "text": [
            "Mounted at /content/drive\n"
          ]
        }
      ]
    },
    {
      "cell_type": "code",
      "source": [
        "#Dependencies\n",
        "import tensorflow as tf\n",
        "from tensorflow import keras\n",
        "from tensorflow.keras import layers, models\n",
        "import numpy as np\n",
        "import matplotlib.pyplot as plt\n",
        "import matplotlib.image as mpimg\n",
        "from matplotlib.gridspec import GridSpec\n",
        "!pip install rasterio\n",
        "import rasterio\n",
        "import os\n",
        "import cv2\n",
        "import random\n",
        "from tqdm import tqdm\n",
        "from sklearn.model_selection import train_test_split\n",
        "from sklearn.metrics import mean_squared_error, mean_absolute_error\n",
        "from PIL import Image"
      ],
      "metadata": {
        "id": "zFVkgipN30v1",
        "colab": {
          "base_uri": "https://localhost:8080/"
        },
        "collapsed": true,
        "outputId": "34e7274a-2ea2-47d9-cf65-56cae0039dae"
      },
      "execution_count": 11,
      "outputs": [
        {
          "output_type": "stream",
          "name": "stdout",
          "text": [
            "Collecting rasterio\n",
            "  Downloading rasterio-1.4.3-cp310-cp310-manylinux_2_17_x86_64.manylinux2014_x86_64.whl.metadata (9.1 kB)\n",
            "Collecting affine (from rasterio)\n",
            "  Downloading affine-2.4.0-py3-none-any.whl.metadata (4.0 kB)\n",
            "Requirement already satisfied: attrs in /usr/local/lib/python3.10/dist-packages (from rasterio) (24.2.0)\n",
            "Requirement already satisfied: certifi in /usr/local/lib/python3.10/dist-packages (from rasterio) (2024.8.30)\n",
            "Requirement already satisfied: click>=4.0 in /usr/local/lib/python3.10/dist-packages (from rasterio) (8.1.7)\n",
            "Collecting cligj>=0.5 (from rasterio)\n",
            "  Downloading cligj-0.7.2-py3-none-any.whl.metadata (5.0 kB)\n",
            "Requirement already satisfied: numpy>=1.24 in /usr/local/lib/python3.10/dist-packages (from rasterio) (1.26.4)\n",
            "Collecting click-plugins (from rasterio)\n",
            "  Downloading click_plugins-1.1.1-py2.py3-none-any.whl.metadata (6.4 kB)\n",
            "Requirement already satisfied: pyparsing in /usr/local/lib/python3.10/dist-packages (from rasterio) (3.2.0)\n",
            "Downloading rasterio-1.4.3-cp310-cp310-manylinux_2_17_x86_64.manylinux2014_x86_64.whl (22.2 MB)\n",
            "\u001b[2K   \u001b[90m━━━━━━━━━━━━━━━━━━━━━━━━━━━━━━━━━━━━━━━━\u001b[0m \u001b[32m22.2/22.2 MB\u001b[0m \u001b[31m31.1 MB/s\u001b[0m eta \u001b[36m0:00:00\u001b[0m\n",
            "\u001b[?25hDownloading cligj-0.7.2-py3-none-any.whl (7.1 kB)\n",
            "Downloading affine-2.4.0-py3-none-any.whl (15 kB)\n",
            "Downloading click_plugins-1.1.1-py2.py3-none-any.whl (7.5 kB)\n",
            "Installing collected packages: cligj, click-plugins, affine, rasterio\n",
            "Successfully installed affine-2.4.0 click-plugins-1.1.1 cligj-0.7.2 rasterio-1.4.3\n"
          ]
        }
      ]
    },
    {
      "cell_type": "code",
      "source": [
        "# Get a list of files in the directory\n",
        "tif_files = [f for f in os.listdir(train_dir) if f.endswith('.tif')]\n",
        "\n",
        "# Specify the indices of images you want to display\n",
        "selected_indices = [0, 5, 500 ]\n",
        "\n",
        "# Safeguard: Ensure indices are within range\n",
        "selected_files = [tif_files[i] for i in selected_indices if i < len(tif_files)]\n",
        "\n",
        "# Set up a GridSpec layout\n",
        "fig = plt.figure(figsize=(15, 5))\n",
        "gs = GridSpec(1, len(selected_files) + 1, width_ratios=[1] * len(selected_files) + [0.1])  # Extra column for the colorbar\n",
        "\n",
        "axes = [fig.add_subplot(gs[0, i]) for i in range(len(selected_files))]  # Subplots for images\n",
        "cbar_ax = fig.add_subplot(gs[0, -1])  # Separate subplot for the colorbar\n",
        "\n",
        "for i, file_name in enumerate(selected_files):\n",
        "    file_path = os.path.join(train_dir, file_name)\n",
        "\n",
        "    # Open the GeoTIFF file\n",
        "    with rasterio.open(file_path) as src:\n",
        "        ndvi_data = src.read(1)  # Read the first band (NDVI values)\n",
        "        ndvi_data = np.where(ndvi_data == src.nodata, np.nan, ndvi_data)  # Handle NoData values\n",
        "\n",
        "    # Plot the NDVI data in the subplot\n",
        "    im = axes[i].imshow(ndvi_data, cmap='RdYlGn', vmin=-1, vmax=1)\n",
        "    axes[i].set_title(file_name)\n",
        "    axes[i].axis('off')\n",
        "\n",
        "# Add the shared colorbar in the dedicated axis\n",
        "cbar = fig.colorbar(im, cax=cbar_ax, orientation='vertical')\n",
        "cbar.set_label('NDVI')\n",
        "\n",
        "# Adjust layout\n",
        "plt.tight_layout()\n",
        "plt.show()\n"
      ],
      "metadata": {
        "colab": {
          "base_uri": "https://localhost:8080/",
          "height": 284
        },
        "id": "_UK0-pMkALN5",
        "outputId": "7233301d-af37-4610-eb47-fbbd4d7acaf9"
      },
      "execution_count": 13,
      "outputs": [
        {
          "output_type": "stream",
          "name": "stderr",
          "text": [
            "/usr/local/lib/python3.10/dist-packages/rasterio/__init__.py:356: NotGeoreferencedWarning: Dataset has no geotransform, gcps, or rpcs. The identity matrix will be returned.\n",
            "  dataset = DatasetReader(path, driver=driver, sharing=sharing, **kwargs)\n"
          ]
        },
        {
          "output_type": "display_data",
          "data": {
            "text/plain": [
              "<Figure size 1500x500 with 4 Axes>"
            ],
            "image/png": "[encoded data removed]"
          },
          "metadata": {}
        }
      ]
    },
    {
      "cell_type": "code",
      "source": [
        "# Get a list of all files in the directory\n",
        "file_list = os.listdir(train_dir)\n",
        "\n",
        "# Get the number of files\n",
        "num_files = len(file_list)\n",
        "\n",
        "# Print the number of files\n",
        "print(f\"There are {num_files} files in the directory.\")"
      ],
      "metadata": {
        "id": "OE0MCzJ4CRi7",
        "outputId": "aece04d5-f1a7-48db-8f2d-b6a7c7b766ea",
        "colab": {
          "base_uri": "https://localhost:8080/"
        }
      },
      "execution_count": 14,
      "outputs": [
        {
          "output_type": "stream",
          "name": "stdout",
          "text": [
            "There are 5729 files in the directory.\n"
          ]
        }
      ]
    },
    {
      "cell_type": "code",
      "source": [
        "# Get a list of all files in the directory\n",
        "file_list = os.listdir(train_with_holes_dir)\n",
        "\n",
        "# Get the number of files\n",
        "num_files = len(file_list)\n",
        "\n",
        "# Print the number of files\n",
        "print(f\"There are {num_files} files in the directory.\")"
      ],
      "metadata": {
        "id": "UlAH15zhCjoz",
        "outputId": "ed3b8aab-1408-4b56-9534-325e96757540",
        "colab": {
          "base_uri": "https://localhost:8080/"
        }
      },
      "execution_count": 15,
      "outputs": [
        {
          "output_type": "stream",
          "name": "stdout",
          "text": [
            "There are 5728 files in the directory.\n"
          ]
        }
      ]
    },
    {
      "cell_type": "code",
      "source": [
        "# Get a list of all files in the directory\n",
        "file_list = os.listdir(val_dir)\n",
        "\n",
        "# Get the number of files\n",
        "num_files = len(file_list)\n",
        "\n",
        "# Print the number of files\n",
        "print(f\"There are {num_files} files in the directory.\")"
      ],
      "metadata": {
        "colab": {
          "base_uri": "https://localhost:8080/"
        },
        "id": "Ft4MOB81eNnZ",
        "outputId": "505866f0-19f0-4183-8729-8123216c3742"
      },
      "execution_count": 16,
      "outputs": [
        {
          "output_type": "stream",
          "name": "stdout",
          "text": [
            "There are 1637 files in the directory.\n"
          ]
        }
      ]
    },
    {
      "cell_type": "code",
      "source": [
        "# Get a list of all files in the directory\n",
        "file_list = os.listdir(val_with_holes_dir)\n",
        "\n",
        "# Get the number of files\n",
        "num_files = len(file_list)\n",
        "\n",
        "# Print the number of files\n",
        "print(f\"There are {num_files} files in the directory.\")"
      ],
      "metadata": {
        "colab": {
          "base_uri": "https://localhost:8080/"
        },
        "id": "uGPMw-EyeLOG",
        "outputId": "6518d772-6f83-4d46-fb0d-11de6b777b39"
      },
      "execution_count": 17,
      "outputs": [
        {
          "output_type": "stream",
          "name": "stdout",
          "text": [
            "There are 1636 files in the directory.\n"
          ]
        }
      ]
    },
    {
      "cell_type": "code",
      "source": [
        "# Get a list of files in the directory\n",
        "tif_files = [f for f in os.listdir(train_with_holes_dir) if f.endswith('.tif')]\n",
        "\n",
        "# Specify the indices of images you want to display\n",
        "selected_indices = [0, 50, 1000 ]\n",
        "\n",
        "# Safeguard: Ensure indices are within range\n",
        "selected_files = [tif_files[i] for i in selected_indices if i < len(tif_files)]\n",
        "\n",
        "# Set up a GridSpec layout\n",
        "fig = plt.figure(figsize=(15, 5))\n",
        "gs = GridSpec(1, len(selected_files) + 1, width_ratios=[1] * len(selected_files) + [0.1])  # Extra column for the colorbar\n",
        "\n",
        "axes = [fig.add_subplot(gs[0, i]) for i in range(len(selected_files))]  # Subplots for images\n",
        "cbar_ax = fig.add_subplot(gs[0, -1])  # Separate subplot for the colorbar\n",
        "\n",
        "for i, file_name in enumerate(selected_files):\n",
        "    file_path = os.path.join(train_with_holes_dir, file_name)\n",
        "\n",
        "    # Open the GeoTIFF file\n",
        "    with rasterio.open(file_path) as src:\n",
        "        ndvi_data = src.read(1)  # Read the first band (NDVI values)\n",
        "        ndvi_data = np.where(ndvi_data == src.nodata, np.nan, ndvi_data)  # Handle NoData values\n",
        "\n",
        "    # Plot the NDVI data in the subplot\n",
        "    im = axes[i].imshow(ndvi_data, cmap='RdYlGn', vmin=-1, vmax=1)\n",
        "    axes[i].set_title(file_name)\n",
        "    axes[i].axis('off')\n",
        "\n",
        "# Add the shared colorbar in the dedicated axis\n",
        "cbar = fig.colorbar(im, cax=cbar_ax, orientation='vertical')\n",
        "cbar.set_label('NDVI')\n",
        "\n",
        "# Adjust layout\n",
        "plt.tight_layout()\n",
        "plt.show()"
      ],
      "metadata": {
        "colab": {
          "base_uri": "https://localhost:8080/",
          "height": 227
        },
        "id": "sChniZDbA0Rv",
        "outputId": "b7937d85-c9b2-4886-b12d-963613a777aa"
      },
      "execution_count": 18,
      "outputs": [
        {
          "output_type": "display_data",
          "data": {
            "text/plain": [
              "<Figure size 1500x500 with 4 Axes>"
            ],
            "image/png": "[encoded data removed]"
          },
          "metadata": {}
        }
      ]
    },
    {
      "cell_type": "markdown",
      "source": [
        "##### 2.4.1 Pairing the complete images with the images with holes (train and validation)"
      ],
      "metadata": {
        "id": "HOOuilVa2evi"
      }
    },
    {
      "cell_type": "code",
      "source": [
        "import matplotlib.pyplot as plt\n",
        "import os\n",
        "import numpy as np\n",
        "import cv2\n",
        "import tensorflow as tf\n",
        "from sklearn.model_selection import train_test_split\n",
        "!pip install keras-tuner\n",
        "import keras_tuner as kt"
      ],
      "metadata": {
        "colab": {
          "base_uri": "https://localhost:8080/"
        },
        "collapsed": true,
        "id": "tl_UR3na25DY",
        "outputId": "58d2b6f1-1f22-46bb-86b5-276aa1f185c9"
      },
      "execution_count": 12,
      "outputs": [
        {
          "output_type": "stream",
          "name": "stdout",
          "text": [
            "Collecting keras-tuner\n",
            "  Downloading keras_tuner-1.4.7-py3-none-any.whl.metadata (5.4 kB)\n",
            "Requirement already satisfied: keras in /usr/local/lib/python3.10/dist-packages (from keras-tuner) (3.5.0)\n",
            "Requirement already satisfied: packaging in /usr/local/lib/python3.10/dist-packages (from keras-tuner) (24.2)\n",
            "Requirement already satisfied: requests in /usr/local/lib/python3.10/dist-packages (from keras-tuner) (2.32.3)\n",
            "Collecting kt-legacy (from keras-tuner)\n",
            "  Downloading kt_legacy-1.0.5-py3-none-any.whl.metadata (221 bytes)\n",
            "Requirement already satisfied: absl-py in /usr/local/lib/python3.10/dist-packages (from keras->keras-tuner) (1.4.0)\n",
            "Requirement already satisfied: numpy in /usr/local/lib/python3.10/dist-packages (from keras->keras-tuner) (1.26.4)\n",
            "Requirement already satisfied: rich in /usr/local/lib/python3.10/dist-packages (from keras->keras-tuner) (13.9.4)\n",
            "Requirement already satisfied: namex in /usr/local/lib/python3.10/dist-packages (from keras->keras-tuner) (0.0.8)\n",
            "Requirement already satisfied: h5py in /usr/local/lib/python3.10/dist-packages (from keras->keras-tuner) (3.12.1)\n",
            "Requirement already satisfied: optree in /usr/local/lib/python3.10/dist-packages (from keras->keras-tuner) (0.13.1)\n",
            "Requirement already satisfied: ml-dtypes in /usr/local/lib/python3.10/dist-packages (from keras->keras-tuner) (0.4.1)\n",
            "Requirement already satisfied: charset-normalizer<4,>=2 in /usr/local/lib/python3.10/dist-packages (from requests->keras-tuner) (3.4.0)\n",
            "Requirement already satisfied: idna<4,>=2.5 in /usr/local/lib/python3.10/dist-packages (from requests->keras-tuner) (3.10)\n",
            "Requirement already satisfied: urllib3<3,>=1.21.1 in /usr/local/lib/python3.10/dist-packages (from requests->keras-tuner) (2.2.3)\n",
            "Requirement already satisfied: certifi>=2017.4.17 in /usr/local/lib/python3.10/dist-packages (from requests->keras-tuner) (2024.8.30)\n",
            "Requirement already satisfied: typing-extensions>=4.5.0 in /usr/local/lib/python3.10/dist-packages (from optree->keras->keras-tuner) (4.12.2)\n",
            "Requirement already satisfied: markdown-it-py>=2.2.0 in /usr/local/lib/python3.10/dist-packages (from rich->keras->keras-tuner) (3.0.0)\n",
            "Requirement already satisfied: pygments<3.0.0,>=2.13.0 in /usr/local/lib/python3.10/dist-packages (from rich->keras->keras-tuner) (2.18.0)\n",
            "Requirement already satisfied: mdurl~=0.1 in /usr/local/lib/python3.10/dist-packages (from markdown-it-py>=2.2.0->rich->keras->keras-tuner) (0.1.2)\n",
            "Downloading keras_tuner-1.4.7-py3-none-any.whl (129 kB)\n",
            "\u001b[2K   \u001b[90m━━━━━━━━━━━━━━━━━━━━━━━━━━━━━━━━━━━━━━━━\u001b[0m \u001b[32m129.1/129.1 kB\u001b[0m \u001b[31m2.1 MB/s\u001b[0m eta \u001b[36m0:00:00\u001b[0m\n",
            "\u001b[?25hDownloading kt_legacy-1.0.5-py3-none-any.whl (9.6 kB)\n",
            "Installing collected packages: kt-legacy, keras-tuner\n",
            "Successfully installed keras-tuner-1.4.7 kt-legacy-1.0.5\n"
          ]
        }
      ]
    },
    {
      "cell_type": "code",
      "source": [
        "def load_and_pair_images(input_dir, target_dir):\n",
        "    \"\"\"Load original images and images with holes, and pair them.\"\"\"\n",
        "    image_pairs = []\n",
        "    for filename in os.listdir(input_dir):\n",
        "        if filename.endswith('.tif'):\n",
        "            input_path = os.path.join(input_dir, filename)\n",
        "            target_path = os.path.join(target_dir, filename)\n",
        "\n",
        "            # Load images\n",
        "            input_img = cv2.imread(input_path, cv2.IMREAD_UNCHANGED)\n",
        "            target_img = cv2.imread(target_path, cv2.IMREAD_UNCHANGED)\n",
        "\n",
        "            if input_img is not None and target_img is not None:\n",
        "                image_pairs.append((input_img, target_img))\n",
        "            else:\n",
        "                print(f\"Failed to load {filename}. Skipping...\")\n",
        "    return image_pairs"
      ],
      "metadata": {
        "id": "JgjTqCps_CCG"
      },
      "execution_count": 13,
      "outputs": []
    },
    {
      "cell_type": "code",
      "source": [
        "# Load and pair the training data\n",
        "train_data = load_and_pair_images(train_dir, train_with_holes_dir)\n",
        "\n",
        "# Load and pair validation images with holes\n",
        "val_data = load_and_pair_images(val_dir, val_with_holes_dir)"
      ],
      "metadata": {
        "collapsed": true,
        "id": "J6xRObBF22Uq"
      },
      "execution_count": 14,
      "outputs": []
    },
    {
      "cell_type": "markdown",
      "source": [
        "##### 2.4.2 Data processing and masking"
      ],
      "metadata": {
        "id": "cYhbksns3Dix"
      }
    },
    {
      "cell_type": "code",
      "source": [
        "MASK_VALUE = 10  # Set a value to replace NaN"
      ],
      "metadata": {
        "id": "uStdm9RjW3WI"
      },
      "execution_count": 15,
      "outputs": []
    },
    {
      "cell_type": "code",
      "source": [
        "# Convert to numpy arrays\n",
        "X_train = np.array([pair[0] for pair in train_data])\n",
        "y_train = np.array([pair[1] for pair in train_data])"
      ],
      "metadata": {
        "id": "Y3cDetPCXG-z"
      },
      "execution_count": 16,
      "outputs": []
    },
    {
      "cell_type": "code",
      "source": [
        "X_val = np.array([pair[0] for pair in val_data])\n",
        "y_val = np.array([pair[1] for pair in val_data])"
      ],
      "metadata": {
        "id": "ufkJSNzsXHg0"
      },
      "execution_count": 17,
      "outputs": []
    },
    {
      "cell_type": "code",
      "source": [
        "# Replace NaN with MASK_VALUE in training and validation datasets\n",
        "X_train = np.nan_to_num(X_train, nan=MASK_VALUE)\n",
        "y_train = np.nan_to_num(y_train, nan=MASK_VALUE)\n",
        "\n",
        "X_val = np.nan_to_num(X_val, nan=MASK_VALUE)\n",
        "y_val = np.nan_to_num(y_val, nan=MASK_VALUE)\n"
      ],
      "metadata": {
        "id": "t-CxCbJ0W4cW"
      },
      "execution_count": 18,
      "outputs": []
    },
    {
      "cell_type": "code",
      "source": [
        "print(\"X_train min, max:\", np.min(X_train), np.max(X_train))\n",
        "print(\"y_train min, max:\", np.min(y_train), np.max(y_train))\n",
        "print(\"X_val min, max:\", np.min(X_val), np.max(X_val))\n",
        "print(\"y_val min, max:\", np.min(y_val), np.max(y_val))"
      ],
      "metadata": {
        "colab": {
          "base_uri": "https://localhost:8080/"
        },
        "id": "JT3Wl0RvQ7jo",
        "outputId": "69eeeaa4-f5de-4736-dad6-12f9cb88543e"
      },
      "execution_count": 19,
      "outputs": [
        {
          "output_type": "stream",
          "name": "stdout",
          "text": [
            "X_train min, max: -0.12699474 0.9998047\n",
            "y_train min, max: -0.12699474 10.0\n",
            "X_val min, max: -0.1493801 0.9994043\n",
            "y_val min, max: -0.1493801 10.0\n"
          ]
        }
      ]
    },
    {
      "cell_type": "code",
      "source": [
        "# Define the custom loss function\n",
        "def masked_mae(y_true, y_pred):\n",
        "    mask = tf.cast(tf.not_equal(y_true, MASK_VALUE), tf.float32)\n",
        "    loss = tf.reduce_sum(mask * tf.abs(y_true - y_pred)) / tf.reduce_sum(mask)\n",
        "    return loss"
      ],
      "metadata": {
        "id": "9fh3lavcXjmU"
      },
      "execution_count": 20,
      "outputs": []
    },
    {
      "cell_type": "markdown",
      "source": [
        "##### 2.4.3 Building the U-Net CNN Model for Image Inpainting"
      ],
      "metadata": {
        "id": "BTTmpHiZ3YGd"
      }
    },
    {
      "cell_type": "code",
      "source": [
        "from tensorflow.keras import layers, models"
      ],
      "metadata": {
        "id": "Ab27wYEF3ghU"
      },
      "execution_count": 2,
      "outputs": []
    },
    {
      "cell_type": "code",
      "source": [
        "def build_unet_model(input_shape):\n",
        "    \"\"\"Build a simple U-Net model.\"\"\"\n",
        "    inputs = layers.Input(shape=input_shape)\n",
        "\n",
        "    # Encoder\n",
        "    conv1 = layers.Conv2D(64, (3, 3), activation='relu', padding='same')(inputs)\n",
        "    conv1 = layers.Conv2D(64, (3, 3), activation='relu', padding='same')(conv1)\n",
        "    pool1 = layers.MaxPooling2D((2, 2))(conv1)\n",
        "\n",
        "    # Bottleneck\n",
        "    conv2 = layers.Conv2D(128, (3, 3), activation='relu', padding='same')(pool1)\n",
        "    conv2 = layers.Conv2D(128, (3, 3), activation='relu', padding='same')(conv2)\n",
        "\n",
        "    # Decoder\n",
        "    up3 = layers.UpSampling2D((2, 2))(conv2)\n",
        "    conv3 = layers.Conv2D(64, (3, 3), activation='relu', padding='same')(up3)\n",
        "\n",
        "    # Output layer\n",
        "    output = layers.Conv2D(1, (1, 1), activation='tanh', padding='same')(conv3)\n",
        "\n",
        "    # Compile model\n",
        "    model = models.Model(inputs, output)\n",
        "    model.compile(optimizer='adam', loss=masked_mae, metrics=['mae'])\n",
        "\n",
        "    return model"
      ],
      "metadata": {
        "id": "K9b8bItJ3kEs"
      },
      "execution_count": 3,
      "outputs": []
    },
    {
      "cell_type": "markdown",
      "source": [
        "##### 2.4.4 Hyperparameter optimization using Keras tuner"
      ],
      "metadata": {
        "id": "1-igYIDf4Y69"
      }
    },
    {
      "cell_type": "code",
      "source": [
        "def model_builder(hp):\n",
        "    \"\"\"Build a U-Net model with hyperparameter tuning.\"\"\"\n",
        "    model = build_unet_model((32, 32, 1))\n",
        "\n",
        "    # Tune the learning rate\n",
        "    model.compile(optimizer=tf.keras.optimizers.Adam(\n",
        "        hp.Float('learning_rate', min_value=1e-5, max_value=1e-2, sampling='LOG')\n",
        "    ), loss=masked_mae, metrics=['mae'])\n",
        "\n",
        "    return model"
      ],
      "metadata": {
        "id": "kOzJCOrq4fak"
      },
      "execution_count": 4,
      "outputs": []
    },
    {
      "cell_type": "code",
      "source": [
        "tuner = kt.RandomSearch(\n",
        "    model_builder,\n",
        "    objective='val_loss',\n",
        "    max_trials=10,  # Limit to 10 trials\n",
        "    executions_per_trial=1,\n",
        "    directory='hyperparameter_tuning',\n",
        "    project_name='ndvi_inpainting',\n",
        ")"
      ],
      "metadata": {
        "id": "fRbXpjR2Rt-Q"
      },
      "execution_count": 16,
      "outputs": []
    },
    {
      "cell_type": "code",
      "source": [
        "# Perform Hyperparameter Search\n",
        "tuner.search(X_train, y_train, epochs=4, validation_data=(X_val, y_val),\n",
        "            batch_size=32)"
      ],
      "metadata": {
        "colab": {
          "base_uri": "https://localhost:8080/"
        },
        "id": "TOIrMusj4m6z",
        "outputId": "8b58d85c-0d9e-44c7-bd63-bcd8ae071201"
      },
      "execution_count": 18,
      "outputs": [
        {
          "output_type": "stream",
          "name": "stdout",
          "text": [
            "Trial 10 Complete [00h 13m 04s]\n",
            "val_loss: 0.013840405270457268\n",
            "\n",
            "Best val_loss So Far: 0.008480638265609741\n",
            "Total elapsed time: 02h 24m 05s\n"
          ]
        }
      ]
    },
    {
      "cell_type": "code",
      "source": [
        "# Get the best Hyperparameters\n",
        "best_hp = tuner.get_best_hyperparameters(1)[0]\n",
        "print(\"Best learning rate: \", best_hp['learning_rate'])"
      ],
      "metadata": {
        "colab": {
          "base_uri": "https://localhost:8080/"
        },
        "id": "Uh1PdM_74t7s",
        "outputId": "5af82584-8c56-4ceb-f345-c366f4017b31"
      },
      "execution_count": 19,
      "outputs": [
        {
          "output_type": "stream",
          "name": "stdout",
          "text": [
            "Best learning rate:  0.0006130578503627999\n"
          ]
        }
      ]
    },
    {
      "cell_type": "code",
      "source": [
        "import json\n",
        "\n",
        "# Get the best hyperparameters\n",
        "best_hp = tuner.get_best_hyperparameters(num_trials=1)[0]\n",
        "\n",
        "# Save the hyperparameters to a JSON file\n",
        "hyperparameters_path = '/content/drive/My Drive/NDVI_images/best_hyperparameters_1.json'\n",
        "\n",
        "with open(hyperparameters_path, 'w') as f:\n",
        "    json.dump(best_hp.values, f, indent=4)\n",
        "\n",
        "print(f\"Best hyperparameters saved to {hyperparameters_path}\")\n"
      ],
      "metadata": {
        "colab": {
          "base_uri": "https://localhost:8080/"
        },
        "id": "cwdtCIPCfYHs",
        "outputId": "c07ddc5c-0646-45e7-d1da-2bd4f62b899e"
      },
      "execution_count": 20,
      "outputs": [
        {
          "output_type": "stream",
          "name": "stdout",
          "text": [
            "Best hyperparameters saved to /content/drive/My Drive/NDVI_images/best_hyperparameters_1.json\n"
          ]
        }
      ]
    },
    {
      "cell_type": "markdown",
      "source": [
        "##### 2.4.5 Train the model with the best Hyperparameters"
      ],
      "metadata": {
        "id": "3IggLmE25KG5"
      }
    },
    {
      "cell_type": "code",
      "source": [
        "best_hp = 0.0008506876632789835"
      ],
      "metadata": {
        "id": "QNgSrcLtrFHi"
      },
      "execution_count": null,
      "outputs": []
    },
    {
      "cell_type": "code",
      "source": [
        "import json\n",
        "hyperparameters_path = '/content/drive/My Drive/NDVI_images/best_hyperparameters_1.json'\n",
        "# Load the hyperparameters from the JSON file\n",
        "with open(hyperparameters_path, 'r') as f:\n",
        "    loaded_hyperparameters = json.load(f)\n",
        "\n",
        "print(\"Loaded hyperparameters:\", loaded_hyperparameters)"
      ],
      "metadata": {
        "colab": {
          "base_uri": "https://localhost:8080/"
        },
        "id": "ozGMOvYHff2O",
        "outputId": "bb0a87e2-fda0-4b35-ebb7-7bc9246ed18c"
      },
      "execution_count": 7,
      "outputs": [
        {
          "output_type": "stream",
          "name": "stdout",
          "text": [
            "Loaded hyperparameters: {'learning_rate': 0.0006130578503627999}\n"
          ]
        }
      ]
    },
    {
      "cell_type": "code",
      "source": [
        "from tensorflow.keras.optimizers import Adam\n",
        "# Rebuild the U-Net model\n",
        "input_shape = (32, 32, 1)  # Adjust as per your dataset\n",
        "best_model = build_unet_model(input_shape)\n",
        "\n",
        "# Compile the model with the loaded learning rate\n",
        "best_model.compile(\n",
        "    optimizer=Adam(learning_rate=loaded_hyperparameters['learning_rate']),\n",
        "    loss=masked_mae,\n",
        "    metrics=['mae']\n",
        ")"
      ],
      "metadata": {
        "id": "pAVCCIezXcNm"
      },
      "execution_count": 8,
      "outputs": []
    },
    {
      "cell_type": "code",
      "source": [
        "from tensorflow.keras.callbacks import EarlyStopping\n",
        "# Configure EarlyStopping\n",
        "early_stopping = EarlyStopping(\n",
        "    monitor='val_loss',       # Metric to monitor\n",
        "    patience=3,               # Stop training if no improvement after 3 epochs\n",
        "    restore_best_weights=True # Restore model weights from the best epoch\n",
        ")"
      ],
      "metadata": {
        "id": "ALm-Splkelhx"
      },
      "execution_count": 9,
      "outputs": []
    },
    {
      "cell_type": "code",
      "source": [
        "#best_model = tuner.hypermodel.build(best_hp)\n",
        "\n",
        "# Set up callbacks to monitor progress\n",
        "history = best_model.fit(X_train, y_train, epochs=25, validation_data=(X_val, y_val), batch_size=16,callbacks=[early_stopping])\n"
      ],
      "metadata": {
        "colab": {
          "base_uri": "https://localhost:8080/"
        },
        "id": "TAtO52VT4-ma",
        "outputId": "8c829da6-94ef-420f-bd01-a0a8b424f090"
      },
      "execution_count": 21,
      "outputs": [
        {
          "output_type": "stream",
          "name": "stdout",
          "text": [
            "Epoch 1/25\n",
            "\u001b[1m358/358\u001b[0m \u001b[32m━━━━━━━━━━━━━━━━━━━━\u001b[0m\u001b[37m\u001b[0m \u001b[1m173s\u001b[0m 467ms/step - loss: 0.0441 - mae: 1.0084 - val_loss: 0.0119 - val_mae: 0.9771\n",
            "Epoch 2/25\n",
            "\u001b[1m358/358\u001b[0m \u001b[32m━━━━━━━━━━━━━━━━━━━━\u001b[0m\u001b[37m\u001b[0m \u001b[1m204s\u001b[0m 474ms/step - loss: 0.0123 - mae: 0.9743 - val_loss: 0.0102 - val_mae: 0.9756\n",
            "Epoch 3/25\n",
            "\u001b[1m358/358\u001b[0m \u001b[32m━━━━━━━━━━━━━━━━━━━━\u001b[0m\u001b[37m\u001b[0m \u001b[1m208s\u001b[0m 491ms/step - loss: 0.0095 - mae: 0.9669 - val_loss: 0.0121 - val_mae: 0.9769\n",
            "Epoch 4/25\n",
            "\u001b[1m358/358\u001b[0m \u001b[32m━━━━━━━━━━━━━━━━━━━━\u001b[0m\u001b[37m\u001b[0m \u001b[1m193s\u001b[0m 467ms/step - loss: 0.0085 - mae: 0.9764 - val_loss: 0.0076 - val_mae: 0.9740\n",
            "Epoch 5/25\n",
            "\u001b[1m358/358\u001b[0m \u001b[32m━━━━━━━━━━━━━━━━━━━━\u001b[0m\u001b[37m\u001b[0m \u001b[1m201s\u001b[0m 464ms/step - loss: 0.0075 - mae: 0.9668 - val_loss: 0.0092 - val_mae: 0.9745\n",
            "Epoch 6/25\n",
            "\u001b[1m358/358\u001b[0m \u001b[32m━━━━━━━━━━━━━━━━━━━━\u001b[0m\u001b[37m\u001b[0m \u001b[1m207s\u001b[0m 478ms/step - loss: 0.0083 - mae: 0.9709 - val_loss: 0.0064 - val_mae: 0.9730\n",
            "Epoch 7/25\n",
            "\u001b[1m358/358\u001b[0m \u001b[32m━━━━━━━━━━━━━━━━━━━━\u001b[0m\u001b[37m\u001b[0m \u001b[1m197s\u001b[0m 464ms/step - loss: 0.0072 - mae: 0.9699 - val_loss: 0.0095 - val_mae: 0.9762\n",
            "Epoch 8/25\n",
            "\u001b[1m358/358\u001b[0m \u001b[32m━━━━━━━━━━━━━━━━━━━━\u001b[0m\u001b[37m\u001b[0m \u001b[1m213s\u001b[0m 495ms/step - loss: 0.0070 - mae: 0.9643 - val_loss: 0.0066 - val_mae: 0.9732\n",
            "Epoch 9/25\n",
            "\u001b[1m358/358\u001b[0m \u001b[32m━━━━━━━━━━━━━━━━━━━━\u001b[0m\u001b[37m\u001b[0m \u001b[1m205s\u001b[0m 505ms/step - loss: 0.0071 - mae: 0.9715 - val_loss: 0.0054 - val_mae: 0.9718\n",
            "Epoch 10/25\n",
            "\u001b[1m358/358\u001b[0m \u001b[32m━━━━━━━━━━━━━━━━━━━━\u001b[0m\u001b[37m\u001b[0m \u001b[1m191s\u001b[0m 476ms/step - loss: 0.0069 - mae: 0.9813 - val_loss: 0.0071 - val_mae: 0.9729\n",
            "Epoch 11/25\n",
            "\u001b[1m358/358\u001b[0m \u001b[32m━━━━━━━━━━━━━━━━━━━━\u001b[0m\u001b[37m\u001b[0m \u001b[1m208s\u001b[0m 491ms/step - loss: 0.0060 - mae: 0.9650 - val_loss: 0.0100 - val_mae: 0.9752\n",
            "Epoch 12/25\n",
            "\u001b[1m358/358\u001b[0m \u001b[32m━━━━━━━━━━━━━━━━━━━━\u001b[0m\u001b[37m\u001b[0m \u001b[1m204s\u001b[0m 499ms/step - loss: 0.0062 - mae: 0.9748 - val_loss: 0.0064 - val_mae: 0.9723\n",
            "Epoch 13/25\n",
            "\u001b[1m358/358\u001b[0m \u001b[32m━━━━━━━━━━━━━━━━━━━━\u001b[0m\u001b[37m\u001b[0m \u001b[1m190s\u001b[0m 465ms/step - loss: 0.0053 - mae: 0.9781 - val_loss: 0.0055 - val_mae: 0.9722\n",
            "Epoch 14/25\n",
            "\u001b[1m358/358\u001b[0m \u001b[32m━━━━━━━━━━━━━━━━━━━━\u001b[0m\u001b[37m\u001b[0m \u001b[1m202s\u001b[0m 465ms/step - loss: 0.0052 - mae: 0.9637 - val_loss: 0.0048 - val_mae: 0.9712\n",
            "Epoch 15/25\n",
            "\u001b[1m358/358\u001b[0m \u001b[32m━━━━━━━━━━━━━━━━━━━━\u001b[0m\u001b[37m\u001b[0m \u001b[1m172s\u001b[0m 479ms/step - loss: 0.0051 - mae: 0.9647 - val_loss: 0.0047 - val_mae: 0.9711\n",
            "Epoch 16/25\n",
            "\u001b[1m358/358\u001b[0m \u001b[32m━━━━━━━━━━━━━━━━━━━━\u001b[0m\u001b[37m\u001b[0m \u001b[1m196s\u001b[0m 464ms/step - loss: 0.0054 - mae: 0.9648 - val_loss: 0.0079 - val_mae: 0.9747\n",
            "Epoch 17/25\n",
            "\u001b[1m358/358\u001b[0m \u001b[32m━━━━━━━━━━━━━━━━━━━━\u001b[0m\u001b[37m\u001b[0m \u001b[1m207s\u001b[0m 479ms/step - loss: 0.0063 - mae: 0.9745 - val_loss: 0.0045 - val_mae: 0.9711\n",
            "Epoch 18/25\n",
            "\u001b[1m358/358\u001b[0m \u001b[32m━━━━━━━━━━━━━━━━━━━━\u001b[0m\u001b[37m\u001b[0m \u001b[1m166s\u001b[0m 464ms/step - loss: 0.0047 - mae: 0.9704 - val_loss: 0.0051 - val_mae: 0.9718\n",
            "Epoch 19/25\n",
            "\u001b[1m358/358\u001b[0m \u001b[32m━━━━━━━━━━━━━━━━━━━━\u001b[0m\u001b[37m\u001b[0m \u001b[1m179s\u001b[0m 500ms/step - loss: 0.0048 - mae: 0.9817 - val_loss: 0.0043 - val_mae: 0.9708\n",
            "Epoch 20/25\n",
            "\u001b[1m358/358\u001b[0m \u001b[32m━━━━━━━━━━━━━━━━━━━━\u001b[0m\u001b[37m\u001b[0m \u001b[1m188s\u001b[0m 461ms/step - loss: 0.0052 - mae: 0.9798 - val_loss: 0.0046 - val_mae: 0.9714\n",
            "Epoch 21/25\n",
            "\u001b[1m358/358\u001b[0m \u001b[32m━━━━━━━━━━━━━━━━━━━━\u001b[0m\u001b[37m\u001b[0m \u001b[1m217s\u001b[0m 504ms/step - loss: 0.0045 - mae: 0.9646 - val_loss: 0.0061 - val_mae: 0.9730\n",
            "Epoch 22/25\n",
            "\u001b[1m358/358\u001b[0m \u001b[32m━━━━━━━━━━━━━━━━━━━━\u001b[0m\u001b[37m\u001b[0m \u001b[1m187s\u001b[0m 462ms/step - loss: 0.0053 - mae: 0.9767 - val_loss: 0.0040 - val_mae: 0.9706\n",
            "Epoch 23/25\n",
            "\u001b[1m358/358\u001b[0m \u001b[32m━━━━━━━━━━━━━━━━━━━━\u001b[0m\u001b[37m\u001b[0m \u001b[1m171s\u001b[0m 478ms/step - loss: 0.0045 - mae: 0.9716 - val_loss: 0.0038 - val_mae: 0.9704\n",
            "Epoch 24/25\n",
            "\u001b[1m358/358\u001b[0m \u001b[32m━━━━━━━━━━━━━━━━━━━━\u001b[0m\u001b[37m\u001b[0m \u001b[1m165s\u001b[0m 462ms/step - loss: 0.0042 - mae: 0.9573 - val_loss: 0.0041 - val_mae: 0.9708\n",
            "Epoch 25/25\n",
            "\u001b[1m358/358\u001b[0m \u001b[32m━━━━━━━━━━━━━━━━━━━━\u001b[0m\u001b[37m\u001b[0m \u001b[1m202s\u001b[0m 462ms/step - loss: 0.0042 - mae: 0.9719 - val_loss: 0.0048 - val_mae: 0.9710\n"
          ]
        }
      ]
    },
    {
      "cell_type": "code",
      "source": [
        "# Save the model\n",
        "best_model.save('/content/drive/My Drive/NDVI_images/best_unet_model_1.keras')"
      ],
      "metadata": {
        "id": "nFjbvzLk5j4M"
      },
      "execution_count": 22,
      "outputs": []
    },
    {
      "cell_type": "markdown",
      "source": [
        "##### 2.4.6 Loss and Accuracy Graphs"
      ],
      "metadata": {
        "id": "f6koaofh6g0_"
      }
    },
    {
      "cell_type": "code",
      "source": [
        "def plot_history(history, save_path):\n",
        "    \"\"\"Plot loss and MAE over epochs and save the plots.\"\"\"\n",
        "    plt.figure(figsize=(12, 6))\n",
        "\n",
        "    # Plot Loss\n",
        "    plt.subplot(1, 2, 1)\n",
        "    plt.plot(history.history['loss'], label='Training Loss')\n",
        "    plt.plot(history.history['val_loss'], label='Validation Loss')\n",
        "    plt.title('Loss')\n",
        "    plt.xlabel('Epochs')\n",
        "    plt.ylabel('Loss')\n",
        "    plt.legend()\n",
        "\n",
        "    # Plot MAE (Mean Absolute Error)\n",
        "    plt.subplot(1, 2, 2)\n",
        "    plt.plot(history.history['mae'], label='Training MAE')\n",
        "    plt.plot(history.history['val_mae'], label='Validation MAE')\n",
        "    plt.title('Mean Absolute Error (MAE)')\n",
        "    plt.xlabel('Epochs')\n",
        "    plt.ylabel('MAE')\n",
        "    plt.legend()\n",
        "\n",
        "    # Save the plots to file\n",
        "    plt.savefig(save_path)\n",
        "    plt.close()"
      ],
      "metadata": {
        "id": "6ZrM2dRs6m8T"
      },
      "execution_count": 23,
      "outputs": []
    },
    {
      "cell_type": "code",
      "source": [
        "plot_history(history, '/content/drive/My Drive/NDVI_images/training_history_1.png')"
      ],
      "metadata": {
        "id": "J8BDJL-N6pz-"
      },
      "execution_count": 24,
      "outputs": []
    },
    {
      "cell_type": "markdown",
      "source": [
        "##### 2.5 Verification on the Test set"
      ],
      "metadata": {
        "id": "r7Hw86xPdZEx"
      }
    },
    {
      "cell_type": "markdown",
      "source": [
        "##### 2.5.1 Create fake holes in images for test set"
      ],
      "metadata": {
        "id": "26VMgcFNg2nm"
      }
    },
    {
      "cell_type": "code",
      "source": [
        "import os\n",
        "import numpy as np\n",
        "import cv2\n",
        "from tqdm import tqdm"
      ],
      "metadata": {
        "id": "fIOqWXEeg2nn"
      },
      "execution_count": 21,
      "outputs": []
    },
    {
      "cell_type": "code",
      "source": [
        "# Define the paths\n",
        "test_dir = '/content/drive/My Drive/NDVI_images/test'\n",
        "output_dir = os.path.join(test_dir, 'test_with_holes')"
      ],
      "metadata": {
        "id": "UkoSaUr4g2no"
      },
      "execution_count": 46,
      "outputs": []
    },
    {
      "cell_type": "code",
      "source": [
        "# Create the output directory if it doesn't exist\n",
        "os.makedirs(output_dir, exist_ok=True)"
      ],
      "metadata": {
        "id": "izXiSXcui3O5"
      },
      "execution_count": 23,
      "outputs": []
    },
    {
      "cell_type": "code",
      "source": [
        "def add_fake_holes(image, num_holes=4, max_hole_size=12):\n",
        "    \"\"\"\n",
        "    Add fake holes to an image to simulate cloud coverage.\n",
        "\n",
        "    Args:\n",
        "        image (numpy array): Input image as a NumPy array.\n",
        "        num_holes (int): Number of fake holes to add.\n",
        "        max_hole_size (int): Maximum size (in pixels) of each hole.\n",
        "\n",
        "    Returns:\n",
        "        numpy array: Image with fake holes applied.\n",
        "    \"\"\"\n",
        "    image_with_holes = image.copy()\n",
        "    height, width = image.shape[:2]\n",
        "\n",
        "    for _ in range(num_holes):\n",
        "        # Randomly select a center for the hole\n",
        "        x_center = np.random.randint(0, width)\n",
        "        y_center = np.random.randint(0, height)\n",
        "\n",
        "        # Randomly determine the size of the hole\n",
        "        hole_width = np.random.randint(1, max_hole_size)\n",
        "        hole_height = np.random.randint(1, max_hole_size)\n",
        "\n",
        "        # Create the hole (set pixel values to zero)\n",
        "        x_start = max(0, x_center - hole_width // 2)\n",
        "        x_end = min(width, x_center + hole_width // 2)\n",
        "        y_start = max(0, y_center - hole_height // 2)\n",
        "        y_end = min(height, y_center + hole_height // 2)\n",
        "\n",
        "        image_with_holes[y_start:y_end, x_start:x_end] = np.nan  # Simulate cloud (masked area)\n",
        "\n",
        "    return image_with_holes\n"
      ],
      "metadata": {
        "id": "p6DLPMNpg2no"
      },
      "execution_count": 24,
      "outputs": []
    },
    {
      "cell_type": "code",
      "source": [
        "import os\n",
        "!pip install rasterio\n",
        "import rasterio\n",
        "import numpy as np\n",
        "\n",
        "def process_and_add_fake_holes(test_dir, output_dir):\n",
        "    \"\"\"\n",
        "    Iterate over all GeoTIFF images in a directory, add fake holes, and save the processed images.\n",
        "    Args:\n",
        "        train_dir (str): Directory containing input GeoTIFF images.\n",
        "        output_dir (str): Directory to save processed GeoTIFF images.\n",
        "    \"\"\"\n",
        "    if not os.path.exists(output_dir):\n",
        "        os.makedirs(output_dir)\n",
        "\n",
        "    # Iterate over all images in the train_dir\n",
        "    for filename in os.listdir(test_dir):\n",
        "        if filename.endswith('.tif'):\n",
        "            input_path = os.path.join(test_dir, filename)\n",
        "            output_path = os.path.join(output_dir, filename)\n",
        "\n",
        "            try:\n",
        "                # Load the image using rasterio\n",
        "                with rasterio.open(input_path) as src:\n",
        "                    image = src.read(1)  # Read the first band\n",
        "                    meta = src.meta.copy()  # Copy metadata\n",
        "\n",
        "                # Add fake holes\n",
        "                image_with_holes = add_fake_holes(image)\n",
        "\n",
        "                # Update the metadata (e.g., for nodata values)\n",
        "                meta.update(dtype='float32', nodata=np.nan)\n",
        "\n",
        "                # Save the processed image\n",
        "                with rasterio.open(output_path, 'w', **meta) as dst:\n",
        "                    dst.write(image_with_holes, 1)  # Write to the first band\n",
        "\n",
        "                #print(f\"Processed and saved: {output_path}\")\n",
        "\n",
        "            except Exception as e:\n",
        "                print(f\"Failed to process {filename}: {e}\")\n"
      ],
      "metadata": {
        "colab": {
          "base_uri": "https://localhost:8080/"
        },
        "outputId": "54dcc39e-ab00-483e-ca96-65be542e24b0",
        "collapsed": true,
        "id": "ZGtS0S_Gg2np"
      },
      "execution_count": 25,
      "outputs": [
        {
          "output_type": "stream",
          "name": "stdout",
          "text": [
            "Requirement already satisfied: rasterio in /usr/local/lib/python3.10/dist-packages (1.4.3)\n",
            "Requirement already satisfied: affine in /usr/local/lib/python3.10/dist-packages (from rasterio) (2.4.0)\n",
            "Requirement already satisfied: attrs in /usr/local/lib/python3.10/dist-packages (from rasterio) (24.2.0)\n",
            "Requirement already satisfied: certifi in /usr/local/lib/python3.10/dist-packages (from rasterio) (2024.8.30)\n",
            "Requirement already satisfied: click>=4.0 in /usr/local/lib/python3.10/dist-packages (from rasterio) (8.1.7)\n",
            "Requirement already satisfied: cligj>=0.5 in /usr/local/lib/python3.10/dist-packages (from rasterio) (0.7.2)\n",
            "Requirement already satisfied: numpy>=1.24 in /usr/local/lib/python3.10/dist-packages (from rasterio) (1.26.4)\n",
            "Requirement already satisfied: click-plugins in /usr/local/lib/python3.10/dist-packages (from rasterio) (1.1.1)\n",
            "Requirement already satisfied: pyparsing in /usr/local/lib/python3.10/dist-packages (from rasterio) (3.2.0)\n"
          ]
        }
      ]
    },
    {
      "cell_type": "code",
      "source": [
        "process_and_add_fake_holes(test_dir, output_dir)"
      ],
      "metadata": {
        "collapsed": true,
        "colab": {
          "base_uri": "https://localhost:8080/"
        },
        "outputId": "437b13bf-2e47-4208-85f6-02c4ada32dea",
        "id": "T03ZyD3Ag2nq"
      },
      "execution_count": 26,
      "outputs": [
        {
          "output_type": "stream",
          "name": "stderr",
          "text": [
            "/usr/local/lib/python3.10/dist-packages/rasterio/__init__.py:356: NotGeoreferencedWarning: Dataset has no geotransform, gcps, or rpcs. The identity matrix will be returned.\n",
            "  dataset = DatasetReader(path, driver=driver, sharing=sharing, **kwargs)\n",
            "/usr/local/lib/python3.10/dist-packages/rasterio/__init__.py:366: NotGeoreferencedWarning: The given matrix is equal to Affine.identity or its flipped counterpart. GDAL may ignore this matrix and save no geotransform without raising an error. This behavior is somewhat driver-specific.\n",
            "  dataset = writer(\n"
          ]
        }
      ]
    },
    {
      "cell_type": "code",
      "source": [
        "#Load the test data\n",
        "from google.colab import drive\n",
        "drive.mount('/content/drive')\n",
        "\n",
        "test_dir = '/content/drive/My Drive/NDVI_images/test'\n",
        "test_with_holes_dir = '/content/drive/My Drive/NDVI_images/test/test_with_holes'"
      ],
      "metadata": {
        "colab": {
          "base_uri": "https://localhost:8080/"
        },
        "id": "N_aOnFWjd1aW",
        "outputId": "b04d173e-743d-492a-b406-ff739b119a6b"
      },
      "execution_count": 25,
      "outputs": [
        {
          "output_type": "stream",
          "name": "stdout",
          "text": [
            "Drive already mounted at /content/drive; to attempt to forcibly remount, call drive.mount(\"/content/drive\", force_remount=True).\n"
          ]
        }
      ]
    },
    {
      "cell_type": "markdown",
      "source": [
        "##### 2.5.2 Pairing the complete images with the images with holes (test)"
      ],
      "metadata": {
        "id": "rIB7Spq6ojME"
      }
    },
    {
      "cell_type": "code",
      "source": [
        "import matplotlib.pyplot as plt\n",
        "import os\n",
        "import numpy as np\n",
        "import cv2\n",
        "import tensorflow as tf\n",
        "from sklearn.model_selection import train_test_split\n",
        "!pip install keras-tuner\n",
        "import keras_tuner as kt"
      ],
      "metadata": {
        "colab": {
          "base_uri": "https://localhost:8080/"
        },
        "collapsed": true,
        "outputId": "6ff2db2d-34ec-4936-a122-b751f75f41da",
        "id": "vn0PqztZojMG"
      },
      "execution_count": 26,
      "outputs": [
        {
          "output_type": "stream",
          "name": "stdout",
          "text": [
            "Requirement already satisfied: keras-tuner in /usr/local/lib/python3.10/dist-packages (1.4.7)\n",
            "Requirement already satisfied: keras in /usr/local/lib/python3.10/dist-packages (from keras-tuner) (3.5.0)\n",
            "Requirement already satisfied: packaging in /usr/local/lib/python3.10/dist-packages (from keras-tuner) (24.2)\n",
            "Requirement already satisfied: requests in /usr/local/lib/python3.10/dist-packages (from keras-tuner) (2.32.3)\n",
            "Requirement already satisfied: kt-legacy in /usr/local/lib/python3.10/dist-packages (from keras-tuner) (1.0.5)\n",
            "Requirement already satisfied: absl-py in /usr/local/lib/python3.10/dist-packages (from keras->keras-tuner) (1.4.0)\n",
            "Requirement already satisfied: numpy in /usr/local/lib/python3.10/dist-packages (from keras->keras-tuner) (1.26.4)\n",
            "Requirement already satisfied: rich in /usr/local/lib/python3.10/dist-packages (from keras->keras-tuner) (13.9.4)\n",
            "Requirement already satisfied: namex in /usr/local/lib/python3.10/dist-packages (from keras->keras-tuner) (0.0.8)\n",
            "Requirement already satisfied: h5py in /usr/local/lib/python3.10/dist-packages (from keras->keras-tuner) (3.12.1)\n",
            "Requirement already satisfied: optree in /usr/local/lib/python3.10/dist-packages (from keras->keras-tuner) (0.13.1)\n",
            "Requirement already satisfied: ml-dtypes in /usr/local/lib/python3.10/dist-packages (from keras->keras-tuner) (0.4.1)\n",
            "Requirement already satisfied: charset-normalizer<4,>=2 in /usr/local/lib/python3.10/dist-packages (from requests->keras-tuner) (3.4.0)\n",
            "Requirement already satisfied: idna<4,>=2.5 in /usr/local/lib/python3.10/dist-packages (from requests->keras-tuner) (3.10)\n",
            "Requirement already satisfied: urllib3<3,>=1.21.1 in /usr/local/lib/python3.10/dist-packages (from requests->keras-tuner) (2.2.3)\n",
            "Requirement already satisfied: certifi>=2017.4.17 in /usr/local/lib/python3.10/dist-packages (from requests->keras-tuner) (2024.8.30)\n",
            "Requirement already satisfied: typing-extensions>=4.5.0 in /usr/local/lib/python3.10/dist-packages (from optree->keras->keras-tuner) (4.12.2)\n",
            "Requirement already satisfied: markdown-it-py>=2.2.0 in /usr/local/lib/python3.10/dist-packages (from rich->keras->keras-tuner) (3.0.0)\n",
            "Requirement already satisfied: pygments<3.0.0,>=2.13.0 in /usr/local/lib/python3.10/dist-packages (from rich->keras->keras-tuner) (2.18.0)\n",
            "Requirement already satisfied: mdurl~=0.1 in /usr/local/lib/python3.10/dist-packages (from markdown-it-py>=2.2.0->rich->keras->keras-tuner) (0.1.2)\n"
          ]
        }
      ]
    },
    {
      "cell_type": "code",
      "source": [
        "def load_and_pair_images(input_dir, target_dir):\n",
        "    \"\"\"Load original images and images with holes, and pair them.\"\"\"\n",
        "    image_pairs = []\n",
        "    for filename in os.listdir(input_dir):\n",
        "        if filename.endswith('.tif'):\n",
        "            input_path = os.path.join(input_dir, filename)\n",
        "            target_path = os.path.join(target_dir, filename)\n",
        "\n",
        "            # Load images\n",
        "            input_img = cv2.imread(input_path, cv2.IMREAD_UNCHANGED)\n",
        "            target_img = cv2.imread(target_path, cv2.IMREAD_UNCHANGED)\n",
        "\n",
        "            if input_img is not None and target_img is not None:\n",
        "                image_pairs.append((input_img, target_img))\n",
        "            else:\n",
        "                print(f\"Failed to load {filename}. Skipping...\")\n",
        "    return image_pairs"
      ],
      "metadata": {
        "id": "Ee5d_XrMojMH"
      },
      "execution_count": 27,
      "outputs": []
    },
    {
      "cell_type": "code",
      "source": [
        "# Load and pair the training data\n",
        "test_data = load_and_pair_images(test_dir, test_with_holes_dir)"
      ],
      "metadata": {
        "collapsed": true,
        "id": "yW3oH-ioojMI"
      },
      "execution_count": 28,
      "outputs": []
    },
    {
      "cell_type": "markdown",
      "source": [
        "##### 2.5.3 Data processing and masking"
      ],
      "metadata": {
        "id": "Jw9S0i1qpBDI"
      }
    },
    {
      "cell_type": "code",
      "source": [
        "MASK_VALUE = 10  # Set a value to replace NaN"
      ],
      "metadata": {
        "id": "kU1lB35BpBDL"
      },
      "execution_count": 29,
      "outputs": []
    },
    {
      "cell_type": "code",
      "source": [
        "# Convert to numpy arrays\n",
        "X_test = np.array([pair[0] for pair in test_data])\n",
        "y_test = np.array([pair[1] for pair in test_data])"
      ],
      "metadata": {
        "id": "iqZ3fWgLpBDM"
      },
      "execution_count": 30,
      "outputs": []
    },
    {
      "cell_type": "code",
      "source": [
        "# Replace NaN with MASK_VALUE in training and validation datasets\n",
        "X_test = np.nan_to_num(X_test, nan=MASK_VALUE)\n",
        "y_test = np.nan_to_num(y_test, nan=MASK_VALUE)"
      ],
      "metadata": {
        "id": "JTyzfJdypBDO"
      },
      "execution_count": 31,
      "outputs": []
    },
    {
      "cell_type": "code",
      "source": [
        "print(\"X_test min, max:\", np.min(X_test), np.max(X_test))\n",
        "print(\"y_test min, max:\", np.min(y_test), np.max(y_test))"
      ],
      "metadata": {
        "outputId": "6817d9c1-9ac3-4674-d340-9b9d5b2fc279",
        "colab": {
          "base_uri": "https://localhost:8080/"
        },
        "id": "hqLUAt5NpBDO"
      },
      "execution_count": 32,
      "outputs": [
        {
          "output_type": "stream",
          "name": "stdout",
          "text": [
            "X_test min, max: -0.09456226 0.9920558\n",
            "y_test min, max: -0.09456226 10.0\n"
          ]
        }
      ]
    },
    {
      "cell_type": "code",
      "source": [
        "# Define the custom loss function\n",
        "def masked_mae(y_true, y_pred):\n",
        "    mask = tf.cast(tf.not_equal(y_true, MASK_VALUE), tf.float32)\n",
        "    loss = tf.reduce_sum(mask * tf.abs(y_true - y_pred)) / tf.reduce_sum(mask)\n",
        "    return loss"
      ],
      "metadata": {
        "id": "DKhFwbH9pBDP"
      },
      "execution_count": 33,
      "outputs": []
    },
    {
      "cell_type": "markdown",
      "source": [
        "##### 2.5.4 Apply CNN"
      ],
      "metadata": {
        "id": "e2flB4eSqC9H"
      }
    },
    {
      "cell_type": "code",
      "source": [
        "from tensorflow.keras.models import load_model\n",
        "#Load the training data\n",
        "from google.colab import drive\n",
        "drive.mount('/content/drive')\n",
        "\n",
        "# Load the saved model\n",
        "model_path = '/content/drive/My Drive/NDVI_images/best_unet_model_1.keras'\n",
        "best_model = load_model(model_path, custom_objects={'masked_mae': masked_mae})"
      ],
      "metadata": {
        "id": "xceXoWkFp_7z",
        "colab": {
          "base_uri": "https://localhost:8080/"
        },
        "outputId": "3600093d-84ae-4734-ab85-1fcc8265f10f"
      },
      "execution_count": 35,
      "outputs": [
        {
          "output_type": "stream",
          "name": "stdout",
          "text": [
            "Drive already mounted at /content/drive; to attempt to forcibly remount, call drive.mount(\"/content/drive\", force_remount=True).\n"
          ]
        }
      ]
    },
    {
      "cell_type": "code",
      "source": [
        "# Evaluate the model\n",
        "test_loss, test_mae = best_model.evaluate(X_test, y_test, batch_size=32)\n",
        "print(f\"Test Loss: {test_loss}\")\n",
        "print(f\"Test MAE: {test_mae}\")"
      ],
      "metadata": {
        "colab": {
          "base_uri": "https://localhost:8080/"
        },
        "id": "ShliamPHq2GR",
        "outputId": "6027eb7b-f21f-4218-c7ea-ccc298194c78"
      },
      "execution_count": 36,
      "outputs": [
        {
          "output_type": "stream",
          "name": "stdout",
          "text": [
            "\u001b[1m26/26\u001b[0m \u001b[32m━━━━━━━━━━━━━━━━━━━━\u001b[0m\u001b[37m\u001b[0m \u001b[1m12s\u001b[0m 445ms/step - loss: 0.0036 - mae: 0.9478\n",
            "Test Loss: 0.003591723507270217\n",
            "Test MAE: 0.954818844795227\n"
          ]
        }
      ]
    },
    {
      "cell_type": "code",
      "source": [
        "# Generate predictions\n",
        "y_pred = best_model.predict(X_test)"
      ],
      "metadata": {
        "colab": {
          "base_uri": "https://localhost:8080/"
        },
        "id": "WZEkxm2RrDDT",
        "outputId": "2791aff3-462d-40dc-f841-33771fc627a3"
      },
      "execution_count": 37,
      "outputs": [
        {
          "output_type": "stream",
          "name": "stdout",
          "text": [
            "\u001b[1m26/26\u001b[0m \u001b[32m━━━━━━━━━━━━━━━━━━━━\u001b[0m\u001b[37m\u001b[0m \u001b[1m5s\u001b[0m 192ms/step\n"
          ]
        }
      ]
    },
    {
      "cell_type": "code",
      "source": [
        "import numpy as np\n",
        "import matplotlib.pyplot as plt\n",
        "from matplotlib.colors import Normalize, ListedColormap\n",
        "\n",
        "# Création d'une colormap personnalisée pour les trous (valeurs spéciales = 10)\n",
        "cmap = plt.cm.RdYlGn  # Colormap de base\n",
        "cmap_colors = cmap(np.linspace(0, 1, 256))\n",
        "cmap_colors[0] = [0, 0, 0, 1]  # Noir pour les trous (valeurs à 10)\n",
        "custom_cmap = ListedColormap(cmap_colors)\n",
        "\n",
        "# Normalisation personnalisée\n",
        "class CustomNormalize(Normalize):\n",
        "    def __init__(self, vmin=None, vmax=None, special_value=None, **kwargs):\n",
        "        super().__init__(vmin=vmin, vmax=vmax, **kwargs)\n",
        "        self.special_value = special_value\n",
        "\n",
        "    def __call__(self, value, clip=None):\n",
        "        # Traite les trous comme une valeur spéciale\n",
        "        result = super().__call__(value, clip)\n",
        "        result = np.ma.masked_where(value == self.special_value, result)\n",
        "        result = np.ma.filled(result, 0)  # Mappe les trous (valeurs à 10) sur la première couleur (noir)\n",
        "        return result\n",
        "\n",
        "# Appliquer la normalisation personnalisée pour gérer les trous\n",
        "norm = CustomNormalize(vmin=-1, vmax=1, special_value=10)\n",
        "\n",
        "# Calcul de la différence entre l'image prédite et l'image originale\n",
        "difference = np.abs(X_test - y_pred.squeeze())  # Différence absolue\n",
        "\n",
        "# Créer un masque pour afficher uniquement les trous\n",
        "mask_holes = (y_test == 10)  # Masque des pixels troués\n",
        "difference_holes_only = np.where(mask_holes, difference, np.nan)  # Masque les autres pixels\n",
        "\n",
        "# Visualisation des résultats\n",
        "idx = 555  # Index pour visualiser un échantillon spécifique\n",
        "\n",
        "plt.figure(figsize=(20, 5))\n",
        "\n",
        "# Vérité terrain\n",
        "plt.subplot(1, 4, 1)\n",
        "plt.title(\"Ground Truth\", fontsize=20)  # Increase font size\n",
        "img1 = plt.imshow(X_test[idx, :, :], cmap='RdYlGn', norm=norm)\n",
        "plt.axis('off')\n",
        "cbar1 = plt.colorbar(img1, fraction=0.046, pad=0.04)\n",
        "cbar1.ax.tick_params(labelsize=16)  # Increase colorbar font size\n",
        "\n",
        "# Image d'entrée avec trous\n",
        "plt.subplot(1, 4, 2)\n",
        "plt.title(\"Input with Holes\", fontsize=20)  # Increase font size\n",
        "img2 = plt.imshow(y_test[idx, :, :], cmap=custom_cmap, norm=norm)\n",
        "plt.axis('off')\n",
        "cbar2 = plt.colorbar(img2, fraction=0.046, pad=0.04)\n",
        "cbar2.ax.tick_params(labelsize=16)  # Increase colorbar font size\n",
        "\n",
        "# Prédictions\n",
        "plt.subplot(1, 4, 3)\n",
        "plt.title(\"Prediction\", fontsize=20)  # Increase font size\n",
        "img3 = plt.imshow(y_pred[idx, :, :], cmap='RdYlGn', norm=norm)\n",
        "plt.axis('off')\n",
        "cbar3 = plt.colorbar(img3, fraction=0.046, pad=0.04)\n",
        "cbar3.ax.tick_params(labelsize=16)  # Increase colorbar font size\n",
        "\n",
        "# Différence uniquement dans les trous\n",
        "plt.subplot(1, 4, 4)\n",
        "plt.title(\"Difference (Holes Only)\", fontsize=20)  # Increase font size\n",
        "img4 = plt.imshow(difference_holes_only[idx, :, :], cmap='RdYlGn_r', vmin=0)  # Colormap pour différences\n",
        "plt.axis('off')\n",
        "cbar4 = plt.colorbar(img4, fraction=0.046, pad=0.04)\n",
        "cbar4.ax.tick_params(labelsize=16)  # Increase colorbar font size\n",
        "\n",
        "plt.tight_layout()\n",
        "plt.show()\n"
      ],
      "metadata": {
        "id": "RXCQiKLJ0Kv7",
        "outputId": "44abc11b-9b5b-4243-97c5-3960f1130a3c",
        "colab": {
          "base_uri": "https://localhost:8080/",
          "height": 208
        }
      },
      "execution_count": 48,
      "outputs": [
        {
          "output_type": "display_data",
          "data": {
            "text/plain": [
              "<Figure size 2000x500 with 8 Axes>"
            ],
            "image/png": "[encoded data removed]"
          },
          "metadata": {}
        }
      ]
    },
    {
      "cell_type": "markdown",
      "source": [
        "##### 2.5.5 Evaluate the model"
      ],
      "metadata": {
        "id": "eiCniE9XIzTM"
      }
    },
    {
      "cell_type": "code",
      "source": [
        "import numpy as np\n",
        "\n",
        "# Example: Assuming `MASK_VALUE` is the value used for invalid pixels\n",
        "MASK_VALUE = 10  # Replace with your actual mask value\n",
        "\n",
        "# Flatten the arrays to simplify processing (if needed)\n",
        "y_test_flat = y_test.flatten()\n",
        "y_pred_flat = y_pred.flatten()\n",
        "\n",
        "# Step 1: Create a mask for valid pixels\n",
        "valid_mask = y_test_flat != MASK_VALUE\n",
        "\n",
        "# Step 2: Extract valid pixels from ground truth and predictions\n",
        "y_test_valid = y_test_flat[valid_mask]\n",
        "y_pred_valid = y_pred_flat[valid_mask]\n",
        "\n",
        "# Step 3: Evaluate the model using the valid pixels\n",
        "# Example: Calculate RMSE\n",
        "rmse = np.sqrt(np.mean((y_test_valid - y_pred_valid) ** 2))\n",
        "print(f\"RMSE: {rmse}\")\n",
        "\n",
        "# Example: Calculate correlation coefficient (R²)\n",
        "correlation = np.corrcoef(y_test_valid, y_pred_valid)[0, 1]\n",
        "r_squared = correlation ** 2\n",
        "print(f\"R²: {r_squared}\")\n",
        "\n"
      ],
      "metadata": {
        "colab": {
          "base_uri": "https://localhost:8080/"
        },
        "id": "lOhocB5RI-Br",
        "outputId": "0db3b2ce-b049-4a68-fa1e-c226997bdefd"
      },
      "execution_count": 39,
      "outputs": [
        {
          "output_type": "stream",
          "name": "stdout",
          "text": [
            "RMSE: 0.005393275059759617\n",
            "R²: 0.9985863348143312\n"
          ]
        }
      ]
    },
    {
      "cell_type": "code",
      "source": [
        "import matplotlib.pyplot as plt\n",
        "import seaborn as sns\n",
        "\n",
        "# Plot histograms\n",
        "plt.figure(figsize=(10, 6))\n",
        "plt.hist(y_test_valid, bins=50, alpha=0.5, label='Ground Truth', color='blue')\n",
        "plt.hist(y_pred_valid, bins=50, alpha=0.5, label='Predicted', color='orange')\n",
        "plt.title('Distribution of Valid Pixel Values')\n",
        "plt.xlabel('Pixel Value')\n",
        "plt.ylabel('Frequency')\n",
        "plt.legend()\n",
        "plt.show()\n",
        "\n",
        "# Optional: Density plot (smoother)\n",
        "plt.figure(figsize=(10, 6))\n",
        "sns.kdeplot(y_test_valid, label='Ground Truth', color='blue', shade=True)\n",
        "sns.kdeplot(y_pred_valid, label='Predicted', color='orange', shade=True)\n",
        "plt.title('Density Plot of Valid Pixel Values')\n",
        "plt.xlabel('Pixel Value')\n",
        "plt.ylabel('Density')\n",
        "plt.legend()\n",
        "plt.show()\n"
      ],
      "metadata": {
        "colab": {
          "base_uri": "https://localhost:8080/",
          "height": 1000
        },
        "id": "N6lRgii9JcpN",
        "outputId": "79624fea-1939-4819-c692-6c2f7543755c"
      },
      "execution_count": 40,
      "outputs": [
        {
          "output_type": "display_data",
          "data": {
            "text/plain": [
              "<Figure size 1000x600 with 1 Axes>"
            ],
            "image/png": "[encoded data removed]"
          },
          "metadata": {}
        },
        {
          "output_type": "stream",
          "name": "stderr",
          "text": [
            "<ipython-input-40-ebc25c7733d0>:16: FutureWarning: \n",
            "\n",
            "`shade` is now deprecated in favor of `fill`; setting `fill=True`.\n",
            "This will become an error in seaborn v0.14.0; please update your code.\n",
            "\n",
            "  sns.kdeplot(y_test_valid, label='Ground Truth', color='blue', shade=True)\n",
            "<ipython-input-40-ebc25c7733d0>:17: FutureWarning: \n",
            "\n",
            "`shade` is now deprecated in favor of `fill`; setting `fill=True`.\n",
            "This will become an error in seaborn v0.14.0; please update your code.\n",
            "\n",
            "  sns.kdeplot(y_pred_valid, label='Predicted', color='orange', shade=True)\n"
          ]
        },
        {
          "output_type": "display_data",
          "data": {
            "text/plain": [
              "<Figure size 1000x600 with 1 Axes>"
            ],
            "image/png": "[encoded data removed]"
          },
          "metadata": {}
        }
      ]
    },
    {
      "cell_type": "code",
      "source": [
        "mae = np.mean(np.abs(y_test_valid - y_pred_valid))\n",
        "print(f\"Mean Absolute Error (MAE): {mae}\")\n",
        "rmse = np.sqrt(np.mean((y_test_valid - y_pred_valid) ** 2))\n",
        "print(f\"Root Mean Square Error (RMSE): {rmse}\")\n",
        "mape = np.mean(np.abs((y_test_valid - y_pred_valid) / y_test_valid)) * 100\n",
        "print(f\"Mean Absolute Percentage Error (MAPE): {mape:.2f}%\")\n",
        "correlation = np.corrcoef(y_test_valid, y_pred_valid)[0, 1]\n",
        "r_squared = correlation ** 2\n",
        "print(f\"R² (Coefficient of Determination): {r_squared}\")\n"
      ],
      "metadata": {
        "colab": {
          "base_uri": "https://localhost:8080/"
        },
        "id": "R_9AG8djJgQ1",
        "outputId": "0e91f180-5162-4522-f5f2-1086c15524ca"
      },
      "execution_count": 41,
      "outputs": [
        {
          "output_type": "stream",
          "name": "stdout",
          "text": [
            "Mean Absolute Error (MAE): 0.0035899390932172537\n",
            "Root Mean Square Error (RMSE): 0.005393275059759617\n",
            "Mean Absolute Percentage Error (MAPE): inf%\n",
            "R² (Coefficient of Determination): 0.9985863348143312\n"
          ]
        },
        {
          "output_type": "stream",
          "name": "stderr",
          "text": [
            "<ipython-input-41-f0cdbcfc372e>:5: RuntimeWarning: divide by zero encountered in divide\n",
            "  mape = np.mean(np.abs((y_test_valid - y_pred_valid) / y_test_valid)) * 100\n"
          ]
        }
      ]
    },
    {
      "cell_type": "code",
      "source": [
        "plt.figure(figsize=(8, 8))\n",
        "plt.scatter(y_test_valid, y_pred_valid, alpha=0.5, edgecolor='k', s=10)\n",
        "plt.plot([y_test_valid.min(), y_test_valid.max()],\n",
        "         [y_test_valid.min(), y_test_valid.max()],\n",
        "         color='red', linestyle='--', label='Ideal Fit')\n",
        "plt.title('Scatter Plot: Ground Truth vs Predictions')\n",
        "plt.xlabel('Ground Truth (y_test)')\n",
        "plt.ylabel('Predictions (y_pred)')\n",
        "plt.legend()\n",
        "plt.show()\n"
      ],
      "metadata": {
        "colab": {
          "base_uri": "https://localhost:8080/",
          "height": 655
        },
        "id": "T6K2avIZJozs",
        "outputId": "81426095-7ad4-460f-8838-b5f00527e806"
      },
      "execution_count": 43,
      "outputs": [
        {
          "output_type": "display_data",
          "data": {
            "text/plain": [
              "<Figure size 800x800 with 1 Axes>"
            ],
            "image/png": "[encoded data removed]"
          },
          "metadata": {}
        }
      ]
    },
    {
      "cell_type": "markdown",
      "source": [
        "#### 3. Test on another region (Val d'Hérens)"
      ],
      "metadata": {
        "id": "RhjC0SdVKEUM"
      }
    },
    {
      "cell_type": "code",
      "source": [
        "import os\n",
        "import numpy as np\n",
        "import cv2\n",
        "from tqdm import tqdm"
      ],
      "metadata": {
        "id": "csWd6u21K0_R"
      },
      "execution_count": 1,
      "outputs": []
    },
    {
      "cell_type": "code",
      "source": [
        "#Dataset stored on Google Drive\n",
        "from google.colab import drive\n",
        "drive.mount('/content/drive')\n",
        "\n",
        "\n",
        "import os\n",
        "folder_path = '/content/drive/My Drive/NDVI_herens/'"
      ],
      "metadata": {
        "colab": {
          "base_uri": "https://localhost:8080/"
        },
        "id": "78sP1aukLU93",
        "outputId": "7ea31df6-01f6-46a5-f8aa-ee03dd3d7c0e"
      },
      "execution_count": 2,
      "outputs": [
        {
          "output_type": "stream",
          "name": "stdout",
          "text": [
            "Mounted at /content/drive\n"
          ]
        }
      ]
    },
    {
      "cell_type": "code",
      "source": [
        "import os\n",
        "import numpy as np\n",
        "from sklearn.impute import SimpleImputer\n",
        "!pip install rasterio\n",
        "import rasterio\n",
        "# Créer un dossier pour sauvegarder les images corrigées\n",
        "output_folder = os.path.join(folder_path, \"imputed\")\n",
        "os.makedirs(output_folder, exist_ok=True)\n",
        "\n",
        "# Fonction pour imputer les valeurs NaN\n",
        "def impute_ndvi_image(image_path, output_path):\n",
        "    with rasterio.open(image_path) as src:\n",
        "        image = src.read(1)  # Lecture de la première bande uniquement\n",
        "        meta = src.meta  # Métadonnées pour sauvegarde\n",
        "\n",
        "    # Masque des NaN\n",
        "    nan_mask = np.isnan(image)\n",
        "\n",
        "    # Imputation des NaN avec la médiane\n",
        "    imputer = SimpleImputer(strategy='median')\n",
        "    image_imputed = imputer.fit_transform(image)\n",
        "\n",
        "    # Sauvegarde de l'image corrigée\n",
        "    with rasterio.open(output_path, 'w', **meta) as dst:\n",
        "        dst.write(image_imputed, 1)\n",
        "\n",
        "# Parcourir toutes les images dans le dossier et appliquer l'imputation\n",
        "for filename in os.listdir(folder_path):\n",
        "    if filename.endswith(\".tif\"):\n",
        "        input_path = os.path.join(folder_path, filename)\n",
        "        output_path = os.path.join(output_folder, filename)\n",
        "        impute_ndvi_image(input_path, output_path)\n"
      ],
      "metadata": {
        "colab": {
          "base_uri": "https://localhost:8080/",
          "height": 338
        },
        "collapsed": true,
        "id": "gh5Q9upILAQK",
        "outputId": "6b64f467-76ed-40fe-a0fb-2083ce9c7c67"
      },
      "execution_count": 3,
      "outputs": [
        {
          "output_type": "error",
          "ename": "KeyboardInterrupt",
          "evalue": "",
          "traceback": [
            "\u001b[0;31m---------------------------------------------------------------------------\u001b[0m",
            "\u001b[0;31mKeyboardInterrupt\u001b[0m                         Traceback (most recent call last)",
            "\u001b[0;32m<ipython-input-3-03b8f78e7345>\u001b[0m in \u001b[0;36m<cell line: 3>\u001b[0;34m()\u001b[0m\n\u001b[1;32m      1\u001b[0m \u001b[0;32mimport\u001b[0m \u001b[0mos\u001b[0m\u001b[0;34m\u001b[0m\u001b[0;34m\u001b[0m\u001b[0m\n\u001b[1;32m      2\u001b[0m \u001b[0;32mimport\u001b[0m \u001b[0mnumpy\u001b[0m \u001b[0;32mas\u001b[0m \u001b[0mnp\u001b[0m\u001b[0;34m\u001b[0m\u001b[0;34m\u001b[0m\u001b[0m\n\u001b[0;32m----> 3\u001b[0;31m \u001b[0;32mfrom\u001b[0m \u001b[0msklearn\u001b[0m\u001b[0;34m.\u001b[0m\u001b[0mimpute\u001b[0m \u001b[0;32mimport\u001b[0m \u001b[0mSimpleImputer\u001b[0m\u001b[0;34m\u001b[0m\u001b[0;34m\u001b[0m\u001b[0m\n\u001b[0m\u001b[1;32m      4\u001b[0m \u001b[0mget_ipython\u001b[0m\u001b[0;34m(\u001b[0m\u001b[0;34m)\u001b[0m\u001b[0;34m.\u001b[0m\u001b[0msystem\u001b[0m\u001b[0;34m(\u001b[0m\u001b[0;34m'pip install rasterio'\u001b[0m\u001b[0;34m)\u001b[0m\u001b[0;34m\u001b[0m\u001b[0;34m\u001b[0m\u001b[0m\n\u001b[1;32m      5\u001b[0m \u001b[0;32mimport\u001b[0m \u001b[0mrasterio\u001b[0m\u001b[0;34m\u001b[0m\u001b[0;34m\u001b[0m\u001b[0m\n",
            "\u001b[0;32m/usr/local/lib/python3.10/dist-packages/sklearn/__init__.py\u001b[0m in \u001b[0;36m<module>\u001b[0;34m\u001b[0m\n\u001b[1;32m     82\u001b[0m         \u001b[0m_distributor_init\u001b[0m\u001b[0;34m,\u001b[0m  \u001b[0;31m# noqa: F401\u001b[0m\u001b[0;34m\u001b[0m\u001b[0;34m\u001b[0m\u001b[0m\n\u001b[1;32m     83\u001b[0m     )\n\u001b[0;32m---> 84\u001b[0;31m     \u001b[0;32mfrom\u001b[0m \u001b[0;34m.\u001b[0m\u001b[0mbase\u001b[0m \u001b[0;32mimport\u001b[0m \u001b[0mclone\u001b[0m\u001b[0;34m\u001b[0m\u001b[0;34m\u001b[0m\u001b[0m\n\u001b[0m\u001b[1;32m     85\u001b[0m     \u001b[0;32mfrom\u001b[0m \u001b[0;34m.\u001b[0m\u001b[0mutils\u001b[0m\u001b[0;34m.\u001b[0m\u001b[0m_show_versions\u001b[0m \u001b[0;32mimport\u001b[0m \u001b[0mshow_versions\u001b[0m\u001b[0;34m\u001b[0m\u001b[0;34m\u001b[0m\u001b[0m\n\u001b[1;32m     86\u001b[0m \u001b[0;34m\u001b[0m\u001b[0m\n",
            "\u001b[0;32m/usr/local/lib/python3.10/dist-packages/sklearn/base.py\u001b[0m in \u001b[0;36m<module>\u001b[0;34m\u001b[0m\n\u001b[1;32m     17\u001b[0m \u001b[0;32mfrom\u001b[0m \u001b[0;34m.\u001b[0m\u001b[0m_config\u001b[0m \u001b[0;32mimport\u001b[0m \u001b[0mconfig_context\u001b[0m\u001b[0;34m,\u001b[0m \u001b[0mget_config\u001b[0m\u001b[0;34m\u001b[0m\u001b[0;34m\u001b[0m\u001b[0m\n\u001b[1;32m     18\u001b[0m \u001b[0;32mfrom\u001b[0m \u001b[0;34m.\u001b[0m\u001b[0mexceptions\u001b[0m \u001b[0;32mimport\u001b[0m \u001b[0mInconsistentVersionWarning\u001b[0m\u001b[0;34m\u001b[0m\u001b[0;34m\u001b[0m\u001b[0m\n\u001b[0;32m---> 19\u001b[0;31m \u001b[0;32mfrom\u001b[0m \u001b[0;34m.\u001b[0m\u001b[0mutils\u001b[0m\u001b[0;34m.\u001b[0m\u001b[0m_estimator_html_repr\u001b[0m \u001b[0;32mimport\u001b[0m \u001b[0m_HTMLDocumentationLinkMixin\u001b[0m\u001b[0;34m,\u001b[0m \u001b[0mestimator_html_repr\u001b[0m\u001b[0;34m\u001b[0m\u001b[0;34m\u001b[0m\u001b[0m\n\u001b[0m\u001b[1;32m     20\u001b[0m \u001b[0;32mfrom\u001b[0m \u001b[0;34m.\u001b[0m\u001b[0mutils\u001b[0m\u001b[0;34m.\u001b[0m\u001b[0m_metadata_requests\u001b[0m \u001b[0;32mimport\u001b[0m \u001b[0m_MetadataRequester\u001b[0m\u001b[0;34m,\u001b[0m \u001b[0m_routing_enabled\u001b[0m\u001b[0;34m\u001b[0m\u001b[0;34m\u001b[0m\u001b[0m\n\u001b[1;32m     21\u001b[0m \u001b[0;32mfrom\u001b[0m \u001b[0;34m.\u001b[0m\u001b[0mutils\u001b[0m\u001b[0;34m.\u001b[0m\u001b[0m_param_validation\u001b[0m \u001b[0;32mimport\u001b[0m \u001b[0mvalidate_parameter_constraints\u001b[0m\u001b[0;34m\u001b[0m\u001b[0;34m\u001b[0m\u001b[0m\n",
            "\u001b[0;32m/usr/local/lib/python3.10/dist-packages/sklearn/utils/__init__.py\u001b[0m in \u001b[0;36m<module>\u001b[0;34m\u001b[0m\n\u001b[1;32m      9\u001b[0m \u001b[0;32mfrom\u001b[0m \u001b[0;34m.\u001b[0m \u001b[0;32mimport\u001b[0m \u001b[0m_joblib\u001b[0m\u001b[0;34m,\u001b[0m \u001b[0mmetadata_routing\u001b[0m\u001b[0;34m\u001b[0m\u001b[0;34m\u001b[0m\u001b[0m\n\u001b[1;32m     10\u001b[0m \u001b[0;32mfrom\u001b[0m \u001b[0;34m.\u001b[0m\u001b[0m_bunch\u001b[0m \u001b[0;32mimport\u001b[0m \u001b[0mBunch\u001b[0m\u001b[0;34m\u001b[0m\u001b[0;34m\u001b[0m\u001b[0m\n\u001b[0;32m---> 11\u001b[0;31m \u001b[0;32mfrom\u001b[0m \u001b[0;34m.\u001b[0m\u001b[0m_chunking\u001b[0m \u001b[0;32mimport\u001b[0m \u001b[0mgen_batches\u001b[0m\u001b[0;34m,\u001b[0m \u001b[0mgen_even_slices\u001b[0m\u001b[0;34m\u001b[0m\u001b[0;34m\u001b[0m\u001b[0m\n\u001b[0m\u001b[1;32m     12\u001b[0m \u001b[0;32mfrom\u001b[0m \u001b[0;34m.\u001b[0m\u001b[0m_estimator_html_repr\u001b[0m \u001b[0;32mimport\u001b[0m \u001b[0mestimator_html_repr\u001b[0m\u001b[0;34m\u001b[0m\u001b[0;34m\u001b[0m\u001b[0m\n\u001b[1;32m     13\u001b[0m \u001b[0;34m\u001b[0m\u001b[0m\n",
            "\u001b[0;32m/usr/local/lib/python3.10/dist-packages/sklearn/utils/_chunking.py\u001b[0m in \u001b[0;36m<module>\u001b[0;34m\u001b[0m\n\u001b[1;32m      6\u001b[0m \u001b[0;34m\u001b[0m\u001b[0m\n\u001b[1;32m      7\u001b[0m \u001b[0;32mfrom\u001b[0m \u001b[0;34m.\u001b[0m\u001b[0;34m.\u001b[0m\u001b[0m_config\u001b[0m \u001b[0;32mimport\u001b[0m \u001b[0mget_config\u001b[0m\u001b[0;34m\u001b[0m\u001b[0;34m\u001b[0m\u001b[0m\n\u001b[0;32m----> 8\u001b[0;31m \u001b[0;32mfrom\u001b[0m \u001b[0;34m.\u001b[0m\u001b[0m_param_validation\u001b[0m \u001b[0;32mimport\u001b[0m \u001b[0mInterval\u001b[0m\u001b[0;34m,\u001b[0m \u001b[0mvalidate_params\u001b[0m\u001b[0;34m\u001b[0m\u001b[0;34m\u001b[0m\u001b[0m\n\u001b[0m\u001b[1;32m      9\u001b[0m \u001b[0;34m\u001b[0m\u001b[0m\n\u001b[1;32m     10\u001b[0m \u001b[0;34m\u001b[0m\u001b[0m\n",
            "\u001b[0;32m/usr/local/lib/python3.10/dist-packages/sklearn/utils/_param_validation.py\u001b[0m in \u001b[0;36m<module>\u001b[0;34m\u001b[0m\n\u001b[1;32m     12\u001b[0m \u001b[0;34m\u001b[0m\u001b[0m\n\u001b[1;32m     13\u001b[0m \u001b[0;32mfrom\u001b[0m \u001b[0;34m.\u001b[0m\u001b[0;34m.\u001b[0m\u001b[0m_config\u001b[0m \u001b[0;32mimport\u001b[0m \u001b[0mconfig_context\u001b[0m\u001b[0;34m,\u001b[0m \u001b[0mget_config\u001b[0m\u001b[0;34m\u001b[0m\u001b[0;34m\u001b[0m\u001b[0m\n\u001b[0;32m---> 14\u001b[0;31m \u001b[0;32mfrom\u001b[0m \u001b[0;34m.\u001b[0m\u001b[0mvalidation\u001b[0m \u001b[0;32mimport\u001b[0m \u001b[0m_is_arraylike_not_scalar\u001b[0m\u001b[0;34m\u001b[0m\u001b[0;34m\u001b[0m\u001b[0m\n\u001b[0m\u001b[1;32m     15\u001b[0m \u001b[0;34m\u001b[0m\u001b[0m\n\u001b[1;32m     16\u001b[0m \u001b[0;34m\u001b[0m\u001b[0m\n",
            "\u001b[0;32m/usr/local/lib/python3.10/dist-packages/sklearn/utils/validation.py\u001b[0m in \u001b[0;36m<module>\u001b[0;34m\u001b[0m\n\u001b[1;32m     24\u001b[0m \u001b[0;32mfrom\u001b[0m \u001b[0;34m.\u001b[0m\u001b[0;34m.\u001b[0m \u001b[0;32mimport\u001b[0m \u001b[0mget_config\u001b[0m \u001b[0;32mas\u001b[0m \u001b[0m_get_config\u001b[0m\u001b[0;34m\u001b[0m\u001b[0;34m\u001b[0m\u001b[0m\n\u001b[1;32m     25\u001b[0m \u001b[0;32mfrom\u001b[0m \u001b[0;34m.\u001b[0m\u001b[0;34m.\u001b[0m\u001b[0mexceptions\u001b[0m \u001b[0;32mimport\u001b[0m \u001b[0mDataConversionWarning\u001b[0m\u001b[0;34m,\u001b[0m \u001b[0mNotFittedError\u001b[0m\u001b[0;34m,\u001b[0m \u001b[0mPositiveSpectrumWarning\u001b[0m\u001b[0;34m\u001b[0m\u001b[0;34m\u001b[0m\u001b[0m\n\u001b[0;32m---> 26\u001b[0;31m \u001b[0;32mfrom\u001b[0m \u001b[0;34m.\u001b[0m\u001b[0;34m.\u001b[0m\u001b[0mutils\u001b[0m\u001b[0;34m.\u001b[0m\u001b[0m_array_api\u001b[0m \u001b[0;32mimport\u001b[0m \u001b[0m_asarray_with_order\u001b[0m\u001b[0;34m,\u001b[0m \u001b[0m_is_numpy_namespace\u001b[0m\u001b[0;34m,\u001b[0m \u001b[0mget_namespace\u001b[0m\u001b[0;34m\u001b[0m\u001b[0;34m\u001b[0m\u001b[0m\n\u001b[0m\u001b[1;32m     27\u001b[0m \u001b[0;32mfrom\u001b[0m \u001b[0;34m.\u001b[0m\u001b[0;34m.\u001b[0m\u001b[0mutils\u001b[0m\u001b[0;34m.\u001b[0m\u001b[0mfixes\u001b[0m \u001b[0;32mimport\u001b[0m \u001b[0mComplexWarning\u001b[0m\u001b[0;34m,\u001b[0m \u001b[0m_preserve_dia_indices_dtype\u001b[0m\u001b[0;34m\u001b[0m\u001b[0;34m\u001b[0m\u001b[0m\n\u001b[1;32m     28\u001b[0m \u001b[0;32mfrom\u001b[0m \u001b[0;34m.\u001b[0m\u001b[0m_isfinite\u001b[0m \u001b[0;32mimport\u001b[0m \u001b[0mFiniteStatus\u001b[0m\u001b[0;34m,\u001b[0m \u001b[0mcy_isfinite\u001b[0m\u001b[0;34m\u001b[0m\u001b[0;34m\u001b[0m\u001b[0m\n",
            "\u001b[0;32m/usr/local/lib/python3.10/dist-packages/sklearn/utils/_array_api.py\u001b[0m in \u001b[0;36m<module>\u001b[0;34m\u001b[0m\n\u001b[1;32m      9\u001b[0m \u001b[0;34m\u001b[0m\u001b[0m\n\u001b[1;32m     10\u001b[0m \u001b[0;32mfrom\u001b[0m \u001b[0;34m.\u001b[0m\u001b[0;34m.\u001b[0m\u001b[0m_config\u001b[0m \u001b[0;32mimport\u001b[0m \u001b[0mget_config\u001b[0m\u001b[0;34m\u001b[0m\u001b[0;34m\u001b[0m\u001b[0m\n\u001b[0;32m---> 11\u001b[0;31m \u001b[0;32mfrom\u001b[0m \u001b[0;34m.\u001b[0m\u001b[0mfixes\u001b[0m \u001b[0;32mimport\u001b[0m \u001b[0mparse_version\u001b[0m\u001b[0;34m\u001b[0m\u001b[0;34m\u001b[0m\u001b[0m\n\u001b[0m\u001b[1;32m     12\u001b[0m \u001b[0;34m\u001b[0m\u001b[0m\n\u001b[1;32m     13\u001b[0m \u001b[0m_NUMPY_NAMESPACE_NAMES\u001b[0m \u001b[0;34m=\u001b[0m \u001b[0;34m{\u001b[0m\u001b[0;34m\"numpy\"\u001b[0m\u001b[0;34m,\u001b[0m \u001b[0;34m\"array_api_compat.numpy\"\u001b[0m\u001b[0;34m}\u001b[0m\u001b[0;34m\u001b[0m\u001b[0;34m\u001b[0m\u001b[0m\n",
            "\u001b[0;32m/usr/local/lib/python3.10/dist-packages/sklearn/utils/fixes.py\u001b[0m in \u001b[0;36m<module>\u001b[0;34m\u001b[0m\n\u001b[1;32m     22\u001b[0m \u001b[0;34m\u001b[0m\u001b[0m\n\u001b[1;32m     23\u001b[0m \u001b[0;32mtry\u001b[0m\u001b[0;34m:\u001b[0m\u001b[0;34m\u001b[0m\u001b[0;34m\u001b[0m\u001b[0m\n\u001b[0;32m---> 24\u001b[0;31m     \u001b[0;32mimport\u001b[0m \u001b[0mpandas\u001b[0m \u001b[0;32mas\u001b[0m \u001b[0mpd\u001b[0m\u001b[0;34m\u001b[0m\u001b[0;34m\u001b[0m\u001b[0m\n\u001b[0m\u001b[1;32m     25\u001b[0m \u001b[0;32mexcept\u001b[0m \u001b[0mImportError\u001b[0m\u001b[0;34m:\u001b[0m\u001b[0;34m\u001b[0m\u001b[0;34m\u001b[0m\u001b[0m\n\u001b[1;32m     26\u001b[0m     \u001b[0mpd\u001b[0m \u001b[0;34m=\u001b[0m \u001b[0;32mNone\u001b[0m\u001b[0;34m\u001b[0m\u001b[0;34m\u001b[0m\u001b[0m\n",
            "\u001b[0;32m/usr/local/lib/python3.10/dist-packages/pandas/__init__.py\u001b[0m in \u001b[0;36m<module>\u001b[0;34m\u001b[0m\n\u001b[1;32m     47\u001b[0m \u001b[0;32mimport\u001b[0m \u001b[0mpandas\u001b[0m\u001b[0;34m.\u001b[0m\u001b[0mcore\u001b[0m\u001b[0;34m.\u001b[0m\u001b[0mconfig_init\u001b[0m  \u001b[0;31m# pyright: ignore[reportUnusedImport] # noqa: F401\u001b[0m\u001b[0;34m\u001b[0m\u001b[0;34m\u001b[0m\u001b[0m\n\u001b[1;32m     48\u001b[0m \u001b[0;34m\u001b[0m\u001b[0m\n\u001b[0;32m---> 49\u001b[0;31m from pandas.core.api import (\n\u001b[0m\u001b[1;32m     50\u001b[0m     \u001b[0;31m# dtype\u001b[0m\u001b[0;34m\u001b[0m\u001b[0;34m\u001b[0m\u001b[0m\n\u001b[1;32m     51\u001b[0m     \u001b[0mArrowDtype\u001b[0m\u001b[0;34m,\u001b[0m\u001b[0;34m\u001b[0m\u001b[0;34m\u001b[0m\u001b[0m\n",
            "\u001b[0;32m/usr/local/lib/python3.10/dist-packages/pandas/core/api.py\u001b[0m in \u001b[0;36m<module>\u001b[0;34m\u001b[0m\n\u001b[1;32m     26\u001b[0m     \u001b[0mvalue_counts\u001b[0m\u001b[0;34m,\u001b[0m\u001b[0;34m\u001b[0m\u001b[0;34m\u001b[0m\u001b[0m\n\u001b[1;32m     27\u001b[0m )\n\u001b[0;32m---> 28\u001b[0;31m \u001b[0;32mfrom\u001b[0m \u001b[0mpandas\u001b[0m\u001b[0;34m.\u001b[0m\u001b[0mcore\u001b[0m\u001b[0;34m.\u001b[0m\u001b[0marrays\u001b[0m \u001b[0;32mimport\u001b[0m \u001b[0mCategorical\u001b[0m\u001b[0;34m\u001b[0m\u001b[0;34m\u001b[0m\u001b[0m\n\u001b[0m\u001b[1;32m     29\u001b[0m \u001b[0;32mfrom\u001b[0m \u001b[0mpandas\u001b[0m\u001b[0;34m.\u001b[0m\u001b[0mcore\u001b[0m\u001b[0;34m.\u001b[0m\u001b[0marrays\u001b[0m\u001b[0;34m.\u001b[0m\u001b[0mboolean\u001b[0m \u001b[0;32mimport\u001b[0m \u001b[0mBooleanDtype\u001b[0m\u001b[0;34m\u001b[0m\u001b[0;34m\u001b[0m\u001b[0m\n\u001b[1;32m     30\u001b[0m from pandas.core.arrays.floating import (\n",
            "\u001b[0;32m/usr/local/lib/python3.10/dist-packages/pandas/core/arrays/__init__.py\u001b[0m in \u001b[0;36m<module>\u001b[0;34m\u001b[0m\n\u001b[0;32m----> 1\u001b[0;31m \u001b[0;32mfrom\u001b[0m \u001b[0mpandas\u001b[0m\u001b[0;34m.\u001b[0m\u001b[0mcore\u001b[0m\u001b[0;34m.\u001b[0m\u001b[0marrays\u001b[0m\u001b[0;34m.\u001b[0m\u001b[0marrow\u001b[0m \u001b[0;32mimport\u001b[0m \u001b[0mArrowExtensionArray\u001b[0m\u001b[0;34m\u001b[0m\u001b[0;34m\u001b[0m\u001b[0m\n\u001b[0m\u001b[1;32m      2\u001b[0m from pandas.core.arrays.base import (\n\u001b[1;32m      3\u001b[0m     \u001b[0mExtensionArray\u001b[0m\u001b[0;34m,\u001b[0m\u001b[0;34m\u001b[0m\u001b[0;34m\u001b[0m\u001b[0m\n\u001b[1;32m      4\u001b[0m     \u001b[0mExtensionOpsMixin\u001b[0m\u001b[0;34m,\u001b[0m\u001b[0;34m\u001b[0m\u001b[0;34m\u001b[0m\u001b[0m\n\u001b[1;32m      5\u001b[0m     \u001b[0mExtensionScalarOpsMixin\u001b[0m\u001b[0;34m,\u001b[0m\u001b[0;34m\u001b[0m\u001b[0;34m\u001b[0m\u001b[0m\n",
            "\u001b[0;32m/usr/local/lib/python3.10/dist-packages/pandas/core/arrays/arrow/__init__.py\u001b[0m in \u001b[0;36m<module>\u001b[0;34m\u001b[0m\n\u001b[0;32m----> 1\u001b[0;31m from pandas.core.arrays.arrow.accessors import (\n\u001b[0m\u001b[1;32m      2\u001b[0m     \u001b[0mListAccessor\u001b[0m\u001b[0;34m,\u001b[0m\u001b[0;34m\u001b[0m\u001b[0;34m\u001b[0m\u001b[0m\n\u001b[1;32m      3\u001b[0m     \u001b[0mStructAccessor\u001b[0m\u001b[0;34m,\u001b[0m\u001b[0;34m\u001b[0m\u001b[0;34m\u001b[0m\u001b[0m\n\u001b[1;32m      4\u001b[0m )\n\u001b[1;32m      5\u001b[0m \u001b[0;32mfrom\u001b[0m \u001b[0mpandas\u001b[0m\u001b[0;34m.\u001b[0m\u001b[0mcore\u001b[0m\u001b[0;34m.\u001b[0m\u001b[0marrays\u001b[0m\u001b[0;34m.\u001b[0m\u001b[0marrow\u001b[0m\u001b[0;34m.\u001b[0m\u001b[0marray\u001b[0m \u001b[0;32mimport\u001b[0m \u001b[0mArrowExtensionArray\u001b[0m\u001b[0;34m\u001b[0m\u001b[0;34m\u001b[0m\u001b[0m\n",
            "\u001b[0;32m/usr/local/lib/python3.10/dist-packages/pandas/core/arrays/arrow/accessors.py\u001b[0m in \u001b[0;36m<module>\u001b[0;34m\u001b[0m\n\u001b[1;32m     21\u001b[0m \u001b[0;32mif\u001b[0m \u001b[0;32mnot\u001b[0m \u001b[0mpa_version_under10p1\u001b[0m\u001b[0;34m:\u001b[0m\u001b[0;34m\u001b[0m\u001b[0;34m\u001b[0m\u001b[0m\n\u001b[1;32m     22\u001b[0m     \u001b[0;32mimport\u001b[0m \u001b[0mpyarrow\u001b[0m \u001b[0;32mas\u001b[0m \u001b[0mpa\u001b[0m\u001b[0;34m\u001b[0m\u001b[0;34m\u001b[0m\u001b[0m\n\u001b[0;32m---> 23\u001b[0;31m     \u001b[0;32mimport\u001b[0m \u001b[0mpyarrow\u001b[0m\u001b[0;34m.\u001b[0m\u001b[0mcompute\u001b[0m \u001b[0;32mas\u001b[0m \u001b[0mpc\u001b[0m\u001b[0;34m\u001b[0m\u001b[0;34m\u001b[0m\u001b[0m\n\u001b[0m\u001b[1;32m     24\u001b[0m \u001b[0;34m\u001b[0m\u001b[0m\n\u001b[1;32m     25\u001b[0m     \u001b[0;32mfrom\u001b[0m \u001b[0mpandas\u001b[0m\u001b[0;34m.\u001b[0m\u001b[0mcore\u001b[0m\u001b[0;34m.\u001b[0m\u001b[0mdtypes\u001b[0m\u001b[0;34m.\u001b[0m\u001b[0mdtypes\u001b[0m \u001b[0;32mimport\u001b[0m \u001b[0mArrowDtype\u001b[0m\u001b[0;34m\u001b[0m\u001b[0;34m\u001b[0m\u001b[0m\n",
            "\u001b[0;32m/usr/local/lib/python3.10/dist-packages/pyarrow/compute.py\u001b[0m in \u001b[0;36m<module>\u001b[0;34m\u001b[0m\n\u001b[1;32m     16\u001b[0m \u001b[0;31m# under the License.\u001b[0m\u001b[0;34m\u001b[0m\u001b[0;34m\u001b[0m\u001b[0m\n\u001b[1;32m     17\u001b[0m \u001b[0;34m\u001b[0m\u001b[0m\n\u001b[0;32m---> 18\u001b[0;31m from pyarrow._compute import (  # noqa\n\u001b[0m\u001b[1;32m     19\u001b[0m     \u001b[0mFunction\u001b[0m\u001b[0;34m,\u001b[0m\u001b[0;34m\u001b[0m\u001b[0;34m\u001b[0m\u001b[0m\n\u001b[1;32m     20\u001b[0m     \u001b[0mFunctionOptions\u001b[0m\u001b[0;34m,\u001b[0m\u001b[0;34m\u001b[0m\u001b[0;34m\u001b[0m\u001b[0m\n",
            "\u001b[0;32m/usr/local/lib/python3.10/dist-packages/pyarrow/_compute.pyx\u001b[0m in \u001b[0;36minit pyarrow._compute\u001b[0;34m()\u001b[0m\n",
            "\u001b[0;32m/usr/local/lib/python3.10/dist-packages/pyarrow/_compute.pyx\u001b[0m in \u001b[0;36mpyarrow._compute._min_count_doc\u001b[0;34m()\u001b[0m\n",
            "\u001b[0;31mKeyboardInterrupt\u001b[0m: "
          ]
        }
      ]
    },
    {
      "cell_type": "code",
      "source": [
        "import numpy as np\n",
        "import os\n",
        "import rasterio\n",
        "\n",
        "folder_path = '/content/drive/My Drive/NDVI_herens/imputed'\n",
        "\n",
        "def check_for_nan(image_path):\n",
        "    with rasterio.open(image_path) as src:\n",
        "        image = src.read(1)  # Lecture de la première bande\n",
        "\n",
        "    # Vérifier s'il reste des NaN\n",
        "    if np.isnan(image).any():\n",
        "        print(f\"Il reste des NaN dans {image_path}\")\n",
        "    else:\n",
        "        print(f\"Pas de NaN dans {image_path}\")\n",
        "\n",
        "# Parcourir toutes les images dans le dossier imputé\n",
        "for filename in os.listdir(folder_path):\n",
        "    if filename.endswith(\".tif\"):\n",
        "        file_path = os.path.join(folder_path, filename)\n",
        "        check_for_nan(file_path)"
      ],
      "metadata": {
        "colab": {
          "base_uri": "https://localhost:8080/"
        },
        "collapsed": true,
        "id": "KBugwIM2LSB9",
        "outputId": "5517cb6b-4ff9-4c46-ed80-66fd07d2cd40"
      },
      "execution_count": 4,
      "outputs": [
        {
          "output_type": "stream",
          "name": "stdout",
          "text": [
            "Pas de NaN dans /content/drive/My Drive/NDVI_herens/imputed/NDVI_Val_Herens_2013-04-18.tif\n",
            "Pas de NaN dans /content/drive/My Drive/NDVI_herens/imputed/NDVI_Val_Herens_2013-11-12.tif\n",
            "Pas de NaN dans /content/drive/My Drive/NDVI_herens/imputed/NDVI_Val_Herens_2013-12-30.tif\n",
            "Pas de NaN dans /content/drive/My Drive/NDVI_herens/imputed/NDVI_Val_Herens_2013-11-28.tif\n",
            "Pas de NaN dans /content/drive/My Drive/NDVI_herens/imputed/NDVI_Val_Herens_2014-03-20.tif\n",
            "Pas de NaN dans /content/drive/My Drive/NDVI_herens/imputed/NDVI_Val_Herens_2014-06-08.tif\n",
            "Pas de NaN dans /content/drive/My Drive/NDVI_herens/imputed/NDVI_Val_Herens_2014-10-30.tif\n",
            "Pas de NaN dans /content/drive/My Drive/NDVI_herens/imputed/NDVI_Val_Herens_2015-02-19.tif\n",
            "Pas de NaN dans /content/drive/My Drive/NDVI_herens/imputed/NDVI_Val_Herens_2015-04-24.tif\n",
            "Pas de NaN dans /content/drive/My Drive/NDVI_herens/imputed/NDVI_Val_Herens_2015-04-08.tif\n",
            "Pas de NaN dans /content/drive/My Drive/NDVI_herens/imputed/NDVI_Val_Herens_2015-08-30.tif\n",
            "Pas de NaN dans /content/drive/My Drive/NDVI_herens/imputed/NDVI_Val_Herens_2015-05-10.tif\n",
            "Pas de NaN dans /content/drive/My Drive/NDVI_herens/imputed/NDVI_Val_Herens_2015-12-20.tif\n",
            "Pas de NaN dans /content/drive/My Drive/NDVI_herens/imputed/NDVI_Val_Herens_2016-10-03.tif\n",
            "Pas de NaN dans /content/drive/My Drive/NDVI_herens/imputed/NDVI_Val_Herens_2016-04-10.tif\n",
            "Pas de NaN dans /content/drive/My Drive/NDVI_herens/imputed/NDVI_Val_Herens_2016-12-06.tif\n",
            "Pas de NaN dans /content/drive/My Drive/NDVI_herens/imputed/NDVI_Val_Herens_2017-03-28.tif\n",
            "Pas de NaN dans /content/drive/My Drive/NDVI_herens/imputed/NDVI_Val_Herens_2017-01-23.tif\n",
            "Pas de NaN dans /content/drive/My Drive/NDVI_herens/imputed/NDVI_Val_Herens_2017-04-29.tif\n",
            "Pas de NaN dans /content/drive/My Drive/NDVI_herens/imputed/NDVI_Val_Herens_2018-06-19.tif\n",
            "Pas de NaN dans /content/drive/My Drive/NDVI_herens/imputed/NDVI_Val_Herens_2017-04-13.tif\n",
            "Pas de NaN dans /content/drive/My Drive/NDVI_herens/imputed/NDVI_Val_Herens_2018-10-09.tif\n",
            "Pas de NaN dans /content/drive/My Drive/NDVI_herens/imputed/NDVI_Val_Herens_2018-10-25.tif\n",
            "Pas de NaN dans /content/drive/My Drive/NDVI_herens/imputed/NDVI_Val_Herens_2019-01-29.tif\n",
            "Pas de NaN dans /content/drive/My Drive/NDVI_herens/imputed/NDVI_Val_Herens_2019-02-14.tif\n",
            "Pas de NaN dans /content/drive/My Drive/NDVI_herens/imputed/NDVI_Val_Herens_2019-08-25.tif\n",
            "Pas de NaN dans /content/drive/My Drive/NDVI_herens/imputed/NDVI_Val_Herens_2020-01-16.tif\n",
            "Pas de NaN dans /content/drive/My Drive/NDVI_herens/imputed/NDVI_Val_Herens_2019-12-31.tif\n",
            "Pas de NaN dans /content/drive/My Drive/NDVI_herens/imputed/NDVI_Val_Herens_2020-03-04.tif\n",
            "Pas de NaN dans /content/drive/My Drive/NDVI_herens/imputed/NDVI_Val_Herens_2020-05-07.tif\n",
            "Pas de NaN dans /content/drive/My Drive/NDVI_herens/imputed/NDVI_Val_Herens_2021-01-18.tif\n",
            "Pas de NaN dans /content/drive/My Drive/NDVI_herens/imputed/NDVI_Val_Herens_2021-03-23.tif\n",
            "Pas de NaN dans /content/drive/My Drive/NDVI_herens/imputed/NDVI_Val_Herens_2021-04-08.tif\n",
            "Pas de NaN dans /content/drive/My Drive/NDVI_herens/imputed/NDVI_Val_Herens_2021-08-14.tif\n",
            "Pas de NaN dans /content/drive/My Drive/NDVI_herens/imputed/NDVI_Val_Herens_2022-01-21.tif\n",
            "Pas de NaN dans /content/drive/My Drive/NDVI_herens/imputed/NDVI_Val_Herens_2021-10-17.tif\n",
            "Pas de NaN dans /content/drive/My Drive/NDVI_herens/imputed/NDVI_Val_Herens_2022-03-10.tif\n",
            "Pas de NaN dans /content/drive/My Drive/NDVI_herens/imputed/NDVI_Val_Herens_2022-03-26.tif\n",
            "Pas de NaN dans /content/drive/My Drive/NDVI_herens/imputed/NDVI_Val_Herens_2022-04-27.tif\n",
            "Pas de NaN dans /content/drive/My Drive/NDVI_herens/imputed/NDVI_Val_Herens_2022-07-16.tif\n",
            "Pas de NaN dans /content/drive/My Drive/NDVI_herens/imputed/NDVI_Val_Herens_2022-08-01.tif\n",
            "Pas de NaN dans /content/drive/My Drive/NDVI_herens/imputed/NDVI_Val_Herens_2022-09-18.tif\n",
            "Pas de NaN dans /content/drive/My Drive/NDVI_herens/imputed/NDVI_Val_Herens_2023-06-17.tif\n",
            "Pas de NaN dans /content/drive/My Drive/NDVI_herens/imputed/NDVI_Val_Herens_2023-08-20.tif\n",
            "Pas de NaN dans /content/drive/My Drive/NDVI_herens/imputed/NDVI_Val_Herens_2023-10-07.tif\n",
            "Pas de NaN dans /content/drive/My Drive/NDVI_herens/imputed/NDVI_Val_Herens_2023-11-08.tif\n"
          ]
        }
      ]
    },
    {
      "cell_type": "code",
      "source": [
        "from PIL import Image\n",
        "import os\n",
        "def split_image(image_path, output_folder, sub_image_size=(32, 32)):\n",
        "    # Open image\n",
        "    img = Image.open(image_path)\n",
        "    img_width, img_height = img.size\n",
        "\n",
        "    # Image count\n",
        "    count = 0\n",
        "\n",
        "    # Division\n",
        "    for i in range(0, img_width, sub_image_size[0]):\n",
        "        for j in range(0, img_height, sub_image_size[1]):\n",
        "            # Cutting box\n",
        "            box = (i, j, i + sub_image_size[0], j + sub_image_size[1])\n",
        "            # Cutting\n",
        "            sub_image = img.crop(box)\n",
        "            # Verification (size)\n",
        "            if sub_image.size[0] > 0 and sub_image.size[1] > 0:\n",
        "                # Saving\n",
        "                sub_image.save(os.path.join(output_folder, f\"{os.path.splitext(os.path.basename(image_path))[0]}_sub_image_{count}.tif\"))\n",
        "                count += 1\n",
        "    print(count)\n",
        "\n",
        "def process_all_images(input_folder, output_folder):\n",
        "    # List all tif file in input folder\n",
        "    for filename in os.listdir(input_folder):\n",
        "        if filename.endswith('.tif'):\n",
        "            image_path = os.path.join(input_folder, filename)\n",
        "            print(f\"Image in treatment : {filename}\")\n",
        "            split_image(image_path, output_folder)\n"
      ],
      "metadata": {
        "id": "U7YMNDctRx5G"
      },
      "execution_count": 3,
      "outputs": []
    },
    {
      "cell_type": "code",
      "source": [
        "#Split our images\n",
        "folder_path = '/content/drive/My Drive/NDVI_herens/imputed'\n",
        "output_folder = '/content/drive/My Drive/NDVI_herens/split'\n",
        "process_all_images(folder_path, output_folder)"
      ],
      "metadata": {
        "colab": {
          "base_uri": "https://localhost:8080/"
        },
        "id": "tESNSvXuSDA5",
        "outputId": "90a826ca-109b-4f49-add0-939df89171d9"
      },
      "execution_count": 4,
      "outputs": [
        {
          "output_type": "stream",
          "name": "stdout",
          "text": [
            "Image in treatment : NDVI_Val_Herens_2015-02-19.tif\n",
            "600\n",
            "Image in treatment : NDVI_Val_Herens_2015-08-30.tif\n",
            "600\n",
            "Image in treatment : NDVI_Val_Herens_2016-12-06.tif\n",
            "600\n",
            "Image in treatment : NDVI_Val_Herens_2017-04-29.tif\n",
            "600\n",
            "Image in treatment : NDVI_Val_Herens_2019-01-29.tif\n",
            "600\n",
            "Image in treatment : NDVI_Val_Herens_2020-01-16.tif\n",
            "600\n",
            "Image in treatment : NDVI_Val_Herens_2021-03-23.tif\n",
            "600\n",
            "Image in treatment : NDVI_Val_Herens_2022-01-21.tif\n",
            "600\n",
            "Image in treatment : NDVI_Val_Herens_2022-07-16.tif\n",
            "600\n",
            "Image in treatment : NDVI_Val_Herens_2023-08-20.tif\n",
            "600\n"
          ]
        }
      ]
    },
    {
      "cell_type": "code",
      "source": [
        "# Define the paths\n",
        "test_dir = '/content/drive/My Drive/NDVI_herens/split'\n",
        "output_dir = os.path.join(test_dir, 'herens_with_holes')"
      ],
      "metadata": {
        "id": "BT5Xh0TSNKpp"
      },
      "execution_count": 8,
      "outputs": []
    },
    {
      "cell_type": "code",
      "source": [
        "# Create the output directory if it doesn't exist\n",
        "os.makedirs(output_dir, exist_ok=True)"
      ],
      "metadata": {
        "id": "LYKF73NFNgSf"
      },
      "execution_count": 9,
      "outputs": []
    },
    {
      "cell_type": "code",
      "source": [
        "def add_fake_holes(image, num_holes=4, max_hole_size=12):\n",
        "    \"\"\"\n",
        "    Add fake holes to an image to simulate cloud coverage.\n",
        "\n",
        "    Args:\n",
        "        image (numpy array): Input image as a NumPy array.\n",
        "        num_holes (int): Number of fake holes to add.\n",
        "        max_hole_size (int): Maximum size (in pixels) of each hole.\n",
        "\n",
        "    Returns:\n",
        "        numpy array: Image with fake holes applied.\n",
        "    \"\"\"\n",
        "    image_with_holes = image.copy()\n",
        "    height, width = image.shape[:2]\n",
        "\n",
        "    for _ in range(num_holes):\n",
        "        # Randomly select a center for the hole\n",
        "        x_center = np.random.randint(0, width)\n",
        "        y_center = np.random.randint(0, height)\n",
        "\n",
        "        # Randomly determine the size of the hole\n",
        "        hole_width = np.random.randint(1, max_hole_size)\n",
        "        hole_height = np.random.randint(1, max_hole_size)\n",
        "\n",
        "        # Create the hole (set pixel values to zero)\n",
        "        x_start = max(0, x_center - hole_width // 2)\n",
        "        x_end = min(width, x_center + hole_width // 2)\n",
        "        y_start = max(0, y_center - hole_height // 2)\n",
        "        y_end = min(height, y_center + hole_height // 2)\n",
        "\n",
        "        image_with_holes[y_start:y_end, x_start:x_end] = np.nan  # Simulate cloud (masked area)\n",
        "\n",
        "    return image_with_holes\n"
      ],
      "metadata": {
        "id": "c9vMnIncPErd"
      },
      "execution_count": 10,
      "outputs": []
    },
    {
      "cell_type": "code",
      "source": [
        "import os\n",
        "!pip install rasterio\n",
        "import rasterio\n",
        "import numpy as np\n",
        "\n",
        "def process_and_add_fake_holes(test_dir, output_dir):\n",
        "    \"\"\"\n",
        "    Iterate over all GeoTIFF images in a directory, add fake holes, and save the processed images.\n",
        "    Args:\n",
        "        train_dir (str): Directory containing input GeoTIFF images.\n",
        "        output_dir (str): Directory to save processed GeoTIFF images.\n",
        "    \"\"\"\n",
        "    if not os.path.exists(output_dir):\n",
        "        os.makedirs(output_dir)\n",
        "\n",
        "    # Iterate over all images in the train_dir\n",
        "    for filename in os.listdir(test_dir):\n",
        "        if filename.endswith('.tif'):\n",
        "            input_path = os.path.join(test_dir, filename)\n",
        "            output_path = os.path.join(output_dir, filename)\n",
        "\n",
        "            try:\n",
        "                # Load the image using rasterio\n",
        "                with rasterio.open(input_path) as src:\n",
        "                    image = src.read(1)  # Read the first band\n",
        "                    meta = src.meta.copy()  # Copy metadata\n",
        "\n",
        "                # Add fake holes\n",
        "                image_with_holes = add_fake_holes(image)\n",
        "\n",
        "                # Update the metadata (e.g., for nodata values)\n",
        "                meta.update(dtype='float32', nodata=np.nan)\n",
        "\n",
        "                # Save the processed image\n",
        "                with rasterio.open(output_path, 'w', **meta) as dst:\n",
        "                    dst.write(image_with_holes, 1)  # Write to the first band\n",
        "\n",
        "                #print(f\"Processed and saved: {output_path}\")\n",
        "\n",
        "            except Exception as e:\n",
        "                print(f\"Failed to process {filename}: {e}\")\n"
      ],
      "metadata": {
        "colab": {
          "base_uri": "https://localhost:8080/"
        },
        "id": "Yt9XYCxfP8vH",
        "outputId": "a6fd42eb-120d-49a1-879b-f5836b739c97"
      },
      "execution_count": 12,
      "outputs": [
        {
          "output_type": "stream",
          "name": "stdout",
          "text": [
            "Collecting rasterio\n",
            "  Downloading rasterio-1.4.3-cp310-cp310-manylinux_2_17_x86_64.manylinux2014_x86_64.whl.metadata (9.1 kB)\n",
            "Collecting affine (from rasterio)\n",
            "  Downloading affine-2.4.0-py3-none-any.whl.metadata (4.0 kB)\n",
            "Requirement already satisfied: attrs in /usr/local/lib/python3.10/dist-packages (from rasterio) (24.2.0)\n",
            "Requirement already satisfied: certifi in /usr/local/lib/python3.10/dist-packages (from rasterio) (2024.8.30)\n",
            "Requirement already satisfied: click>=4.0 in /usr/local/lib/python3.10/dist-packages (from rasterio) (8.1.7)\n",
            "Collecting cligj>=0.5 (from rasterio)\n",
            "  Downloading cligj-0.7.2-py3-none-any.whl.metadata (5.0 kB)\n",
            "Requirement already satisfied: numpy>=1.24 in /usr/local/lib/python3.10/dist-packages (from rasterio) (1.26.4)\n",
            "Collecting click-plugins (from rasterio)\n",
            "  Downloading click_plugins-1.1.1-py2.py3-none-any.whl.metadata (6.4 kB)\n",
            "Requirement already satisfied: pyparsing in /usr/local/lib/python3.10/dist-packages (from rasterio) (3.2.0)\n",
            "Downloading rasterio-1.4.3-cp310-cp310-manylinux_2_17_x86_64.manylinux2014_x86_64.whl (22.2 MB)\n",
            "\u001b[2K   \u001b[90m━━━━━━━━━━━━━━━━━━━━━━━━━━━━━━━━━━━━━━━━\u001b[0m \u001b[32m22.2/22.2 MB\u001b[0m \u001b[31m42.3 MB/s\u001b[0m eta \u001b[36m0:00:00\u001b[0m\n",
            "\u001b[?25hDownloading cligj-0.7.2-py3-none-any.whl (7.1 kB)\n",
            "Downloading affine-2.4.0-py3-none-any.whl (15 kB)\n",
            "Downloading click_plugins-1.1.1-py2.py3-none-any.whl (7.5 kB)\n",
            "Installing collected packages: cligj, click-plugins, affine, rasterio\n",
            "Successfully installed affine-2.4.0 click-plugins-1.1.1 cligj-0.7.2 rasterio-1.4.3\n"
          ]
        }
      ]
    },
    {
      "cell_type": "code",
      "source": [
        "process_and_add_fake_holes(test_dir, output_dir)"
      ],
      "metadata": {
        "colab": {
          "base_uri": "https://localhost:8080/",
          "height": 669
        },
        "id": "FIUsdx66QQL6",
        "outputId": "559f63fa-1024-433b-b570-8bcff617f5ec"
      },
      "execution_count": 13,
      "outputs": [
        {
          "output_type": "stream",
          "name": "stderr",
          "text": [
            "/usr/local/lib/python3.10/dist-packages/rasterio/__init__.py:356: NotGeoreferencedWarning: Dataset has no geotransform, gcps, or rpcs. The identity matrix will be returned.\n",
            "  dataset = DatasetReader(path, driver=driver, sharing=sharing, **kwargs)\n",
            "/usr/local/lib/python3.10/dist-packages/rasterio/__init__.py:366: NotGeoreferencedWarning: The given matrix is equal to Affine.identity or its flipped counterpart. GDAL may ignore this matrix and save no geotransform without raising an error. This behavior is somewhat driver-specific.\n",
            "  dataset = writer(\n"
          ]
        },
        {
          "output_type": "error",
          "ename": "KeyboardInterrupt",
          "evalue": "",
          "traceback": [
            "\u001b[0;31m---------------------------------------------------------------------------\u001b[0m",
            "\u001b[0;31mKeyboardInterrupt\u001b[0m                         Traceback (most recent call last)",
            "\u001b[0;32m<ipython-input-13-eb10e9d93411>\u001b[0m in \u001b[0;36m<cell line: 1>\u001b[0;34m()\u001b[0m\n\u001b[0;32m----> 1\u001b[0;31m \u001b[0mprocess_and_add_fake_holes\u001b[0m\u001b[0;34m(\u001b[0m\u001b[0mtest_dir\u001b[0m\u001b[0;34m,\u001b[0m \u001b[0moutput_dir\u001b[0m\u001b[0;34m)\u001b[0m\u001b[0;34m\u001b[0m\u001b[0;34m\u001b[0m\u001b[0m\n\u001b[0m",
            "\u001b[0;32m<ipython-input-12-175e34cffa3b>\u001b[0m in \u001b[0;36mprocess_and_add_fake_holes\u001b[0;34m(test_dir, output_dir)\u001b[0m\n\u001b[1;32m     22\u001b[0m             \u001b[0;32mtry\u001b[0m\u001b[0;34m:\u001b[0m\u001b[0;34m\u001b[0m\u001b[0;34m\u001b[0m\u001b[0m\n\u001b[1;32m     23\u001b[0m                 \u001b[0;31m# Load the image using rasterio\u001b[0m\u001b[0;34m\u001b[0m\u001b[0;34m\u001b[0m\u001b[0m\n\u001b[0;32m---> 24\u001b[0;31m                 \u001b[0;32mwith\u001b[0m \u001b[0mrasterio\u001b[0m\u001b[0;34m.\u001b[0m\u001b[0mopen\u001b[0m\u001b[0;34m(\u001b[0m\u001b[0minput_path\u001b[0m\u001b[0;34m)\u001b[0m \u001b[0;32mas\u001b[0m \u001b[0msrc\u001b[0m\u001b[0;34m:\u001b[0m\u001b[0;34m\u001b[0m\u001b[0;34m\u001b[0m\u001b[0m\n\u001b[0m\u001b[1;32m     25\u001b[0m                     \u001b[0mimage\u001b[0m \u001b[0;34m=\u001b[0m \u001b[0msrc\u001b[0m\u001b[0;34m.\u001b[0m\u001b[0mread\u001b[0m\u001b[0;34m(\u001b[0m\u001b[0;36m1\u001b[0m\u001b[0;34m)\u001b[0m  \u001b[0;31m# Read the first band\u001b[0m\u001b[0;34m\u001b[0m\u001b[0;34m\u001b[0m\u001b[0m\n\u001b[1;32m     26\u001b[0m                     \u001b[0mmeta\u001b[0m \u001b[0;34m=\u001b[0m \u001b[0msrc\u001b[0m\u001b[0;34m.\u001b[0m\u001b[0mmeta\u001b[0m\u001b[0;34m.\u001b[0m\u001b[0mcopy\u001b[0m\u001b[0;34m(\u001b[0m\u001b[0;34m)\u001b[0m  \u001b[0;31m# Copy metadata\u001b[0m\u001b[0;34m\u001b[0m\u001b[0;34m\u001b[0m\u001b[0m\n",
            "\u001b[0;32m/usr/local/lib/python3.10/dist-packages/rasterio/env.py\u001b[0m in \u001b[0;36mwrapper\u001b[0;34m(*args, **kwds)\u001b[0m\n\u001b[1;32m    461\u001b[0m \u001b[0;34m\u001b[0m\u001b[0m\n\u001b[1;32m    462\u001b[0m         \u001b[0;32mwith\u001b[0m \u001b[0menv_ctor\u001b[0m\u001b[0;34m(\u001b[0m\u001b[0msession\u001b[0m\u001b[0;34m=\u001b[0m\u001b[0msession\u001b[0m\u001b[0;34m)\u001b[0m\u001b[0;34m:\u001b[0m\u001b[0;34m\u001b[0m\u001b[0;34m\u001b[0m\u001b[0m\n\u001b[0;32m--> 463\u001b[0;31m             \u001b[0;32mreturn\u001b[0m \u001b[0mf\u001b[0m\u001b[0;34m(\u001b[0m\u001b[0;34m*\u001b[0m\u001b[0margs\u001b[0m\u001b[0;34m,\u001b[0m \u001b[0;34m**\u001b[0m\u001b[0mkwds\u001b[0m\u001b[0;34m)\u001b[0m\u001b[0;34m\u001b[0m\u001b[0;34m\u001b[0m\u001b[0m\n\u001b[0m\u001b[1;32m    464\u001b[0m \u001b[0;34m\u001b[0m\u001b[0m\n\u001b[1;32m    465\u001b[0m     \u001b[0;32mreturn\u001b[0m \u001b[0mwrapper\u001b[0m\u001b[0;34m\u001b[0m\u001b[0;34m\u001b[0m\u001b[0m\n",
            "\u001b[0;32m/usr/local/lib/python3.10/dist-packages/rasterio/__init__.py\u001b[0m in \u001b[0;36mopen\u001b[0;34m(fp, mode, driver, width, height, count, crs, transform, dtype, nodata, sharing, opener, **kwargs)\u001b[0m\n\u001b[1;32m    354\u001b[0m \u001b[0;34m\u001b[0m\u001b[0m\n\u001b[1;32m    355\u001b[0m             \u001b[0;32mif\u001b[0m \u001b[0mmode\u001b[0m \u001b[0;34m==\u001b[0m \u001b[0;34m\"r\"\u001b[0m\u001b[0;34m:\u001b[0m\u001b[0;34m\u001b[0m\u001b[0;34m\u001b[0m\u001b[0m\n\u001b[0;32m--> 356\u001b[0;31m                 \u001b[0mdataset\u001b[0m \u001b[0;34m=\u001b[0m \u001b[0mDatasetReader\u001b[0m\u001b[0;34m(\u001b[0m\u001b[0mpath\u001b[0m\u001b[0;34m,\u001b[0m \u001b[0mdriver\u001b[0m\u001b[0;34m=\u001b[0m\u001b[0mdriver\u001b[0m\u001b[0;34m,\u001b[0m \u001b[0msharing\u001b[0m\u001b[0;34m=\u001b[0m\u001b[0msharing\u001b[0m\u001b[0;34m,\u001b[0m \u001b[0;34m**\u001b[0m\u001b[0mkwargs\u001b[0m\u001b[0;34m)\u001b[0m\u001b[0;34m\u001b[0m\u001b[0;34m\u001b[0m\u001b[0m\n\u001b[0m\u001b[1;32m    357\u001b[0m             \u001b[0;32melif\u001b[0m \u001b[0mmode\u001b[0m \u001b[0;34m==\u001b[0m \u001b[0;34m\"r+\"\u001b[0m\u001b[0;34m:\u001b[0m\u001b[0;34m\u001b[0m\u001b[0;34m\u001b[0m\u001b[0m\n\u001b[1;32m    358\u001b[0m                 dataset = get_writer_for_path(path, driver=driver)(\n",
            "\u001b[0;32mrasterio/_base.pyx\u001b[0m in \u001b[0;36mrasterio._base.DatasetBase.__init__\u001b[0;34m()\u001b[0m\n",
            "\u001b[0;32mrasterio/_base.pyx\u001b[0m in \u001b[0;36mrasterio._base.DatasetBase._set_attrs_from_dataset_handle\u001b[0;34m()\u001b[0m\n",
            "\u001b[0;32mrasterio/_base.pyx\u001b[0m in \u001b[0;36mrasterio._base.DatasetBase.meta.__get__\u001b[0;34m()\u001b[0m\n",
            "\u001b[0;32mrasterio/_base.pyx\u001b[0m in \u001b[0;36mrasterio._base.DatasetBase.nodata.__get__\u001b[0;34m()\u001b[0m\n",
            "\u001b[0;32mrasterio/_base.pyx\u001b[0m in \u001b[0;36mrasterio._base.DatasetBase.nodatavals.__get__\u001b[0;34m()\u001b[0m\n",
            "\u001b[0;32mrasterio/_base.pyx\u001b[0m in \u001b[0;36mrasterio._base.DatasetBase.get_nodatavals\u001b[0;34m()\u001b[0m\n",
            "\u001b[0;32m/usr/lib/python3.10/logging/__init__.py\u001b[0m in \u001b[0;36mdebug\u001b[0;34m(self, msg, *args, **kwargs)\u001b[0m\n\u001b[1;32m   1453\u001b[0m         \u001b[0mself\u001b[0m\u001b[0;34m.\u001b[0m\u001b[0mmanager\u001b[0m\u001b[0;34m.\u001b[0m\u001b[0m_clear_cache\u001b[0m\u001b[0;34m(\u001b[0m\u001b[0;34m)\u001b[0m\u001b[0;34m\u001b[0m\u001b[0;34m\u001b[0m\u001b[0m\n\u001b[1;32m   1454\u001b[0m \u001b[0;34m\u001b[0m\u001b[0m\n\u001b[0;32m-> 1455\u001b[0;31m     \u001b[0;32mdef\u001b[0m \u001b[0mdebug\u001b[0m\u001b[0;34m(\u001b[0m\u001b[0mself\u001b[0m\u001b[0;34m,\u001b[0m \u001b[0mmsg\u001b[0m\u001b[0;34m,\u001b[0m \u001b[0;34m*\u001b[0m\u001b[0margs\u001b[0m\u001b[0;34m,\u001b[0m \u001b[0;34m**\u001b[0m\u001b[0mkwargs\u001b[0m\u001b[0;34m)\u001b[0m\u001b[0;34m:\u001b[0m\u001b[0;34m\u001b[0m\u001b[0;34m\u001b[0m\u001b[0m\n\u001b[0m\u001b[1;32m   1456\u001b[0m         \"\"\"\n\u001b[1;32m   1457\u001b[0m         \u001b[0mLog\u001b[0m \u001b[0;34m'msg % args'\u001b[0m \u001b[0;32mwith\u001b[0m \u001b[0mseverity\u001b[0m \u001b[0;34m'DEBUG'\u001b[0m\u001b[0;34m.\u001b[0m\u001b[0;34m\u001b[0m\u001b[0;34m\u001b[0m\u001b[0m\n",
            "\u001b[0;31mKeyboardInterrupt\u001b[0m: "
          ]
        }
      ]
    },
    {
      "cell_type": "code",
      "source": [
        "import matplotlib.pyplot as plt\n",
        "import os\n",
        "import numpy as np\n",
        "import cv2\n",
        "import tensorflow as tf\n",
        "from sklearn.model_selection import train_test_split\n",
        "!pip install keras-tuner\n",
        "import keras_tuner as kt"
      ],
      "metadata": {
        "colab": {
          "base_uri": "https://localhost:8080/"
        },
        "collapsed": true,
        "outputId": "713983df-6168-49b5-e26e-52e3d1fe9577",
        "id": "cRTVJQbeQQgj"
      },
      "execution_count": 9,
      "outputs": [
        {
          "output_type": "stream",
          "name": "stdout",
          "text": [
            "Collecting keras-tuner\n",
            "  Downloading keras_tuner-1.4.7-py3-none-any.whl.metadata (5.4 kB)\n",
            "Requirement already satisfied: keras in /usr/local/lib/python3.10/dist-packages (from keras-tuner) (3.5.0)\n",
            "Requirement already satisfied: packaging in /usr/local/lib/python3.10/dist-packages (from keras-tuner) (24.2)\n",
            "Requirement already satisfied: requests in /usr/local/lib/python3.10/dist-packages (from keras-tuner) (2.32.3)\n",
            "Collecting kt-legacy (from keras-tuner)\n",
            "  Downloading kt_legacy-1.0.5-py3-none-any.whl.metadata (221 bytes)\n",
            "Requirement already satisfied: absl-py in /usr/local/lib/python3.10/dist-packages (from keras->keras-tuner) (1.4.0)\n",
            "Requirement already satisfied: numpy in /usr/local/lib/python3.10/dist-packages (from keras->keras-tuner) (1.26.4)\n",
            "Requirement already satisfied: rich in /usr/local/lib/python3.10/dist-packages (from keras->keras-tuner) (13.9.4)\n",
            "Requirement already satisfied: namex in /usr/local/lib/python3.10/dist-packages (from keras->keras-tuner) (0.0.8)\n",
            "Requirement already satisfied: h5py in /usr/local/lib/python3.10/dist-packages (from keras->keras-tuner) (3.12.1)\n",
            "Requirement already satisfied: optree in /usr/local/lib/python3.10/dist-packages (from keras->keras-tuner) (0.13.1)\n",
            "Requirement already satisfied: ml-dtypes in /usr/local/lib/python3.10/dist-packages (from keras->keras-tuner) (0.4.1)\n",
            "Requirement already satisfied: charset-normalizer<4,>=2 in /usr/local/lib/python3.10/dist-packages (from requests->keras-tuner) (3.4.0)\n",
            "Requirement already satisfied: idna<4,>=2.5 in /usr/local/lib/python3.10/dist-packages (from requests->keras-tuner) (3.10)\n",
            "Requirement already satisfied: urllib3<3,>=1.21.1 in /usr/local/lib/python3.10/dist-packages (from requests->keras-tuner) (2.2.3)\n",
            "Requirement already satisfied: certifi>=2017.4.17 in /usr/local/lib/python3.10/dist-packages (from requests->keras-tuner) (2024.8.30)\n",
            "Requirement already satisfied: typing-extensions>=4.5.0 in /usr/local/lib/python3.10/dist-packages (from optree->keras->keras-tuner) (4.12.2)\n",
            "Requirement already satisfied: markdown-it-py>=2.2.0 in /usr/local/lib/python3.10/dist-packages (from rich->keras->keras-tuner) (3.0.0)\n",
            "Requirement already satisfied: pygments<3.0.0,>=2.13.0 in /usr/local/lib/python3.10/dist-packages (from rich->keras->keras-tuner) (2.18.0)\n",
            "Requirement already satisfied: mdurl~=0.1 in /usr/local/lib/python3.10/dist-packages (from markdown-it-py>=2.2.0->rich->keras->keras-tuner) (0.1.2)\n",
            "Downloading keras_tuner-1.4.7-py3-none-any.whl (129 kB)\n",
            "\u001b[2K   \u001b[90m━━━━━━━━━━━━━━━━━━━━━━━━━━━━━━━━━━━━━━━━\u001b[0m \u001b[32m129.1/129.1 kB\u001b[0m \u001b[31m2.1 MB/s\u001b[0m eta \u001b[36m0:00:00\u001b[0m\n",
            "\u001b[?25hDownloading kt_legacy-1.0.5-py3-none-any.whl (9.6 kB)\n",
            "Installing collected packages: kt-legacy, keras-tuner\n",
            "Successfully installed keras-tuner-1.4.7 kt-legacy-1.0.5\n"
          ]
        }
      ]
    },
    {
      "cell_type": "code",
      "source": [
        "def load_and_pair_images(input_dir, target_dir):\n",
        "    \"\"\"Load original images and images with holes, and pair them.\"\"\"\n",
        "    image_pairs = []\n",
        "    for filename in os.listdir(input_dir):\n",
        "        if filename.endswith('.tif'):\n",
        "            input_path = os.path.join(input_dir, filename)\n",
        "            target_path = os.path.join(target_dir, filename)\n",
        "\n",
        "            # Load images\n",
        "            input_img = cv2.imread(input_path, cv2.IMREAD_UNCHANGED)\n",
        "            target_img = cv2.imread(target_path, cv2.IMREAD_UNCHANGED)\n",
        "\n",
        "            if input_img is not None and target_img is not None:\n",
        "                image_pairs.append((input_img, target_img))\n",
        "            else:\n",
        "                print(f\"Failed to load {filename}. Skipping...\")\n",
        "    return image_pairs"
      ],
      "metadata": {
        "id": "2GXkv58ZQQgk"
      },
      "execution_count": 19,
      "outputs": []
    },
    {
      "cell_type": "code",
      "source": [
        "# Load and pair the training data\n",
        "test_dir = '/content/drive/My Drive/NDVI_herens/imputed'\n",
        "test_with_holes_dir = '/content/drive/My Drive/NDVI_herens/imputed/herens_with_holes'\n",
        "test_data = load_and_pair_images(test_dir, test_with_holes_dir)"
      ],
      "metadata": {
        "collapsed": true,
        "id": "BxYu2j3FQQgl"
      },
      "execution_count": 20,
      "outputs": []
    },
    {
      "cell_type": "code",
      "source": [],
      "metadata": {
        "id": "cwuuJuKMRTg2"
      },
      "execution_count": null,
      "outputs": []
    },
    {
      "cell_type": "code",
      "source": [
        "MASK_VALUE = 10  # Set a value to replace NaN"
      ],
      "metadata": {
        "id": "YSI9HAswRT-S"
      },
      "execution_count": 21,
      "outputs": []
    },
    {
      "cell_type": "code",
      "source": [
        "# Convert to numpy arrays\n",
        "X_test = np.array([pair[0] for pair in test_data])\n",
        "y_test = np.array([pair[1] for pair in test_data])"
      ],
      "metadata": {
        "id": "PIjZWvg-RT-T"
      },
      "execution_count": 22,
      "outputs": []
    },
    {
      "cell_type": "code",
      "source": [
        "# Replace NaN with MASK_VALUE in training and validation datasets\n",
        "X_test = np.nan_to_num(X_test, nan=MASK_VALUE)\n",
        "y_test = np.nan_to_num(y_test, nan=MASK_VALUE)"
      ],
      "metadata": {
        "id": "L-rv2gLkRT-U"
      },
      "execution_count": 23,
      "outputs": []
    },
    {
      "cell_type": "code",
      "source": [
        "print(\"X_test min, max:\", np.min(X_test), np.max(X_test))\n",
        "print(\"y_test min, max:\", np.min(y_test), np.max(y_test))"
      ],
      "metadata": {
        "outputId": "d9d1a00f-7f26-4bf3-e7f8-5206daa2098f",
        "colab": {
          "base_uri": "https://localhost:8080/"
        },
        "id": "W4HSu_EdRT-V"
      },
      "execution_count": 24,
      "outputs": [
        {
          "output_type": "stream",
          "name": "stdout",
          "text": [
            "X_test min, max: -0.9997273 0.99969083\n",
            "y_test min, max: -0.9997273 10.0\n"
          ]
        }
      ]
    },
    {
      "cell_type": "code",
      "source": [
        "# Define the custom loss function\n",
        "def masked_mae(y_true, y_pred):\n",
        "    mask = tf.cast(tf.not_equal(y_true, MASK_VALUE), tf.float32)\n",
        "    loss = tf.reduce_sum(mask * tf.abs(y_true - y_pred)) / tf.reduce_sum(mask)\n",
        "    return loss"
      ],
      "metadata": {
        "id": "91EWkzToRT-V"
      },
      "execution_count": 25,
      "outputs": []
    },
    {
      "cell_type": "code",
      "source": [],
      "metadata": {
        "id": "rWGmJ5hGReQ4"
      },
      "execution_count": null,
      "outputs": []
    },
    {
      "cell_type": "markdown",
      "source": [
        "##### 2.5.4 Apply CNN"
      ],
      "metadata": {
        "id": "GdUCGXjGRhng"
      }
    },
    {
      "cell_type": "code",
      "source": [
        "from tensorflow.keras.models import load_model\n",
        "#Load the training data\n",
        "from google.colab import drive\n",
        "drive.mount('/content/drive')\n",
        "\n",
        "# Load the saved model\n",
        "model_path = '/content/drive/My Drive/NDVI_images/best_unet_model.keras'\n",
        "best_model = load_model(model_path, custom_objects={'masked_mae': masked_mae})"
      ],
      "metadata": {
        "colab": {
          "base_uri": "https://localhost:8080/"
        },
        "outputId": "1adc5fa8-574b-4052-e2ca-2d05253075e2",
        "id": "HnujaKLIRhni"
      },
      "execution_count": 26,
      "outputs": [
        {
          "output_type": "stream",
          "name": "stdout",
          "text": [
            "Drive already mounted at /content/drive; to attempt to forcibly remount, call drive.mount(\"/content/drive\", force_remount=True).\n"
          ]
        }
      ]
    },
    {
      "cell_type": "code",
      "source": [
        "# Evaluate the model\n",
        "test_loss, test_mae = best_model.evaluate(X_test, y_test, batch_size=32)\n",
        "print(f\"Test Loss: {test_loss}\")\n",
        "print(f\"Test MAE: {test_mae}\")"
      ],
      "metadata": {
        "colab": {
          "base_uri": "https://localhost:8080/",
          "height": 467
        },
        "outputId": "efd66397-d99c-4436-d5dc-5bec40ab5af6",
        "id": "afELkCmXRhnj"
      },
      "execution_count": 28,
      "outputs": [
        {
          "output_type": "error",
          "ename": "ValueError",
          "evalue": "Input 0 of layer \"functional\" is incompatible with the layer: expected shape=(None, 32, 32, 1), found shape=(None, 757, 788)",
          "traceback": [
            "\u001b[0;31m---------------------------------------------------------------------------\u001b[0m",
            "\u001b[0;31mValueError\u001b[0m                                Traceback (most recent call last)",
            "\u001b[0;32m<ipython-input-28-3d6fd73bf497>\u001b[0m in \u001b[0;36m<cell line: 2>\u001b[0;34m()\u001b[0m\n\u001b[1;32m      1\u001b[0m \u001b[0;31m# Evaluate the model\u001b[0m\u001b[0;34m\u001b[0m\u001b[0;34m\u001b[0m\u001b[0m\n\u001b[0;32m----> 2\u001b[0;31m \u001b[0mtest_loss\u001b[0m\u001b[0;34m,\u001b[0m \u001b[0mtest_mae\u001b[0m \u001b[0;34m=\u001b[0m \u001b[0mbest_model\u001b[0m\u001b[0;34m.\u001b[0m\u001b[0mevaluate\u001b[0m\u001b[0;34m(\u001b[0m\u001b[0mX_test\u001b[0m\u001b[0;34m,\u001b[0m \u001b[0my_test\u001b[0m\u001b[0;34m,\u001b[0m \u001b[0mbatch_size\u001b[0m\u001b[0;34m=\u001b[0m\u001b[0;36m4\u001b[0m\u001b[0;34m)\u001b[0m\u001b[0;34m\u001b[0m\u001b[0;34m\u001b[0m\u001b[0m\n\u001b[0m\u001b[1;32m      3\u001b[0m \u001b[0mprint\u001b[0m\u001b[0;34m(\u001b[0m\u001b[0;34mf\"Test Loss: {test_loss}\"\u001b[0m\u001b[0;34m)\u001b[0m\u001b[0;34m\u001b[0m\u001b[0;34m\u001b[0m\u001b[0m\n\u001b[1;32m      4\u001b[0m \u001b[0mprint\u001b[0m\u001b[0;34m(\u001b[0m\u001b[0;34mf\"Test MAE: {test_mae}\"\u001b[0m\u001b[0;34m)\u001b[0m\u001b[0;34m\u001b[0m\u001b[0;34m\u001b[0m\u001b[0m\n",
            "\u001b[0;32m/usr/local/lib/python3.10/dist-packages/keras/src/utils/traceback_utils.py\u001b[0m in \u001b[0;36merror_handler\u001b[0;34m(*args, **kwargs)\u001b[0m\n\u001b[1;32m    120\u001b[0m             \u001b[0;31m# To get the full stack trace, call:\u001b[0m\u001b[0;34m\u001b[0m\u001b[0;34m\u001b[0m\u001b[0m\n\u001b[1;32m    121\u001b[0m             \u001b[0;31m# `keras.config.disable_traceback_filtering()`\u001b[0m\u001b[0;34m\u001b[0m\u001b[0;34m\u001b[0m\u001b[0m\n\u001b[0;32m--> 122\u001b[0;31m             \u001b[0;32mraise\u001b[0m \u001b[0me\u001b[0m\u001b[0;34m.\u001b[0m\u001b[0mwith_traceback\u001b[0m\u001b[0;34m(\u001b[0m\u001b[0mfiltered_tb\u001b[0m\u001b[0;34m)\u001b[0m \u001b[0;32mfrom\u001b[0m \u001b[0;32mNone\u001b[0m\u001b[0;34m\u001b[0m\u001b[0;34m\u001b[0m\u001b[0m\n\u001b[0m\u001b[1;32m    123\u001b[0m         \u001b[0;32mfinally\u001b[0m\u001b[0;34m:\u001b[0m\u001b[0;34m\u001b[0m\u001b[0;34m\u001b[0m\u001b[0m\n\u001b[1;32m    124\u001b[0m             \u001b[0;32mdel\u001b[0m \u001b[0mfiltered_tb\u001b[0m\u001b[0;34m\u001b[0m\u001b[0;34m\u001b[0m\u001b[0m\n",
            "\u001b[0;32m/usr/local/lib/python3.10/dist-packages/keras/src/layers/input_spec.py\u001b[0m in \u001b[0;36massert_input_compatibility\u001b[0;34m(input_spec, inputs, layer_name)\u001b[0m\n\u001b[1;32m    243\u001b[0m                 \u001b[0;32mif\u001b[0m \u001b[0mspec_dim\u001b[0m \u001b[0;32mis\u001b[0m \u001b[0;32mnot\u001b[0m \u001b[0;32mNone\u001b[0m \u001b[0;32mand\u001b[0m \u001b[0mdim\u001b[0m \u001b[0;32mis\u001b[0m \u001b[0;32mnot\u001b[0m \u001b[0;32mNone\u001b[0m\u001b[0;34m:\u001b[0m\u001b[0;34m\u001b[0m\u001b[0;34m\u001b[0m\u001b[0m\n\u001b[1;32m    244\u001b[0m                     \u001b[0;32mif\u001b[0m \u001b[0mspec_dim\u001b[0m \u001b[0;34m!=\u001b[0m \u001b[0mdim\u001b[0m\u001b[0;34m:\u001b[0m\u001b[0;34m\u001b[0m\u001b[0;34m\u001b[0m\u001b[0m\n\u001b[0;32m--> 245\u001b[0;31m                         raise ValueError(\n\u001b[0m\u001b[1;32m    246\u001b[0m                             \u001b[0;34mf'Input {input_index} of layer \"{layer_name}\" is '\u001b[0m\u001b[0;34m\u001b[0m\u001b[0;34m\u001b[0m\u001b[0m\n\u001b[1;32m    247\u001b[0m                             \u001b[0;34m\"incompatible with the layer: \"\u001b[0m\u001b[0;34m\u001b[0m\u001b[0;34m\u001b[0m\u001b[0m\n",
            "\u001b[0;31mValueError\u001b[0m: Input 0 of layer \"functional\" is incompatible with the layer: expected shape=(None, 32, 32, 1), found shape=(None, 757, 788)"
          ]
        }
      ]
    },
    {
      "cell_type": "code",
      "source": [
        "# Generate predictions\n",
        "y_pred = best_model.predict(X_test)"
      ],
      "metadata": {
        "colab": {
          "base_uri": "https://localhost:8080/"
        },
        "outputId": "b081e3a7-d08d-443d-c85e-5f6a4e9348da",
        "id": "1z11dRIRRhnl"
      },
      "execution_count": null,
      "outputs": [
        {
          "output_type": "stream",
          "name": "stdout",
          "text": [
            "\u001b[1m26/26\u001b[0m \u001b[32m━━━━━━━━━━━━━━━━━━━━\u001b[0m\u001b[37m\u001b[0m \u001b[1m5s\u001b[0m 205ms/step\n"
          ]
        }
      ]
    },
    {
      "cell_type": "code",
      "source": [
        "import numpy as np\n",
        "import matplotlib.pyplot as plt\n",
        "from matplotlib.colors import Normalize, ListedColormap\n",
        "\n",
        "# Création d'une colormap personnalisée pour les trous (valeurs spéciales = 10)\n",
        "cmap = plt.cm.RdYlGn  # Colormap de base\n",
        "cmap_colors = cmap(np.linspace(0, 1, 256))\n",
        "cmap_colors[0] = [0, 0, 0, 1]  # Noir pour les trous (valeurs à 10)\n",
        "custom_cmap = ListedColormap(cmap_colors)\n",
        "\n",
        "# Normalisation personnalisée\n",
        "class CustomNormalize(Normalize):\n",
        "    def __init__(self, vmin=None, vmax=None, special_value=None, **kwargs):\n",
        "        super().__init__(vmin=vmin, vmax=vmax, **kwargs)\n",
        "        self.special_value = special_value\n",
        "\n",
        "    def __call__(self, value, clip=None):\n",
        "        # Traite les trous comme une valeur spéciale\n",
        "        result = super().__call__(value, clip)\n",
        "        result = np.ma.masked_where(value == self.special_value, result)\n",
        "        result = np.ma.filled(result, 0)  # Mappe les trous (valeurs à 10) sur la première couleur (noir)\n",
        "        return result\n",
        "\n",
        "# Appliquer la normalisation personnalisée pour gérer les trous\n",
        "norm = CustomNormalize(vmin=-1, vmax=1, special_value=10)\n",
        "\n",
        "# Calcul de la différence entre l'image prédite et l'image originale\n",
        "difference = np.abs(X_test - y_pred.squeeze())  # Différence absolue\n",
        "\n",
        "# Créer un masque pour afficher uniquement les trous\n",
        "mask_holes = (y_test == 10)  # Masque des pixels troués\n",
        "difference_holes_only = np.where(mask_holes, difference, np.nan)  # Masque les autres pixels\n",
        "\n",
        "# Visualisation des résultats\n",
        "idx = 10  # Index pour visualiser un échantillon spécifique\n",
        "\n",
        "plt.figure(figsize=(20, 5))\n",
        "\n",
        "# Vérité terrain\n",
        "plt.subplot(1, 4, 1)\n",
        "plt.title(\"Ground Truth\", fontsize=20)  # Increase font size\n",
        "img1 = plt.imshow(X_test[idx, :, :], cmap='RdYlGn', norm=norm)\n",
        "plt.axis('off')\n",
        "cbar1 = plt.colorbar(img1, fraction=0.046, pad=0.04)\n",
        "cbar1.ax.tick_params(labelsize=16)  # Increase colorbar font size\n",
        "\n",
        "# Image d'entrée avec trous\n",
        "plt.subplot(1, 4, 2)\n",
        "plt.title(\"Input with Holes\", fontsize=20)  # Increase font size\n",
        "img2 = plt.imshow(y_test[idx, :, :], cmap=custom_cmap, norm=norm)\n",
        "plt.axis('off')\n",
        "cbar2 = plt.colorbar(img2, fraction=0.046, pad=0.04)\n",
        "cbar2.ax.tick_params(labelsize=16)  # Increase colorbar font size\n",
        "\n",
        "# Prédictions\n",
        "plt.subplot(1, 4, 3)\n",
        "plt.title(\"Prediction\", fontsize=20)  # Increase font size\n",
        "img3 = plt.imshow(y_pred[idx, :, :], cmap='RdYlGn', norm=norm)\n",
        "plt.axis('off')\n",
        "cbar3 = plt.colorbar(img3, fraction=0.046, pad=0.04)\n",
        "cbar3.ax.tick_params(labelsize=16)  # Increase colorbar font size\n",
        "\n",
        "# Différence uniquement dans les trous\n",
        "plt.subplot(1, 4, 4)\n",
        "plt.title(\"Difference (Holes Only)\", fontsize=20)  # Increase font size\n",
        "img4 = plt.imshow(difference_holes_only[idx, :, :], cmap='RdYlGn_r', vmin=0)  # Colormap pour différences\n",
        "plt.axis('off')\n",
        "cbar4 = plt.colorbar(img4, fraction=0.046, pad=0.04)\n",
        "cbar4.ax.tick_params(labelsize=16)  # Increase colorbar font size\n",
        "\n",
        "plt.tight_layout()\n",
        "plt.show()\n"
      ],
      "metadata": {
        "outputId": "470e8f26-6ca6-4f34-e862-1af2e3a544f4",
        "colab": {
          "base_uri": "https://localhost:8080/",
          "height": 230
        },
        "id": "86HlxljTRhnm"
      },
      "execution_count": null,
      "outputs": [
        {
          "output_type": "display_data",
          "data": {
            "text/plain": [
              "<Figure size 2000x500 with 8 Axes>"
            ],
            "image/png": "[encoded data removed]"
          },
          "metadata": {}
        }
      ]
    },
    {
      "cell_type": "markdown",
      "source": [
        "#### 4. Other"
      ],
      "metadata": {
        "id": "ekEo4yrJKt6M"
      }
    },
    {
      "cell_type": "code",
      "source": [
        "# Load the model\n",
        "from tensorflow.keras.models import load_model\n",
        "from google.colab import drive\n",
        "drive.mount('/content/drive')\n",
        "\n",
        "model_path = '/content/drive/My Drive/NDVI_Landsat8_10/best_unet_model.keras'\n",
        "model = load_model(model_path, custom_objects={'masked_mae': masked_mae})\n",
        "\n",
        "# Print the model architecture\n",
        "model.summary()"
      ],
      "metadata": {
        "colab": {
          "base_uri": "https://localhost:8080/",
          "height": 497
        },
        "id": "jl55t1gwLTB8",
        "outputId": "1a8bfd41-1bed-4de0-9f74-e76557c5c88a"
      },
      "execution_count": null,
      "outputs": [
        {
          "output_type": "stream",
          "name": "stdout",
          "text": [
            "Drive already mounted at /content/drive; to attempt to forcibly remount, call drive.mount(\"/content/drive\", force_remount=True).\n"
          ]
        },
        {
          "output_type": "display_data",
          "data": {
            "text/plain": [
              "\u001b[1mModel: \"functional_1\"\u001b[0m\n"
            ],
            "text/html": [
              "<pre style=\"white-space:pre;overflow-x:auto;line-height:normal;font-family:Menlo,'DejaVu Sans Mono',consolas,'Courier New',monospace\"><span style=\"font-weight: bold\">Model: \"functional_1\"</span>\n",
              "</pre>\n"
            ]
          },
          "metadata": {}
        },
        {
          "output_type": "display_data",
          "data": {
            "text/plain": [
              "┏━━━━━━━━━━━━━━━━━━━━━━━━━━━━━━━━━━━━━━┳━━━━━━━━━━━━━━━━━━━━━━━━━━━━━┳━━━━━━━━━━━━━━━━━┓\n",
              "┃\u001b[1m \u001b[0m\u001b[1mLayer (type)                        \u001b[0m\u001b[1m \u001b[0m┃\u001b[1m \u001b[0m\u001b[1mOutput Shape               \u001b[0m\u001b[1m \u001b[0m┃\u001b[1m \u001b[0m\u001b[1m        Param #\u001b[0m\u001b[1m \u001b[0m┃\n",
              "┡━━━━━━━━━━━━━━━━━━━━━━━━━━━━━━━━━━━━━━╇━━━━━━━━━━━━━━━━━━━━━━━━━━━━━╇━━━━━━━━━━━━━━━━━┩\n",
              "│ input_layer_1 (\u001b[38;5;33mInputLayer\u001b[0m)           │ (\u001b[38;5;45mNone\u001b[0m, \u001b[38;5;34m32\u001b[0m, \u001b[38;5;34m32\u001b[0m, \u001b[38;5;34m1\u001b[0m)           │               \u001b[38;5;34m0\u001b[0m │\n",
              "├──────────────────────────────────────┼─────────────────────────────┼─────────────────┤\n",
              "│ conv2d_6 (\u001b[38;5;33mConv2D\u001b[0m)                    │ (\u001b[38;5;45mNone\u001b[0m, \u001b[38;5;34m32\u001b[0m, \u001b[38;5;34m32\u001b[0m, \u001b[38;5;34m64\u001b[0m)          │             \u001b[38;5;34m640\u001b[0m │\n",
              "├──────────────────────────────────────┼─────────────────────────────┼─────────────────┤\n",
              "│ conv2d_7 (\u001b[38;5;33mConv2D\u001b[0m)                    │ (\u001b[38;5;45mNone\u001b[0m, \u001b[38;5;34m32\u001b[0m, \u001b[38;5;34m32\u001b[0m, \u001b[38;5;34m64\u001b[0m)          │          \u001b[38;5;34m36,928\u001b[0m │\n",
              "├──────────────────────────────────────┼─────────────────────────────┼─────────────────┤\n",
              "│ max_pooling2d_1 (\u001b[38;5;33mMaxPooling2D\u001b[0m)       │ (\u001b[38;5;45mNone\u001b[0m, \u001b[38;5;34m16\u001b[0m, \u001b[38;5;34m16\u001b[0m, \u001b[38;5;34m64\u001b[0m)          │               \u001b[38;5;34m0\u001b[0m │\n",
              "├──────────────────────────────────────┼─────────────────────────────┼─────────────────┤\n",
              "│ conv2d_8 (\u001b[38;5;33mConv2D\u001b[0m)                    │ (\u001b[38;5;45mNone\u001b[0m, \u001b[38;5;34m16\u001b[0m, \u001b[38;5;34m16\u001b[0m, \u001b[38;5;34m128\u001b[0m)         │          \u001b[38;5;34m73,856\u001b[0m │\n",
              "├──────────────────────────────────────┼─────────────────────────────┼─────────────────┤\n",
              "│ conv2d_9 (\u001b[38;5;33mConv2D\u001b[0m)                    │ (\u001b[38;5;45mNone\u001b[0m, \u001b[38;5;34m16\u001b[0m, \u001b[38;5;34m16\u001b[0m, \u001b[38;5;34m128\u001b[0m)         │         \u001b[38;5;34m147,584\u001b[0m │\n",
              "├──────────────────────────────────────┼─────────────────────────────┼─────────────────┤\n",
              "│ up_sampling2d_1 (\u001b[38;5;33mUpSampling2D\u001b[0m)       │ (\u001b[38;5;45mNone\u001b[0m, \u001b[38;5;34m32\u001b[0m, \u001b[38;5;34m32\u001b[0m, \u001b[38;5;34m128\u001b[0m)         │               \u001b[38;5;34m0\u001b[0m │\n",
              "├──────────────────────────────────────┼─────────────────────────────┼─────────────────┤\n",
              "│ conv2d_10 (\u001b[38;5;33mConv2D\u001b[0m)                   │ (\u001b[38;5;45mNone\u001b[0m, \u001b[38;5;34m32\u001b[0m, \u001b[38;5;34m32\u001b[0m, \u001b[38;5;34m64\u001b[0m)          │          \u001b[38;5;34m73,792\u001b[0m │\n",
              "├──────────────────────────────────────┼─────────────────────────────┼─────────────────┤\n",
              "│ conv2d_11 (\u001b[38;5;33mConv2D\u001b[0m)                   │ (\u001b[38;5;45mNone\u001b[0m, \u001b[38;5;34m32\u001b[0m, \u001b[38;5;34m32\u001b[0m, \u001b[38;5;34m1\u001b[0m)           │              \u001b[38;5;34m65\u001b[0m │\n",
              "└──────────────────────────────────────┴─────────────────────────────┴─────────────────┘\n"
            ],
            "text/html": [
              "<pre style=\"white-space:pre;overflow-x:auto;line-height:normal;font-family:Menlo,'DejaVu Sans Mono',consolas,'Courier New',monospace\">┏━━━━━━━━━━━━━━━━━━━━━━━━━━━━━━━━━━━━━━┳━━━━━━━━━━━━━━━━━━━━━━━━━━━━━┳━━━━━━━━━━━━━━━━━┓\n",
              "┃<span style=\"font-weight: bold\"> Layer (type)                         </span>┃<span style=\"font-weight: bold\"> Output Shape                </span>┃<span style=\"font-weight: bold\">         Param # </span>┃\n",
              "┡━━━━━━━━━━━━━━━━━━━━━━━━━━━━━━━━━━━━━━╇━━━━━━━━━━━━━━━━━━━━━━━━━━━━━╇━━━━━━━━━━━━━━━━━┩\n",
              "│ input_layer_1 (<span style=\"color: #0087ff; text-decoration-color: #0087ff\">InputLayer</span>)           │ (<span style=\"color: #00d7ff; text-decoration-color: #00d7ff\">None</span>, <span style=\"color: #00af00; text-decoration-color: #00af00\">32</span>, <span style=\"color: #00af00; text-decoration-color: #00af00\">32</span>, <span style=\"color: #00af00; text-decoration-color: #00af00\">1</span>)           │               <span style=\"color: #00af00; text-decoration-color: #00af00\">0</span> │\n",
              "├──────────────────────────────────────┼─────────────────────────────┼─────────────────┤\n",
              "│ conv2d_6 (<span style=\"color: #0087ff; text-decoration-color: #0087ff\">Conv2D</span>)                    │ (<span style=\"color: #00d7ff; text-decoration-color: #00d7ff\">None</span>, <span style=\"color: #00af00; text-decoration-color: #00af00\">32</span>, <span style=\"color: #00af00; text-decoration-color: #00af00\">32</span>, <span style=\"color: #00af00; text-decoration-color: #00af00\">64</span>)          │             <span style=\"color: #00af00; text-decoration-color: #00af00\">640</span> │\n",
              "├──────────────────────────────────────┼─────────────────────────────┼─────────────────┤\n",
              "│ conv2d_7 (<span style=\"color: #0087ff; text-decoration-color: #0087ff\">Conv2D</span>)                    │ (<span style=\"color: #00d7ff; text-decoration-color: #00d7ff\">None</span>, <span style=\"color: #00af00; text-decoration-color: #00af00\">32</span>, <span style=\"color: #00af00; text-decoration-color: #00af00\">32</span>, <span style=\"color: #00af00; text-decoration-color: #00af00\">64</span>)          │          <span style=\"color: #00af00; text-decoration-color: #00af00\">36,928</span> │\n",
              "├──────────────────────────────────────┼─────────────────────────────┼─────────────────┤\n",
              "│ max_pooling2d_1 (<span style=\"color: #0087ff; text-decoration-color: #0087ff\">MaxPooling2D</span>)       │ (<span style=\"color: #00d7ff; text-decoration-color: #00d7ff\">None</span>, <span style=\"color: #00af00; text-decoration-color: #00af00\">16</span>, <span style=\"color: #00af00; text-decoration-color: #00af00\">16</span>, <span style=\"color: #00af00; text-decoration-color: #00af00\">64</span>)          │               <span style=\"color: #00af00; text-decoration-color: #00af00\">0</span> │\n",
              "├──────────────────────────────────────┼─────────────────────────────┼─────────────────┤\n",
              "│ conv2d_8 (<span style=\"color: #0087ff; text-decoration-color: #0087ff\">Conv2D</span>)                    │ (<span style=\"color: #00d7ff; text-decoration-color: #00d7ff\">None</span>, <span style=\"color: #00af00; text-decoration-color: #00af00\">16</span>, <span style=\"color: #00af00; text-decoration-color: #00af00\">16</span>, <span style=\"color: #00af00; text-decoration-color: #00af00\">128</span>)         │          <span style=\"color: #00af00; text-decoration-color: #00af00\">73,856</span> │\n",
              "├──────────────────────────────────────┼─────────────────────────────┼─────────────────┤\n",
              "│ conv2d_9 (<span style=\"color: #0087ff; text-decoration-color: #0087ff\">Conv2D</span>)                    │ (<span style=\"color: #00d7ff; text-decoration-color: #00d7ff\">None</span>, <span style=\"color: #00af00; text-decoration-color: #00af00\">16</span>, <span style=\"color: #00af00; text-decoration-color: #00af00\">16</span>, <span style=\"color: #00af00; text-decoration-color: #00af00\">128</span>)         │         <span style=\"color: #00af00; text-decoration-color: #00af00\">147,584</span> │\n",
              "├──────────────────────────────────────┼─────────────────────────────┼─────────────────┤\n",
              "│ up_sampling2d_1 (<span style=\"color: #0087ff; text-decoration-color: #0087ff\">UpSampling2D</span>)       │ (<span style=\"color: #00d7ff; text-decoration-color: #00d7ff\">None</span>, <span style=\"color: #00af00; text-decoration-color: #00af00\">32</span>, <span style=\"color: #00af00; text-decoration-color: #00af00\">32</span>, <span style=\"color: #00af00; text-decoration-color: #00af00\">128</span>)         │               <span style=\"color: #00af00; text-decoration-color: #00af00\">0</span> │\n",
              "├──────────────────────────────────────┼─────────────────────────────┼─────────────────┤\n",
              "│ conv2d_10 (<span style=\"color: #0087ff; text-decoration-color: #0087ff\">Conv2D</span>)                   │ (<span style=\"color: #00d7ff; text-decoration-color: #00d7ff\">None</span>, <span style=\"color: #00af00; text-decoration-color: #00af00\">32</span>, <span style=\"color: #00af00; text-decoration-color: #00af00\">32</span>, <span style=\"color: #00af00; text-decoration-color: #00af00\">64</span>)          │          <span style=\"color: #00af00; text-decoration-color: #00af00\">73,792</span> │\n",
              "├──────────────────────────────────────┼─────────────────────────────┼─────────────────┤\n",
              "│ conv2d_11 (<span style=\"color: #0087ff; text-decoration-color: #0087ff\">Conv2D</span>)                   │ (<span style=\"color: #00d7ff; text-decoration-color: #00d7ff\">None</span>, <span style=\"color: #00af00; text-decoration-color: #00af00\">32</span>, <span style=\"color: #00af00; text-decoration-color: #00af00\">32</span>, <span style=\"color: #00af00; text-decoration-color: #00af00\">1</span>)           │              <span style=\"color: #00af00; text-decoration-color: #00af00\">65</span> │\n",
              "└──────────────────────────────────────┴─────────────────────────────┴─────────────────┘\n",
              "</pre>\n"
            ]
          },
          "metadata": {}
        },
        {
          "output_type": "display_data",
          "data": {
            "text/plain": [
              "\u001b[1m Total params: \u001b[0m\u001b[38;5;34m998,597\u001b[0m (3.81 MB)\n"
            ],
            "text/html": [
              "<pre style=\"white-space:pre;overflow-x:auto;line-height:normal;font-family:Menlo,'DejaVu Sans Mono',consolas,'Courier New',monospace\"><span style=\"font-weight: bold\"> Total params: </span><span style=\"color: #00af00; text-decoration-color: #00af00\">998,597</span> (3.81 MB)\n",
              "</pre>\n"
            ]
          },
          "metadata": {}
        },
        {
          "output_type": "display_data",
          "data": {
            "text/plain": [
              "\u001b[1m Trainable params: \u001b[0m\u001b[38;5;34m332,865\u001b[0m (1.27 MB)\n"
            ],
            "text/html": [
              "<pre style=\"white-space:pre;overflow-x:auto;line-height:normal;font-family:Menlo,'DejaVu Sans Mono',consolas,'Courier New',monospace\"><span style=\"font-weight: bold\"> Trainable params: </span><span style=\"color: #00af00; text-decoration-color: #00af00\">332,865</span> (1.27 MB)\n",
              "</pre>\n"
            ]
          },
          "metadata": {}
        },
        {
          "output_type": "display_data",
          "data": {
            "text/plain": [
              "\u001b[1m Non-trainable params: \u001b[0m\u001b[38;5;34m0\u001b[0m (0.00 B)\n"
            ],
            "text/html": [
              "<pre style=\"white-space:pre;overflow-x:auto;line-height:normal;font-family:Menlo,'DejaVu Sans Mono',consolas,'Courier New',monospace\"><span style=\"font-weight: bold\"> Non-trainable params: </span><span style=\"color: #00af00; text-decoration-color: #00af00\">0</span> (0.00 B)\n",
              "</pre>\n"
            ]
          },
          "metadata": {}
        },
        {
          "output_type": "display_data",
          "data": {
            "text/plain": [
              "\u001b[1m Optimizer params: \u001b[0m\u001b[38;5;34m665,732\u001b[0m (2.54 MB)\n"
            ],
            "text/html": [
              "<pre style=\"white-space:pre;overflow-x:auto;line-height:normal;font-family:Menlo,'DejaVu Sans Mono',consolas,'Courier New',monospace\"><span style=\"font-weight: bold\"> Optimizer params: </span><span style=\"color: #00af00; text-decoration-color: #00af00\">665,732</span> (2.54 MB)\n",
              "</pre>\n"
            ]
          },
          "metadata": {}
        }
      ]
    },
    {
      "cell_type": "code",
      "source": [
        "!apt-get install graphviz\n",
        "import pydot\n",
        "import os\n",
        "\n",
        "# Create the Graphviz object\n",
        "graph = pydot.Dot(graph_type='digraph', rankdir='LR')  # 'LR' for Left to Right layout\n",
        "\n",
        "# Define the layers and activations\n",
        "layers = [\n",
        "    (\"Input\", \"Input Layer\", None),\n",
        "    (\"Conv1\", \"Conv2D (64 filters, 3x3)\", 'relu'),\n",
        "    (\"Conv2\", \"Conv2D (64 filters, 3x3)\", 'relu'),\n",
        "    (\"Pool1\", \"MaxPooling2D (2x2)\", None),\n",
        "    (\"Conv3\", \"Conv2D (128 filters, 3x3)\", 'relu'),\n",
        "    (\"Conv4\", \"Conv2D (128 filters, 3x3)\", 'relu'),\n",
        "    (\"UpSample\", \"UpSampling2D (2x2)\", None),\n",
        "    (\"Conv5\", \"Conv2D (64 filters, 3x3)\", 'relu'),\n",
        "    (\"Output\", \"Conv2D (1 filter, 1x1)\", 'sigmoid')\n",
        "]\n",
        "\n",
        "# Create nodes for the layers\n",
        "for layer, label, activation in layers:\n",
        "    label_text = f\"{label}\\nActivation: {activation}\" if activation else label\n",
        "    graph.add_node(pydot.Node(layer, label=label_text))\n",
        "\n",
        "# Add edges (connections) between layers\n",
        "graph.add_edge(pydot.Edge(\"Input\", \"Conv1\"))\n",
        "graph.add_edge(pydot.Edge(\"Conv1\", \"Conv2\"))\n",
        "graph.add_edge(pydot.Edge(\"Conv2\", \"Pool1\"))\n",
        "graph.add_edge(pydot.Edge(\"Pool1\", \"Conv3\"))\n",
        "graph.add_edge(pydot.Edge(\"Conv3\", \"Conv4\"))\n",
        "graph.add_edge(pydot.Edge(\"Conv4\", \"UpSample\"))\n",
        "graph.add_edge(pydot.Edge(\"UpSample\", \"Conv5\"))\n",
        "graph.add_edge(pydot.Edge(\"Conv5\", \"Output\"))\n",
        "\n",
        "# Create subgraphs to place layers in two columns\n",
        "# Removed the 'with' statement and directly created the subgraphs\n",
        "subgraph1 = pydot.Subgraph(rank='same')  # This makes the layers appear on the same level\n",
        "subgraph1.add_node(pydot.Node(\"Conv1\"))\n",
        "subgraph1.add_node(pydot.Node(\"Conv2\"))\n",
        "subgraph1.add_node(pydot.Node(\"Pool1\"))\n",
        "subgraph1.add_node(pydot.Node(\"Conv3\"))\n",
        "\n",
        "graph.add_subgraph(subgraph1)\n",
        "\n",
        "subgraph2 = pydot.Subgraph(rank='same')  # This makes the layers appear on the same level\n",
        "subgraph2.add_node(pydot.Node(\"Conv4\"))\n",
        "subgraph2.add_node(pydot.Node(\"UpSample\"))\n",
        "subgraph2.add_node(pydot.Node(\"Conv5\"))\n",
        "subgraph2.add_node(pydot.Node(\"Output\"))\n",
        "graph.add_subgraph(subgraph2)\n",
        "\n",
        "# Render the diagram\n",
        "# Set the path to the Graphviz executables\n",
        "os.environ[\"PATH\"] += os.pathsep + '/usr/bin/dot'\n",
        "\n",
        "# Use graph.write instead of graph.render\n",
        "graph.write_png('/content/drive/My Drive/NDVI_Landsat8_10/cnn_with_activations_two_columns.png')"
      ],
      "metadata": {
        "colab": {
          "base_uri": "https://localhost:8080/"
        },
        "id": "fncpaudlN7bG",
        "outputId": "445df38d-295b-4484-b636-f58d6f05347f"
      },
      "execution_count": null,
      "outputs": [
        {
          "output_type": "stream",
          "name": "stdout",
          "text": [
            "Reading package lists... Done\n",
            "Building dependency tree... Done\n",
            "Reading state information... Done\n",
            "graphviz is already the newest version (2.42.2-6ubuntu0.1).\n",
            "0 upgraded, 0 newly installed, 0 to remove and 49 not upgraded.\n"
          ]
        }
      ]
    }
  ]
}