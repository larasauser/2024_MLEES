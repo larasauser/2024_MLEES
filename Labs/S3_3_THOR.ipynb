{
  "nbformat": 4,
  "nbformat_minor": 0,
  "metadata": {
    "colab": {
      "provenance": [],
      "include_colab_link": true
    },
    "kernelspec": {
      "name": "python3",
      "display_name": "Python 3"
    },
    "language_info": {
      "name": "python"
    }
  },
  "cells": [
    {
      "cell_type": "markdown",
      "metadata": {
        "id": "view-in-github",
        "colab_type": "text"
      },
      "source": [
        "<a href=\"https://colab.research.google.com/github/larasauser/2024_MLEES/blob/main/Labs/S3_3_THOR.ipynb\" target=\"_parent\"><img src=\"https://colab.research.google.com/assets/colab-badge.svg\" alt=\"Open In Colab\"/></a>"
      ]
    },
    {
      "cell_type": "markdown",
      "source": [
        "# Ocean Regimes Identification"
      ],
      "metadata": {
        "id": "aRbHtbmd_Qzz"
      }
    },
    {
      "cell_type": "markdown",
      "source": [
        "<img src='https://unils-my.sharepoint.com/:i:/g/personal/tom_beucler_unil_ch/ESLP1e1BfUxKu-hchh7wZKcBZiG3bJnNbnt0PDDm3BK-9g?download=1'>\n",
        "\n",
        "<center>\n",
        "Photo Credits: <a href=\"https://unsplash.com/photos/zCMWw56qseM\">Sea Foam</a> by <a href=\"https://unsplash.com/@unstable_affliction\">Ivan Bandura</a> licensed under the <a href='https://unsplash.com/license'>Unsplash License</a>\n",
        "</center>\n",
        "\n",
        "\n",
        ">*A frequently asked question related to this work is “Which mixing processes matter most for climate?” As with many alluringly comprehensive sounding questions, the answer is “it depends.”* <br>\n",
        "> $\\qquad$ MacKinnon, Jennifer A., et al. <br>$\\qquad$\"Climate process team on internal wave–driven ocean mixing.\" <br>$\\qquad$ Bulletin of the American Meteorological Society 98.11 (2017): 2429-2454."
      ],
      "metadata": {
        "id": "dUurnKLqq1un"
      }
    },
    {
      "cell_type": "markdown",
      "source": [
        "In week 4's final notebook, we will perform clustering to identify regimes in data taken from the realistic numerical ocean model [Estimating the Circulation and Climate of the Ocean](https://www.ecco-group.org/products-ECCO-V4r4.htm). Sonnewald et al. point out that finding robust regimes is intractable with a naïve approach, so we will be using reduced dimensionality data.\n",
        "\n",
        "It is worth pointing out, however, that the reduction was done with an equation instead of one of the algorithms we discussed this week. If you're interested in the full details, you can check out [Sonnewald et al. (2019)](https://doi.org/10.1029/2018EA000519)"
      ],
      "metadata": {
        "id": "yT4KFNrpZIfY"
      }
    },
    {
      "cell_type": "markdown",
      "source": [
        "**Setup**"
      ],
      "metadata": {
        "id": "PHKbQVLOUC5v"
      }
    },
    {
      "cell_type": "markdown",
      "source": [
        "First, let's import a few common modules, ensure MatplotLib plots figures inline and prepare a function to save the figures. We also check that Python 3.5 or later is installed (although Python 2.x may work, it is deprecated so we strongly recommend you use Python 3 instead), as well as Scikit-Learn ≥0.20."
      ],
      "metadata": {
        "id": "4TxieA70pcLo"
      }
    },
    {
      "cell_type": "code",
      "execution_count": 1,
      "metadata": {
        "id": "S61_Smb9T6ad"
      },
      "outputs": [],
      "source": [
        "# Python ≥3.5 is required\n",
        "import sys\n",
        "assert sys.version_info >= (3, 5)\n",
        "\n",
        "# Scikit-Learn ≥0.20 is required\n",
        "import sklearn\n",
        "assert sklearn.__version__ >= \"0.20\"\n",
        "\n",
        "# Common imports\n",
        "import numpy as np\n",
        "import os\n",
        "import xarray as xr\n",
        "import pooch\n",
        "\n",
        "# to make this notebook's output stable across runs\n",
        "rnd_seed = 42\n",
        "rnd_gen = np.random.default_rng(rnd_seed)\n",
        "\n",
        "# To plot pretty figures\n",
        "%matplotlib inline\n",
        "import matplotlib as mpl\n",
        "import matplotlib.pyplot as plt\n",
        "mpl.rc('axes', labelsize=14)\n",
        "mpl.rc('xtick', labelsize=12)\n",
        "mpl.rc('ytick', labelsize=12)\n",
        "\n",
        "# Where to save the figures\n",
        "PROJECT_ROOT_DIR = \".\"\n",
        "CHAPTER_ID = \"dim_reduction\"\n",
        "IMAGES_PATH = os.path.join(PROJECT_ROOT_DIR, \"images\", CHAPTER_ID)\n",
        "os.makedirs(IMAGES_PATH, exist_ok=True)\n",
        "\n",
        "def save_fig(fig_id, tight_layout=True, fig_extension=\"png\", resolution=300):\n",
        "    path = os.path.join(IMAGES_PATH, fig_id + \".\" + fig_extension)\n",
        "    print(\"Saving figure\", fig_id)\n",
        "    if tight_layout:\n",
        "        plt.tight_layout()\n",
        "    plt.savefig(path, format=fig_extension, dpi=resolution)"
      ]
    },
    {
      "cell_type": "markdown",
      "source": [
        "Here we're going to import the [StandardScaler](https://duckduckgo.com/sklearn.preprocessing.standardscaler) function from scikit's preprocessing tools, import the [scikit clustering library](https://duckduckgo.com/sklearn.clustering), and set up the colormap that we will use when plotting."
      ],
      "metadata": {
        "id": "6vUFq1DYUqCx"
      }
    },
    {
      "cell_type": "code",
      "source": [
        "from sklearn.preprocessing import StandardScaler\n",
        "import sklearn.cluster as cluster\n",
        "\n",
        "from matplotlib.colors import LinearSegmentedColormap, ListedColormap\n",
        "colors = ['royalblue', 'cyan','yellow', 'orange', 'magenta', 'red']\n",
        "mycmap = ListedColormap(colors)"
      ],
      "metadata": {
        "id": "34PAL9TkUHd_"
      },
      "execution_count": 2,
      "outputs": []
    },
    {
      "cell_type": "markdown",
      "source": [
        "**Data Preprocessing**"
      ],
      "metadata": {
        "id": "Fr46ZRUjpTzo"
      }
    },
    {
      "cell_type": "markdown",
      "source": [
        "The first thing we need to do is retrieve the list of files we'll be working on. We'll rely on pooch to access the files hosted on the cloud."
      ],
      "metadata": {
        "id": "O9QOXpKGpgt7"
      }
    },
    {
      "cell_type": "code",
      "source": [
        "# Retrieve the files from the cloud using Pooch.\n",
        "data_url = 'https://unils-my.sharepoint.com/:u:/g/personal/tom_beucler_unil_ch/EUYqUzpIjoJBui02QEo6q1wBSN1Zsi1ofE6I3G4B9LJn_Q?download=1'\n",
        "hash = '3f41661c7a087fa7d7af1d2a8baf95c065468f8a415b8514baedda2f5bc18bb5'\n",
        "\n",
        "files = pooch.retrieve(data_url, known_hash=hash, processor=pooch.Unzip())\n",
        "[print(filename) for filename in files];"
      ],
      "metadata": {
        "id": "nDNJnzOAfKE_",
        "colab": {
          "base_uri": "https://localhost:8080/"
        },
        "outputId": "3a6a5bef-ff86-4f5c-84d6-00bba8ff9112"
      },
      "execution_count": 40,
      "outputs": [
        {
          "output_type": "stream",
          "name": "stdout",
          "text": [
            "/root/.cache/pooch/8a10ee1ae6941d8b9bb543c954c793fa-EUYqUzpIjoJBui02QEo6q1wBSN1Zsi1ofE6I3G4B9LJn_Q.unzip/curlB.npy\n",
            "/root/.cache/pooch/8a10ee1ae6941d8b9bb543c954c793fa-EUYqUzpIjoJBui02QEo6q1wBSN1Zsi1ofE6I3G4B9LJn_Q.unzip/curlCori.npy\n",
            "/root/.cache/pooch/8a10ee1ae6941d8b9bb543c954c793fa-EUYqUzpIjoJBui02QEo6q1wBSN1Zsi1ofE6I3G4B9LJn_Q.unzip/BPT.npy\n",
            "/root/.cache/pooch/8a10ee1ae6941d8b9bb543c954c793fa-EUYqUzpIjoJBui02QEo6q1wBSN1Zsi1ofE6I3G4B9LJn_Q.unzip/curlTau.npy\n",
            "/root/.cache/pooch/8a10ee1ae6941d8b9bb543c954c793fa-EUYqUzpIjoJBui02QEo6q1wBSN1Zsi1ofE6I3G4B9LJn_Q.unzip/noiseMask.npy\n",
            "/root/.cache/pooch/8a10ee1ae6941d8b9bb543c954c793fa-EUYqUzpIjoJBui02QEo6q1wBSN1Zsi1ofE6I3G4B9LJn_Q.unzip/curlA.npy\n"
          ]
        }
      ]
    },
    {
      "cell_type": "markdown",
      "source": [
        "And now that we have a set of files to load, let's set up a dictionary with the variable names as keys and the data in numpy array format as the values."
      ],
      "metadata": {
        "id": "bZxAvW1gBbO1"
      }
    },
    {
      "cell_type": "code",
      "source": [
        "# Let's read in the variable names from the filepaths\n",
        "var_names = []\n",
        "[var_names.append(path.split('/')[-1][:-4]) for path in files]\n",
        "\n",
        "# And build a dictionary of the data variables keyed to the filenames\n",
        "data_dict = {}\n",
        "for idx, val in enumerate(var_names):\n",
        "    data_dict[val] = np.load(files[idx]).T\n",
        "\n",
        "#We'll print the name of the variable loaded and the associated shape\n",
        "[print(f'Varname: {item[0]:<15} Shape: {item[1].shape}') for item in data_dict.items()];"
      ],
      "metadata": {
        "id": "b8OmoBGHBkwG",
        "colab": {
          "base_uri": "https://localhost:8080/"
        },
        "outputId": "fd58142d-8f6b-4a27-8a2a-821bccb534b6"
      },
      "execution_count": 41,
      "outputs": [
        {
          "output_type": "stream",
          "name": "stdout",
          "text": [
            "Varname: curlB           Shape: (360, 720)\n",
            "Varname: curlCori        Shape: (360, 720)\n",
            "Varname: BPT             Shape: (360, 720)\n",
            "Varname: curlTau         Shape: (360, 720)\n",
            "Varname: noiseMask       Shape: (360, 720)\n",
            "Varname: curlA           Shape: (360, 720)\n"
          ]
        }
      ]
    },
    {
      "cell_type": "markdown",
      "source": [
        "We now have a dictionary that uses the filename as the key! Feel free to explore the data (e.g., loading the keys, checking the shape of the arrays, plotting)"
      ],
      "metadata": {
        "id": "RMbhwWTunLvz"
      }
    },
    {
      "cell_type": "code",
      "source": [
        "#Feel free to explore the data dictionary"
      ],
      "metadata": {
        "id": "rG2pgeH5pB4f"
      },
      "execution_count": null,
      "outputs": []
    },
    {
      "cell_type": "markdown",
      "source": [
        "We're eventually going to have an array of cluster classes that we're going to use to label dynamic regimes in the ocean. Let's make an array full of NaN (not-a-number) values that has the same shape as our other variables and store it in the data dictionary."
      ],
      "metadata": {
        "id": "xXwnzzbRtTYs"
      }
    },
    {
      "cell_type": "code",
      "source": [
        "data_dict['clusters'] = np.full_like(data_dict['BPT'],np.nan)"
      ],
      "metadata": {
        "id": "4VYRgr0cuHKg"
      },
      "execution_count": 16,
      "outputs": []
    },
    {
      "cell_type": "code",
      "source": [
        "print(data_dict['clusters'].shape)"
      ],
      "metadata": {
        "colab": {
          "base_uri": "https://localhost:8080/"
        },
        "id": "P2wEZzYew1k3",
        "outputId": "e61f0b13-f3e3-4540-e5cf-4ccb755331b8"
      },
      "execution_count": 17,
      "outputs": [
        {
          "output_type": "stream",
          "name": "stdout",
          "text": [
            "(360, 720)\n"
          ]
        }
      ]
    },
    {
      "cell_type": "markdown",
      "source": [
        "## Reformatting as Xarray"
      ],
      "metadata": {
        "id": "pCumDPFEpFcf"
      }
    },
    {
      "cell_type": "markdown",
      "source": [
        "In the original paper, this data was loaded as numpy arrays. However, we'll take this opportunity to demonstrate the same procedure while relying on xarray. First, let's instantiate a blank dataset.<br><br>\n",
        "\n",
        "### Q1) Make a blank xarray dataset.<br>\n",
        "*Hint: Look at the xarray [documentation](https://duckduckgo.com/?q=xarray+dataset)*"
      ],
      "metadata": {
        "id": "vz_vQOCguax0"
      }
    },
    {
      "cell_type": "code",
      "source": [
        "# Make your blank dataset here! Instantiate the class without passing any parameters.\n",
        "\n",
        "ds = xr.Dataset()"
      ],
      "metadata": {
        "id": "JIPsLT6g-INq"
      },
      "execution_count": 7,
      "outputs": []
    },
    {
      "cell_type": "markdown",
      "source": [
        "<img src='https://unils-my.sharepoint.com/:i:/g/personal/tom_beucler_unil_ch/EZv_qqVz_h1Hio6Nq11ckScBb01bGb9jtNKzdqAg1TPrKQ?download=1'>\n",
        "<center> Image taken from the xarray <a href='https://xarray.pydata.org/en/stable/user-guide/data-structures.html#:~:text=Dataset-,xarray.,from%20the%20netCDF%20file%20format.'> <i>Data Structure documentation</i> </a> </center>\n",
        "\n",
        "In order to build the dataset, we're going to need a set of coordinate vectors that help us map out our data! For our data, we have two axes corresponding to longitude ($\\lambda$) and latitude ($\\phi$).\n",
        "\n",
        "We don't know much about how many lat/lon points we have, so let's explore one of the variables to make sense of the data the shape of one of the numpy arrays.\n",
        "\n",
        "### Q2) Visualize the data using a plot and printing the shape of the data to the console output."
      ],
      "metadata": {
        "id": "jJK9Ud9tp3_r"
      }
    },
    {
      "cell_type": "code",
      "source": [
        "#Complete the code\n",
        "# Let's print out an image of the Bottom Pressure Torques (BPT)\n",
        "plt.imshow( data_dict['BPT'] , origin='lower')"
      ],
      "metadata": {
        "id": "Kiw2tAT1D6Ny",
        "colab": {
          "base_uri": "https://localhost:8080/",
          "height": 330
        },
        "outputId": "11f74c63-2dc9-4272-b96d-eabbe878e5f8"
      },
      "execution_count": 18,
      "outputs": [
        {
          "output_type": "execute_result",
          "data": {
            "text/plain": [
              "<matplotlib.image.AxesImage at 0x784d981af910>"
            ]
          },
          "metadata": {},
          "execution_count": 18
        },
        {
          "output_type": "display_data",
          "data": {
            "text/plain": [
              "<Figure size 640x480 with 1 Axes>"
            ],
            "image/png": "[encoded data removed]"
          },
          "metadata": {}
        }
      ]
    },
    {
      "cell_type": "code",
      "source": [
        "# It will also be useful to store and print out the shape of the data\n",
        "data_shape = data_dict['BPT'].shape\n",
        "print(data_shape)"
      ],
      "metadata": {
        "id": "k6E_4MivCoWQ",
        "colab": {
          "base_uri": "https://localhost:8080/"
        },
        "outputId": "31a6d8e9-9ada-4763-f857-5619c3f91ae4"
      },
      "execution_count": 19,
      "outputs": [
        {
          "output_type": "stream",
          "name": "stdout",
          "text": [
            "(360, 720)\n"
          ]
        }
      ]
    },
    {
      "cell_type": "markdown",
      "source": [
        "Now that we know how the resolution of our data, we can prepare a set of axis arrays. We will use these to organize the data we will feed into the dataset.\n",
        "\n",
        "### Q3) Prepare the latitude and longitude arrays to be used as axes for our dataset\n",
        "\n",
        "*Hint 1: You can build ordered numpy arrays using, e.g., [numpy.linspace](https://numpy.org/doc/stable/reference/generated/numpy.linspace.html) and [numpy.arange](https://numpy.org/doc/stable/reference/generated/numpy.arange.html)*\n",
        "\n",
        "*Hint 2: You can rely on the data_shape variable we loaded previously to know how many points you need along each axis*"
      ],
      "metadata": {
        "id": "aXyxepjm-N5z"
      }
    },
    {
      "cell_type": "code",
      "source": [
        "#Complete the code\n",
        "# Let's prepare the lat and lon axes for our data.\n",
        "lat = np.linspace(-90,90,data_shape[0])\n",
        "lon = np.linspace(-180,180,data_shape[1])"
      ],
      "metadata": {
        "id": "vwzO0ZWMNHKg"
      },
      "execution_count": 20,
      "outputs": []
    },
    {
      "cell_type": "markdown",
      "source": [
        "Now that we have the axes we need, we can build xarray [*data arrays*](https://xarray.pydata.org/en/stable/generated/xarray.DataArray.html) for each data variable. Since we'll be doing it several times, let's go ahead and defined a function that does this for us!\n",
        "\n",
        "### Q4) Define a function that takes in: 1) an array name, 2) a numpy array, 3) a lat vector, and 4) a lon vector. The function should return a dataArray with lat-lon as the coordinate dimensions"
      ],
      "metadata": {
        "id": "yxnAU_gjOqVo"
      }
    },
    {
      "cell_type": "code",
      "source": [
        "#Complete the code\n",
        "def np_to_xr(array_name, array, lat, lon):\n",
        "    #building the xarrray\n",
        "    da = xr.DataArray(data = array, # Data to be stored\n",
        "\n",
        "                  #set the name of dimensions for the dataArray\n",
        "                  dims = ['lat', 'lon'],\n",
        "\n",
        "                  #Set the dictionary pointing the name dimensions to np arrays\n",
        "                  coords = {'lat':lat,\n",
        "                            'lon':lon},\n",
        "\n",
        "                  name=array_name)\n",
        "    return da"
      ],
      "metadata": {
        "id": "7FCXLhYfPiQD"
      },
      "execution_count": 21,
      "outputs": []
    },
    {
      "cell_type": "markdown",
      "source": [
        "We're now ready to build our data array! Let's iterate through the items and merge our blank dataset with the data arrays we create.\n",
        "\n",
        "### Q5) Build the dataset from the data dictionary\n",
        "\n",
        "*Hint: We'll be using the xarray merge command to put everything together.*"
      ],
      "metadata": {
        "id": "l9xgQaM9Rrv1"
      }
    },
    {
      "cell_type": "code",
      "source": [
        "# The code in the notebook assumes you named your dataset ds. Change it to\n",
        "# whatever you used!\n",
        "\n",
        "# Complete the code\n",
        "for key, item in data_dict.items():\n",
        "    # Let's make use of our np_to_xr function to get the data as a dataArray\n",
        "    da = np_to_xr(key, item, lat, lon)\n",
        "\n",
        "    # Merge the dataSet with the dataArray here!\n",
        "    ds = xr.merge( [ds , da ] )"
      ],
      "metadata": {
        "id": "4pLXUfvLSZKf"
      },
      "execution_count": 22,
      "outputs": []
    },
    {
      "cell_type": "markdown",
      "source": [
        "Congratulations! You should now have a nicely set up xarray dataset. This let's you access a ton of nice features, e.g.:\n",
        "> Data plotting by calling, e.g., `ds.BPT.plot.imshow(cmap='ocean')`\n",
        ">\n",
        "> Find statistical measures of all variables at once! (e.g.: `ds.std()`, `ds.mean()`)"
      ],
      "metadata": {
        "id": "aC1Gq_q7WEWc"
      }
    },
    {
      "cell_type": "markdown",
      "source": [
        "Now we want to find clusters of data considering each grid point as a datapoint with 5 dimensional data. However, we went through a lot of work to get the data nicely associated with a lat and lon - do we really want to undo that?\n",
        "\n",
        "Luckily, xarray developers foresaw the need to group dimensions together. Let's create a 'flat' version of our dataset using the [`stack`](https://xarray.pydata.org/en/stable/generated/xarray.DataArray.stack.html) method. Let's make a flattened version of our dataset.\n",
        "\n",
        "### Q6) Store a flattened version of our dataset\n",
        "\n",
        "*Hint 1: You'll need to pass a dictionary with the 'new' stacked dimension name as the key and the 'flattened' dimensions as the values.*\n",
        "\n",
        "*Hint 2: xarrays have a ['.values' attribute](https://xarray.pydata.org/en/stable/generated/xarray.DataArray.values.html) that return their data as a numpy array.*"
      ],
      "metadata": {
        "id": "vEfuD2O8aZ4w"
      }
    },
    {
      "cell_type": "code",
      "source": [
        "# Complete the code\n",
        "# Let's store the stacked version of our dataset\n",
        "stacked = ds.stack( { 'stacked_dim' :[ 'lat' , 'lon' ] } )"
      ],
      "metadata": {
        "id": "G4e2NDipb0Tr"
      },
      "execution_count": 24,
      "outputs": []
    },
    {
      "cell_type": "code",
      "source": [
        "# And verify the shape of our data\n",
        "print(stacked.to_array().values.shape)"
      ],
      "metadata": {
        "id": "UQt4-fFACtUm",
        "colab": {
          "base_uri": "https://localhost:8080/"
        },
        "outputId": "d8479678-93c9-40ab-a5fb-d6e2eda6ae8f"
      },
      "execution_count": 25,
      "outputs": [
        {
          "output_type": "stream",
          "name": "stdout",
          "text": [
            "(7, 518400)\n"
          ]
        }
      ]
    },
    {
      "cell_type": "markdown",
      "source": [
        "So far we've ignored an important point - we're supposed to have 5 variables, not 6! As you may have guessed, `noiseMask` helps us throw away data we dont want (e.g., from land mass or bad pixels).\n",
        "\n",
        "We're now going to clean up the stacked dataset using the noise mask. Relax and read through the code, since there won't be a question in this part :)"
      ],
      "metadata": {
        "id": "MZGPnmooffKy"
      }
    },
    {
      "cell_type": "code",
      "source": [
        "# Let's redefine stacked as all the points where noiseMask = 1, since noisemask\n",
        "# is binary data.\n",
        "\n",
        "print(f'Dataset shape before processing: {stacked.to_array().values.shape}')\n",
        "\n",
        "print(\"Let's do some data cleaning!\")\n",
        "print(f'Points before cleaning: {len(stacked.BPT)}')\n",
        "stacked = stacked.where(stacked.noiseMask==1, drop=True)\n",
        "print(f'Points after cleaning: {len(stacked.BPT)}')"
      ],
      "metadata": {
        "id": "sbXscaE_fcOj",
        "colab": {
          "base_uri": "https://localhost:8080/"
        },
        "outputId": "16759c91-716c-4b49-dbdd-b11ccd5bc222"
      },
      "execution_count": 26,
      "outputs": [
        {
          "output_type": "stream",
          "name": "stdout",
          "text": [
            "Dataset shape before processing: (7, 518400)\n",
            "Let's do some data cleaning!\n",
            "Points before cleaning: 518400\n",
            "Points after cleaning: 299428\n"
          ]
        }
      ]
    },
    {
      "cell_type": "code",
      "source": [
        "# We also no longer need the noiseMask variable, so we can just drop it.\n",
        "\n",
        "print('And drop the noisemask variable...')\n",
        "print(f'Before dropping: {stacked.to_array().values.shape}')\n",
        "stacked = stacked.drop('noiseMask')\n",
        "print(f'Dataset shape after processing: {stacked.to_array().values.shape}')"
      ],
      "metadata": {
        "id": "crX5HoD3C3Ls",
        "colab": {
          "base_uri": "https://localhost:8080/"
        },
        "outputId": "bd7a6ae8-d653-45c8-e43a-380adc5d9c82"
      },
      "execution_count": 27,
      "outputs": [
        {
          "output_type": "stream",
          "name": "stdout",
          "text": [
            "And drop the noisemask variable...\n",
            "Before dropping: (7, 299428)\n",
            "Dataset shape after processing: (6, 299428)\n"
          ]
        },
        {
          "output_type": "stream",
          "name": "stderr",
          "text": [
            "<ipython-input-27-53af3cff5b07>:5: DeprecationWarning: dropping variables using `drop` is deprecated; use drop_vars.\n",
            "  stacked = stacked.drop('noiseMask')\n"
          ]
        }
      ]
    },
    {
      "cell_type": "markdown",
      "source": [
        "We now have several thousand points which we want to divide into clusters using the kmeans clustering algorithm (you can check out the documentation for scikit's implementation of kmeans [here](https://scikit-learn.org/stable/modules/generated/sklearn.cluster.KMeans.html)).\n",
        "\n",
        "You'll note that the algorithm expects the input data `X` to be fed as `(n_samples, n_features)`. This is the opposite of what we have! Let's go ahead and make a copy to a numpy array has the axes in the right order.\n",
        "\n",
        "You'll need xarray's [`.to_array()`](https://xarray.pydata.org/en/stable/generated/xarray.Dataset.to_array.html) method and [`.values`](https://xarray.pydata.org/en/stable/generated/xarray.DataArray.values.html) parameter, as well as numpy's [`.moveaxis`](https://numpy.org/doc/stable/reference/generated/numpy.moveaxis.html) method.\n",
        "\n",
        "### Q7) Load the datapoints into a numpy array following the convention where the 0th axis corresponds to the samples and the 1st axis corresponds to the features."
      ],
      "metadata": {
        "id": "5Pol90vsU_wv"
      }
    },
    {
      "cell_type": "code",
      "source": [
        "# Complete the code\n",
        "input_data = np.moveaxis(stacked.to_array().values,  # data to reshape. Note that cluster is dropped since not needed for training\n",
        "                         0,          # source axis as integer,\n",
        "                         1)          # destination axis as integer"
      ],
      "metadata": {
        "id": "uu0AVVkPeTzC"
      },
      "execution_count": 28,
      "outputs": []
    },
    {
      "cell_type": "code",
      "source": [
        "# Does the input data look the way it's supposed to? Print the shape.\n",
        "print(np.shape(input_data))"
      ],
      "metadata": {
        "id": "Vi9GZ-XsC6Nd",
        "colab": {
          "base_uri": "https://localhost:8080/"
        },
        "outputId": "6581f5a2-b6b3-4988-e806-1f07fdec7575"
      },
      "execution_count": 29,
      "outputs": [
        {
          "output_type": "stream",
          "name": "stdout",
          "text": [
            "(299428, 6)\n"
          ]
        }
      ]
    },
    {
      "cell_type": "markdown",
      "source": [
        "## Kmeans clustering"
      ],
      "metadata": {
        "id": "Sd7dfacgRCuL"
      }
    },
    {
      "cell_type": "markdown",
      "source": [
        "In previous classes we discussed the importance of the scaling the data before implementing our algorithms. Now that our data is all but ready to be fed into an algorithm, let's make sure that it's been scaled.\n",
        "\n",
        "### Q8) Scale the input data\n",
        "\n",
        "*Hint 1: Import the [`StandardScaler`](https://scikit-learn.org/stable/modules/generated/sklearn.preprocessing.StandardScaler.html) class from scikit and instantiate it*\n",
        "\n",
        "*Hint 2: Update the input array to the one returned by the [`.fit_transform(X)`](https://scikit-learn.org/stable/modules/generated/sklearn.preprocessing.StandardScaler.html#sklearn.preprocessing.StandardScaler.fit_transform) method*"
      ],
      "metadata": {
        "id": "AoZSkMieiL9O"
      }
    },
    {
      "cell_type": "code",
      "source": [
        "#Write your scaling code here\n",
        "scaler = StandardScaler()\n",
        "input_data = scaler.fit_transform(input_data)"
      ],
      "metadata": {
        "id": "D2sZPWf1ignO"
      },
      "execution_count": 30,
      "outputs": []
    },
    {
      "cell_type": "markdown",
      "source": [
        "Now we're finally ready to train our algorithm! Let's load up the kmeans model and find clusters in our data.\n",
        "\n",
        "### Q9) Instantiate the kmeans clustering algorithm, and then fit it using 50 clusters, trying out 10 different initial centroids.\n",
        "\n",
        "*Hint 1: `sklearn.cluster` was imported as `cluser` during the notebook setup! [Here is the scikit `KMeans` documentation](https://scikit-learn.org/stable/modules/generated/sklearn.cluster.KMeans.html).*\n",
        "\n",
        "*Hint 2: Use the `fit_predict` method to organize the data into clusters*\n",
        "\n",
        "*Warning! : Fitting the data may take some time (under a minute during the testing of the notebook)"
      ],
      "metadata": {
        "id": "_z3e6dU8rInv"
      }
    },
    {
      "cell_type": "code",
      "source": [
        "# Complete the code\n",
        "kmeans = cluster.KMeans(n_clusters =50,  # Number of clusters\n",
        "                        random_state =42, # setting a random state\n",
        "                        n_init =10, # Number of initial centroid states to try\n",
        "                       verbose = 1)   # Verbosity so we know things are working"
      ],
      "metadata": {
        "id": "DtYyiksRrHPm"
      },
      "execution_count": 31,
      "outputs": []
    },
    {
      "cell_type": "code",
      "source": [
        "cluster_labels = kmeans.fit_predict(np.nan_to_num(input_data)) # Feed in out scaled input data!"
      ],
      "metadata": {
        "id": "ohuw1WFiC8kS",
        "collapsed": true,
        "colab": {
          "base_uri": "https://localhost:8080/"
        },
        "outputId": "5948329e-84c3-413a-f634-03c03a98ecb5"
      },
      "execution_count": 32,
      "outputs": [
        {
          "output_type": "stream",
          "name": "stdout",
          "text": [
            "Initialization complete\n",
            "Iteration 0, inertia 349760.2798452157.\n",
            "Iteration 1, inertia 321120.7922719647.\n",
            "Iteration 2, inertia 313346.1017440635.\n",
            "Iteration 3, inertia 308513.09109959094.\n",
            "Iteration 4, inertia 305526.21844936785.\n",
            "Iteration 5, inertia 303668.103616636.\n",
            "Iteration 6, inertia 302245.36895257886.\n",
            "Iteration 7, inertia 301029.27185257006.\n",
            "Iteration 8, inertia 299447.754771577.\n",
            "Iteration 9, inertia 298353.9645814309.\n",
            "Iteration 10, inertia 297191.46583274344.\n",
            "Iteration 11, inertia 296557.5689168633.\n",
            "Iteration 12, inertia 295986.88808250363.\n",
            "Iteration 13, inertia 295551.9750376307.\n",
            "Iteration 14, inertia 295270.6204044058.\n",
            "Iteration 15, inertia 295011.5819084719.\n",
            "Iteration 16, inertia 294740.0021743077.\n",
            "Iteration 17, inertia 294468.09066993126.\n",
            "Iteration 18, inertia 294258.9064883011.\n",
            "Iteration 19, inertia 294116.3268501193.\n",
            "Iteration 20, inertia 294002.4139409107.\n",
            "Iteration 21, inertia 293908.28580926266.\n",
            "Iteration 22, inertia 293838.69420985936.\n",
            "Iteration 23, inertia 293782.2273281483.\n",
            "Iteration 24, inertia 293730.64811742736.\n",
            "Iteration 25, inertia 293680.0850035443.\n",
            "Iteration 26, inertia 293632.7967752979.\n",
            "Iteration 27, inertia 293584.8793541235.\n",
            "Iteration 28, inertia 293544.75558668596.\n",
            "Iteration 29, inertia 293513.2208101758.\n",
            "Iteration 30, inertia 293485.6948893119.\n",
            "Iteration 31, inertia 293460.51875841443.\n",
            "Iteration 32, inertia 293443.5093544149.\n",
            "Iteration 33, inertia 293429.4574202697.\n",
            "Iteration 34, inertia 293410.2899338112.\n",
            "Iteration 35, inertia 293401.2285526687.\n",
            "Iteration 36, inertia 293391.0484831848.\n",
            "Iteration 37, inertia 293381.00858762546.\n",
            "Iteration 38, inertia 293372.8216788539.\n",
            "Iteration 39, inertia 293368.27393195376.\n",
            "Iteration 40, inertia 293364.0960315419.\n",
            "Iteration 41, inertia 293359.42166856164.\n",
            "Iteration 42, inertia 293356.7438297231.\n",
            "Iteration 43, inertia 293354.09793998493.\n",
            "Iteration 44, inertia 293349.0071342833.\n",
            "Iteration 45, inertia 293343.7852762067.\n",
            "Iteration 46, inertia 293337.1325575771.\n",
            "Iteration 47, inertia 293331.4454644246.\n",
            "Iteration 48, inertia 293326.85813964705.\n",
            "Iteration 49, inertia 293322.34467070014.\n",
            "Iteration 50, inertia 293317.5113624624.\n",
            "Iteration 51, inertia 293307.98135029274.\n",
            "Iteration 52, inertia 293295.35897179396.\n",
            "Iteration 53, inertia 293285.45344549767.\n",
            "Iteration 54, inertia 293277.37461847893.\n",
            "Iteration 55, inertia 293270.6259129695.\n",
            "Iteration 56, inertia 293260.9736715701.\n",
            "Iteration 57, inertia 293247.63146361767.\n",
            "Iteration 58, inertia 293235.18087132886.\n",
            "Iteration 59, inertia 293219.4121356175.\n",
            "Iteration 60, inertia 293198.5088769689.\n",
            "Iteration 61, inertia 293160.42533180723.\n",
            "Iteration 62, inertia 293122.7718818644.\n",
            "Iteration 63, inertia 293048.59380422096.\n",
            "Iteration 64, inertia 293035.1114515795.\n",
            "Iteration 65, inertia 293023.65809900773.\n",
            "Iteration 66, inertia 293013.1784414687.\n",
            "Iteration 67, inertia 292993.5708886873.\n",
            "Iteration 68, inertia 292979.48136319494.\n",
            "Iteration 69, inertia 292962.6023742242.\n",
            "Iteration 70, inertia 292948.84816708637.\n",
            "Iteration 71, inertia 292941.84266837017.\n",
            "Iteration 72, inertia 292933.87910128006.\n",
            "Iteration 73, inertia 292921.2730927252.\n",
            "Iteration 74, inertia 292907.2116781447.\n",
            "Iteration 75, inertia 292885.0831172041.\n",
            "Iteration 76, inertia 292837.7628027973.\n",
            "Iteration 77, inertia 292781.3297784055.\n",
            "Iteration 78, inertia 292687.2375515648.\n",
            "Iteration 79, inertia 292579.9406724957.\n",
            "Iteration 80, inertia 292517.2628915124.\n",
            "Iteration 81, inertia 292468.58014452277.\n",
            "Iteration 82, inertia 292420.62968767894.\n",
            "Iteration 83, inertia 292368.6093088498.\n",
            "Iteration 84, inertia 292311.0991858947.\n",
            "Iteration 85, inertia 292250.43988918554.\n",
            "Iteration 86, inertia 292206.03905974975.\n",
            "Iteration 87, inertia 292170.5241811582.\n",
            "Iteration 88, inertia 292153.3818921485.\n",
            "Iteration 89, inertia 292143.1648515608.\n",
            "Iteration 90, inertia 292136.86559409264.\n",
            "Iteration 91, inertia 292134.2445223645.\n",
            "Iteration 92, inertia 292132.1319948032.\n",
            "Iteration 93, inertia 292131.0607291392.\n",
            "Converged at iteration 93: center shift 5.6545799504939176e-05 within tolerance 8.333333333333184e-05.\n",
            "Initialization complete\n",
            "Iteration 0, inertia 361091.3759013574.\n",
            "Iteration 1, inertia 326771.97746824974.\n",
            "Iteration 2, inertia 316551.4170158961.\n",
            "Iteration 3, inertia 312118.95992623945.\n",
            "Iteration 4, inertia 309147.6368220977.\n",
            "Iteration 5, inertia 306921.911893421.\n",
            "Iteration 6, inertia 305486.2636213639.\n",
            "Iteration 7, inertia 304391.5099732814.\n",
            "Iteration 8, inertia 303646.23524991405.\n",
            "Iteration 9, inertia 302972.64422926964.\n",
            "Iteration 10, inertia 302460.00294500653.\n",
            "Iteration 11, inertia 302038.42666787776.\n",
            "Iteration 12, inertia 301620.7868403488.\n",
            "Iteration 13, inertia 301243.26243477827.\n",
            "Iteration 14, inertia 300885.62399828166.\n",
            "Iteration 15, inertia 300390.0698616663.\n",
            "Iteration 16, inertia 299841.8297473735.\n",
            "Iteration 17, inertia 299088.82550836395.\n",
            "Iteration 18, inertia 298154.5846892374.\n",
            "Iteration 19, inertia 297401.729996115.\n",
            "Iteration 20, inertia 296565.61316029256.\n",
            "Iteration 21, inertia 295850.13300563296.\n",
            "Iteration 22, inertia 295292.40173461585.\n",
            "Iteration 23, inertia 294988.856888994.\n",
            "Iteration 24, inertia 294809.6506876239.\n",
            "Iteration 25, inertia 294676.83864801686.\n",
            "Iteration 26, inertia 294590.0058499738.\n",
            "Iteration 27, inertia 294506.0429546064.\n",
            "Iteration 28, inertia 294434.1889673497.\n",
            "Iteration 29, inertia 294366.8477562265.\n",
            "Iteration 30, inertia 294294.4406044355.\n",
            "Iteration 31, inertia 294227.9456529496.\n",
            "Iteration 32, inertia 294152.54663962213.\n",
            "Iteration 33, inertia 294067.1738406853.\n",
            "Iteration 34, inertia 293970.15510984615.\n",
            "Iteration 35, inertia 293877.57727384096.\n",
            "Iteration 36, inertia 293814.78732962854.\n",
            "Iteration 37, inertia 293765.52877939184.\n",
            "Iteration 38, inertia 293730.86871850333.\n",
            "Iteration 39, inertia 293693.61667725665.\n",
            "Iteration 40, inertia 293664.4144983023.\n",
            "Iteration 41, inertia 293647.25781061064.\n",
            "Iteration 42, inertia 293634.78232891357.\n",
            "Iteration 43, inertia 293627.5999099261.\n",
            "Iteration 44, inertia 293622.4204976935.\n",
            "Iteration 45, inertia 293615.4902492686.\n",
            "Iteration 46, inertia 293611.47739286494.\n",
            "Iteration 47, inertia 293605.5031554385.\n",
            "Iteration 48, inertia 293603.23764250014.\n",
            "Iteration 49, inertia 293601.6878917177.\n",
            "Iteration 50, inertia 293600.6844853807.\n",
            "Iteration 51, inertia 293599.6601876391.\n",
            "Iteration 52, inertia 293598.1395287803.\n",
            "Iteration 53, inertia 293597.07291258825.\n",
            "Iteration 54, inertia 293594.707511477.\n",
            "Iteration 55, inertia 293592.2749539029.\n",
            "Iteration 56, inertia 293591.7249541089.\n",
            "Iteration 57, inertia 293591.149077232.\n",
            "Converged at iteration 57: center shift 4.094236529823929e-05 within tolerance 8.333333333333184e-05.\n",
            "Initialization complete\n",
            "Iteration 0, inertia 369292.8267720386.\n",
            "Iteration 1, inertia 325435.2818070622.\n",
            "Iteration 2, inertia 314567.85426643596.\n",
            "Iteration 3, inertia 309466.59236935683.\n",
            "Iteration 4, inertia 306291.960051957.\n",
            "Iteration 5, inertia 304320.5257912002.\n",
            "Iteration 6, inertia 303108.9452889709.\n",
            "Iteration 7, inertia 302096.07694500603.\n",
            "Iteration 8, inertia 301462.73688705644.\n",
            "Iteration 9, inertia 300879.17983335943.\n",
            "Iteration 10, inertia 300358.73600941134.\n",
            "Iteration 11, inertia 299840.9561155725.\n",
            "Iteration 12, inertia 299443.31673693645.\n",
            "Iteration 13, inertia 299001.96831777267.\n",
            "Iteration 14, inertia 298510.37102005066.\n",
            "Iteration 15, inertia 298099.9307734387.\n",
            "Iteration 16, inertia 297741.9703703276.\n",
            "Iteration 17, inertia 297443.468580764.\n",
            "Iteration 18, inertia 297181.787320312.\n",
            "Iteration 19, inertia 296982.6907047167.\n",
            "Iteration 20, inertia 296822.55657874246.\n",
            "Iteration 21, inertia 296695.7437799609.\n",
            "Iteration 22, inertia 296582.6615003384.\n",
            "Iteration 23, inertia 296485.69323346904.\n",
            "Iteration 24, inertia 296402.6936340782.\n",
            "Iteration 25, inertia 296324.74214935687.\n",
            "Iteration 26, inertia 296248.18881482305.\n",
            "Iteration 27, inertia 296185.04488673597.\n",
            "Iteration 28, inertia 296129.90696469706.\n",
            "Iteration 29, inertia 296096.9891457344.\n",
            "Iteration 30, inertia 296076.57236595155.\n",
            "Iteration 31, inertia 296059.7382428994.\n",
            "Iteration 32, inertia 296040.07495654136.\n",
            "Iteration 33, inertia 296027.5982912959.\n",
            "Iteration 34, inertia 296016.5431245486.\n",
            "Iteration 35, inertia 296006.497584538.\n",
            "Iteration 36, inertia 295996.7647927766.\n",
            "Iteration 37, inertia 295985.17019590095.\n",
            "Iteration 38, inertia 295969.9330190268.\n",
            "Iteration 39, inertia 295957.8058476112.\n",
            "Iteration 40, inertia 295943.4332533401.\n",
            "Iteration 41, inertia 295941.2297044268.\n",
            "Iteration 42, inertia 295938.6699358865.\n",
            "Iteration 43, inertia 295936.74234152155.\n",
            "Iteration 44, inertia 295936.04294374556.\n",
            "Iteration 45, inertia 295935.05705123907.\n",
            "Iteration 46, inertia 295932.7821356408.\n",
            "Iteration 47, inertia 295928.392144768.\n",
            "Iteration 48, inertia 295925.1531460496.\n",
            "Iteration 49, inertia 295923.26070585725.\n",
            "Iteration 50, inertia 295921.7688272291.\n",
            "Iteration 51, inertia 295921.069718507.\n",
            "Iteration 52, inertia 295920.62294040073.\n",
            "Iteration 53, inertia 295919.99400717206.\n",
            "Iteration 54, inertia 295919.2995255642.\n",
            "Iteration 55, inertia 295918.9974284872.\n",
            "Converged at iteration 55: center shift 5.297262990751018e-05 within tolerance 8.333333333333184e-05.\n",
            "Initialization complete\n",
            "Iteration 0, inertia 354649.80735780013.\n",
            "Iteration 1, inertia 320971.76640559174.\n",
            "Iteration 2, inertia 311833.6643772216.\n",
            "Iteration 3, inertia 307847.89107007143.\n",
            "Iteration 4, inertia 305120.74869320524.\n",
            "Iteration 5, inertia 303188.9708596643.\n",
            "Iteration 6, inertia 302080.1821032501.\n",
            "Iteration 7, inertia 301216.014612531.\n",
            "Iteration 8, inertia 300520.61672779993.\n",
            "Iteration 9, inertia 299964.1778671022.\n",
            "Iteration 10, inertia 299423.1141181074.\n",
            "Iteration 11, inertia 298868.5053359207.\n",
            "Iteration 12, inertia 298368.82100858423.\n",
            "Iteration 13, inertia 297816.2065523927.\n",
            "Iteration 14, inertia 297289.8558337609.\n",
            "Iteration 15, inertia 296732.18004905374.\n",
            "Iteration 16, inertia 296113.59945517.\n",
            "Iteration 17, inertia 295614.54723083746.\n",
            "Iteration 18, inertia 295238.23341640935.\n",
            "Iteration 19, inertia 294919.68182765157.\n",
            "Iteration 20, inertia 294691.358094374.\n",
            "Iteration 21, inertia 294630.2626423169.\n",
            "Iteration 22, inertia 294597.53505484737.\n",
            "Iteration 23, inertia 294550.54115297133.\n",
            "Iteration 24, inertia 294502.3248355727.\n",
            "Iteration 25, inertia 294463.39049581625.\n",
            "Iteration 26, inertia 294433.78852978547.\n",
            "Iteration 27, inertia 294412.1116512691.\n",
            "Iteration 28, inertia 294383.0283725474.\n",
            "Iteration 29, inertia 294357.2141227356.\n",
            "Iteration 30, inertia 294333.55405129795.\n",
            "Iteration 31, inertia 294317.04422440723.\n",
            "Iteration 32, inertia 294302.5888368728.\n",
            "Iteration 33, inertia 294289.05437866994.\n",
            "Iteration 34, inertia 294279.3370285287.\n",
            "Iteration 35, inertia 294266.63098957617.\n",
            "Iteration 36, inertia 294249.1951551616.\n",
            "Iteration 37, inertia 294225.9756256186.\n",
            "Iteration 38, inertia 294208.3945408566.\n",
            "Iteration 39, inertia 294197.26210364094.\n",
            "Iteration 40, inertia 294181.58765361627.\n",
            "Iteration 41, inertia 294161.6783953498.\n",
            "Iteration 42, inertia 294137.5507759907.\n",
            "Iteration 43, inertia 294123.63673765486.\n",
            "Iteration 44, inertia 294113.9514912643.\n",
            "Iteration 45, inertia 294102.1266658934.\n",
            "Iteration 46, inertia 294094.46960907395.\n",
            "Iteration 47, inertia 294088.8912810715.\n",
            "Iteration 48, inertia 294083.03706156136.\n",
            "Iteration 49, inertia 294076.1184344316.\n",
            "Iteration 50, inertia 294069.1517337738.\n",
            "Iteration 51, inertia 294057.0526843563.\n",
            "Iteration 52, inertia 294047.1378068431.\n",
            "Iteration 53, inertia 294037.8090747589.\n",
            "Iteration 54, inertia 294030.27559042344.\n",
            "Iteration 55, inertia 294023.55120183085.\n",
            "Iteration 56, inertia 294017.14663694036.\n",
            "Iteration 57, inertia 294011.18564325233.\n",
            "Iteration 58, inertia 294007.77745202236.\n",
            "Iteration 59, inertia 294004.82489787077.\n",
            "Iteration 60, inertia 294001.73710525106.\n",
            "Iteration 61, inertia 293997.86411363503.\n",
            "Iteration 62, inertia 293994.83932397247.\n",
            "Iteration 63, inertia 293992.2810669064.\n",
            "Iteration 64, inertia 293990.7160220008.\n",
            "Iteration 65, inertia 293989.45161565027.\n",
            "Iteration 66, inertia 293987.35745333566.\n",
            "Iteration 67, inertia 293985.1498221503.\n",
            "Iteration 68, inertia 293983.9045297899.\n",
            "Iteration 69, inertia 293982.8996574211.\n",
            "Iteration 70, inertia 293982.0247588233.\n",
            "Iteration 71, inertia 293981.1193083035.\n",
            "Iteration 72, inertia 293980.1734692683.\n",
            "Iteration 73, inertia 293978.9718770543.\n",
            "Iteration 74, inertia 293978.3240566143.\n",
            "Iteration 75, inertia 293977.94369513856.\n",
            "Iteration 76, inertia 293977.5957296331.\n",
            "Converged at iteration 76: center shift 5.0375251114591785e-05 within tolerance 8.333333333333184e-05.\n",
            "Initialization complete\n",
            "Iteration 0, inertia 362184.54007990676.\n",
            "Iteration 1, inertia 326046.80806904315.\n",
            "Iteration 2, inertia 315613.9718431813.\n",
            "Iteration 3, inertia 310003.9288084947.\n",
            "Iteration 4, inertia 306612.0537508999.\n",
            "Iteration 5, inertia 304360.18467742787.\n",
            "Iteration 6, inertia 302817.2053834963.\n",
            "Iteration 7, inertia 301826.69856697845.\n",
            "Iteration 8, inertia 300914.5945820455.\n",
            "Iteration 9, inertia 300242.68025604496.\n",
            "Iteration 10, inertia 299847.4217929697.\n",
            "Iteration 11, inertia 299504.87925901276.\n",
            "Iteration 12, inertia 299214.2904741167.\n",
            "Iteration 13, inertia 298980.90425801685.\n",
            "Iteration 14, inertia 298849.01448222017.\n",
            "Iteration 15, inertia 298738.7300017191.\n",
            "Iteration 16, inertia 298625.0784248759.\n",
            "Iteration 17, inertia 298492.87500758533.\n",
            "Iteration 18, inertia 298329.24817271903.\n",
            "Iteration 19, inertia 298218.3055064425.\n",
            "Iteration 20, inertia 298096.83876449434.\n",
            "Iteration 21, inertia 298018.1600273305.\n",
            "Iteration 22, inertia 297947.77101525856.\n",
            "Iteration 23, inertia 297879.9327010122.\n",
            "Iteration 24, inertia 297793.8758469855.\n",
            "Iteration 25, inertia 297693.79484682187.\n",
            "Iteration 26, inertia 297618.8295964938.\n",
            "Iteration 27, inertia 297570.82946617185.\n",
            "Iteration 28, inertia 297542.4104143894.\n",
            "Iteration 29, inertia 297519.3091051416.\n",
            "Iteration 30, inertia 297503.26932090917.\n",
            "Iteration 31, inertia 297479.31799486274.\n",
            "Iteration 32, inertia 297461.37877700006.\n",
            "Iteration 33, inertia 297446.9511201426.\n",
            "Iteration 34, inertia 297433.46471782797.\n",
            "Iteration 35, inertia 297424.9864812228.\n",
            "Iteration 36, inertia 297416.66022022115.\n",
            "Iteration 37, inertia 297411.6995452438.\n",
            "Iteration 38, inertia 297407.1469205842.\n",
            "Iteration 39, inertia 297402.4759755582.\n",
            "Iteration 40, inertia 297398.96957740176.\n",
            "Iteration 41, inertia 297397.134377703.\n",
            "Iteration 42, inertia 297393.36255521874.\n",
            "Iteration 43, inertia 297388.5243587739.\n",
            "Iteration 44, inertia 297383.4781410151.\n",
            "Iteration 45, inertia 297375.99214046303.\n",
            "Iteration 46, inertia 297365.4027400874.\n",
            "Iteration 47, inertia 297358.2663887012.\n",
            "Iteration 48, inertia 297348.8832945322.\n",
            "Iteration 49, inertia 297342.0948617592.\n",
            "Iteration 50, inertia 297333.87460403616.\n",
            "Iteration 51, inertia 297325.57946769474.\n",
            "Iteration 52, inertia 297316.85210862797.\n",
            "Iteration 53, inertia 297309.4838862345.\n",
            "Iteration 54, inertia 297304.12063950853.\n",
            "Iteration 55, inertia 297299.06250763056.\n",
            "Iteration 56, inertia 297294.51641681686.\n",
            "Iteration 57, inertia 297290.7647220886.\n",
            "Iteration 58, inertia 297287.1081925878.\n",
            "Iteration 59, inertia 297282.3008237861.\n",
            "Iteration 60, inertia 297279.49153874966.\n",
            "Iteration 61, inertia 297277.5816213826.\n",
            "Iteration 62, inertia 297276.18266692234.\n",
            "Iteration 63, inertia 297274.7350564449.\n",
            "Iteration 64, inertia 297272.9664837655.\n",
            "Iteration 65, inertia 297270.4903284884.\n",
            "Iteration 66, inertia 297268.7776048231.\n",
            "Iteration 67, inertia 297266.6081226804.\n",
            "Iteration 68, inertia 297265.733947924.\n",
            "Iteration 69, inertia 297263.86355764366.\n",
            "Iteration 70, inertia 297260.4590001695.\n",
            "Iteration 71, inertia 297258.91644359863.\n",
            "Iteration 72, inertia 297255.5214094433.\n",
            "Iteration 73, inertia 297249.8876486252.\n",
            "Iteration 74, inertia 297245.93376601074.\n",
            "Iteration 75, inertia 297240.189293079.\n",
            "Iteration 76, inertia 297230.18841208395.\n",
            "Iteration 77, inertia 297222.6715710365.\n",
            "Iteration 78, inertia 297218.0597430038.\n",
            "Iteration 79, inertia 297216.1264665609.\n",
            "Iteration 80, inertia 297215.0784776419.\n",
            "Converged at iteration 80: center shift 5.778395244192195e-05 within tolerance 8.333333333333184e-05.\n",
            "Initialization complete\n",
            "Iteration 0, inertia 349599.88714207534.\n",
            "Iteration 1, inertia 318191.4888026521.\n",
            "Iteration 2, inertia 310665.59069876326.\n",
            "Iteration 3, inertia 306028.5192079387.\n",
            "Iteration 4, inertia 303989.8638183636.\n",
            "Iteration 5, inertia 302533.415701898.\n",
            "Iteration 6, inertia 301439.0658293883.\n",
            "Iteration 7, inertia 300304.3254260172.\n",
            "Iteration 8, inertia 299510.8515644628.\n",
            "Iteration 9, inertia 298851.0976583408.\n",
            "Iteration 10, inertia 298315.12957052205.\n",
            "Iteration 11, inertia 297908.2943949189.\n",
            "Iteration 12, inertia 297568.71609216137.\n",
            "Iteration 13, inertia 297286.77724668954.\n",
            "Iteration 14, inertia 297028.93840992195.\n",
            "Iteration 15, inertia 296770.8138895059.\n",
            "Iteration 16, inertia 296560.731924442.\n",
            "Iteration 17, inertia 296310.91187342.\n",
            "Iteration 18, inertia 296170.313252143.\n",
            "Iteration 19, inertia 296048.76705472637.\n",
            "Iteration 20, inertia 295966.97154784383.\n",
            "Iteration 21, inertia 295813.02241713146.\n",
            "Iteration 22, inertia 295739.1066619965.\n",
            "Iteration 23, inertia 295701.54109881737.\n",
            "Iteration 24, inertia 295666.0837698455.\n",
            "Iteration 25, inertia 295645.07960278145.\n",
            "Iteration 26, inertia 295626.34937855066.\n",
            "Iteration 27, inertia 295610.22051141073.\n",
            "Iteration 28, inertia 295602.51855600375.\n",
            "Iteration 29, inertia 295592.8130631043.\n",
            "Iteration 30, inertia 295589.7604198737.\n",
            "Iteration 31, inertia 295588.2863281453.\n",
            "Iteration 32, inertia 295586.35722603346.\n",
            "Iteration 33, inertia 295582.43891358183.\n",
            "Iteration 34, inertia 295578.14269455295.\n",
            "Iteration 35, inertia 295574.89875943563.\n",
            "Iteration 36, inertia 295572.27097865293.\n",
            "Iteration 37, inertia 295569.81634525675.\n",
            "Iteration 38, inertia 295568.074663956.\n",
            "Iteration 39, inertia 295567.05843765463.\n",
            "Iteration 40, inertia 295566.0156519138.\n",
            "Iteration 41, inertia 295565.1145067957.\n",
            "Iteration 42, inertia 295564.2145493937.\n",
            "Iteration 43, inertia 295562.38450043165.\n",
            "Iteration 44, inertia 295560.71007076034.\n",
            "Iteration 45, inertia 295559.55663631525.\n",
            "Iteration 46, inertia 295556.5476743281.\n",
            "Iteration 47, inertia 295555.3813561622.\n",
            "Iteration 48, inertia 295554.17842910864.\n",
            "Iteration 49, inertia 295552.0563641342.\n",
            "Iteration 50, inertia 295550.0144591596.\n",
            "Iteration 51, inertia 295547.7745373338.\n",
            "Iteration 52, inertia 295546.12173729204.\n",
            "Iteration 53, inertia 295544.3206638853.\n",
            "Iteration 54, inertia 295542.82967676775.\n",
            "Iteration 55, inertia 295542.1960309634.\n",
            "Iteration 56, inertia 295541.8997332305.\n",
            "Converged at iteration 56: center shift 1.763523775631979e-05 within tolerance 8.333333333333184e-05.\n",
            "Initialization complete\n",
            "Iteration 0, inertia 363092.7187582398.\n",
            "Iteration 1, inertia 320467.74128805794.\n",
            "Iteration 2, inertia 310995.91742799676.\n",
            "Iteration 3, inertia 306604.80295759934.\n",
            "Iteration 4, inertia 304018.7159642521.\n",
            "Iteration 5, inertia 302259.5906608646.\n",
            "Iteration 6, inertia 300913.9384410062.\n",
            "Iteration 7, inertia 300056.54765828396.\n",
            "Iteration 8, inertia 299279.5168428942.\n",
            "Iteration 9, inertia 298575.25875053.\n",
            "Iteration 10, inertia 297949.824473666.\n",
            "Iteration 11, inertia 297373.6879823899.\n",
            "Iteration 12, inertia 296887.7437841434.\n",
            "Iteration 13, inertia 296416.6802261221.\n",
            "Iteration 14, inertia 295934.1036790053.\n",
            "Iteration 15, inertia 295512.6119136634.\n",
            "Iteration 16, inertia 295156.7508745068.\n",
            "Iteration 17, inertia 294756.3774421483.\n",
            "Iteration 18, inertia 294374.0144574112.\n",
            "Iteration 19, inertia 294152.9523335615.\n",
            "Iteration 20, inertia 294030.1085173464.\n",
            "Iteration 21, inertia 293949.1913291668.\n",
            "Iteration 22, inertia 293905.9175325295.\n",
            "Iteration 23, inertia 293868.1505722804.\n",
            "Iteration 24, inertia 293839.10313337523.\n",
            "Iteration 25, inertia 293815.66349319473.\n",
            "Iteration 26, inertia 293791.90447044885.\n",
            "Iteration 27, inertia 293772.07259707316.\n",
            "Iteration 28, inertia 293752.76056064.\n",
            "Iteration 29, inertia 293721.57986808196.\n",
            "Iteration 30, inertia 293701.29037200194.\n",
            "Iteration 31, inertia 293680.0229216546.\n",
            "Iteration 32, inertia 293663.4530636141.\n",
            "Iteration 33, inertia 293640.9324859287.\n",
            "Iteration 34, inertia 293596.4506898113.\n",
            "Iteration 35, inertia 293542.81476571347.\n",
            "Iteration 36, inertia 293499.3899785993.\n",
            "Iteration 37, inertia 293472.0199317982.\n",
            "Iteration 38, inertia 293445.96242995234.\n",
            "Iteration 39, inertia 293412.9652502247.\n",
            "Iteration 40, inertia 293351.6605981624.\n",
            "Iteration 41, inertia 293318.0227732131.\n",
            "Iteration 42, inertia 293275.303888535.\n",
            "Iteration 43, inertia 293234.57489853323.\n",
            "Iteration 44, inertia 293185.3648824306.\n",
            "Iteration 45, inertia 293159.0099664915.\n",
            "Iteration 46, inertia 293128.40176572214.\n",
            "Iteration 47, inertia 293091.642052866.\n",
            "Iteration 48, inertia 293050.32910796936.\n",
            "Iteration 49, inertia 293022.80309146515.\n",
            "Iteration 50, inertia 292996.28355613723.\n",
            "Iteration 51, inertia 292972.04688553145.\n",
            "Iteration 52, inertia 292947.01529321895.\n",
            "Iteration 53, inertia 292922.9206177441.\n",
            "Iteration 54, inertia 292903.50596314174.\n",
            "Iteration 55, inertia 292887.2230164815.\n",
            "Iteration 56, inertia 292875.3151905652.\n",
            "Iteration 57, inertia 292862.432147634.\n",
            "Iteration 58, inertia 292837.1969913425.\n",
            "Iteration 59, inertia 292815.7760069027.\n",
            "Iteration 60, inertia 292795.4576257308.\n",
            "Iteration 61, inertia 292773.38490768685.\n",
            "Iteration 62, inertia 292748.167400206.\n",
            "Iteration 63, inertia 292716.5527243601.\n",
            "Iteration 64, inertia 292677.39443461574.\n",
            "Iteration 65, inertia 292641.0636748692.\n",
            "Iteration 66, inertia 292613.3917543196.\n",
            "Iteration 67, inertia 292555.1772426712.\n",
            "Iteration 68, inertia 292501.68783512217.\n",
            "Iteration 69, inertia 292481.25341258897.\n",
            "Iteration 70, inertia 292471.40510791406.\n",
            "Iteration 71, inertia 292463.2643460802.\n",
            "Iteration 72, inertia 292457.06403746834.\n",
            "Iteration 73, inertia 292449.02160943556.\n",
            "Iteration 74, inertia 292441.2344552328.\n",
            "Iteration 75, inertia 292436.00812368287.\n",
            "Iteration 76, inertia 292433.3781663935.\n",
            "Iteration 77, inertia 292431.68258157064.\n",
            "Iteration 78, inertia 292428.23521343234.\n",
            "Iteration 79, inertia 292422.82751430944.\n",
            "Iteration 80, inertia 292418.253647017.\n",
            "Iteration 81, inertia 292415.4705516201.\n",
            "Iteration 82, inertia 292411.76359751803.\n",
            "Iteration 83, inertia 292408.35639981215.\n",
            "Iteration 84, inertia 292406.8209987064.\n",
            "Iteration 85, inertia 292405.94720763597.\n",
            "Iteration 86, inertia 292405.1883206492.\n",
            "Iteration 87, inertia 292404.4363404013.\n",
            "Iteration 88, inertia 292403.15653460927.\n",
            "Iteration 89, inertia 292401.95228613244.\n",
            "Iteration 90, inertia 292397.6899127851.\n",
            "Iteration 91, inertia 292396.2454839291.\n",
            "Iteration 92, inertia 292395.4919240079.\n",
            "Converged at iteration 92: center shift 5.14306004198851e-05 within tolerance 8.333333333333184e-05.\n",
            "Initialization complete\n",
            "Iteration 0, inertia 356391.5753971866.\n",
            "Iteration 1, inertia 318914.84439778037.\n",
            "Iteration 2, inertia 310802.4695113158.\n",
            "Iteration 3, inertia 307590.1869877644.\n",
            "Iteration 4, inertia 305546.4997676486.\n",
            "Iteration 5, inertia 304035.66035852174.\n",
            "Iteration 6, inertia 302230.658571775.\n",
            "Iteration 7, inertia 301127.9190561215.\n",
            "Iteration 8, inertia 300412.5422344496.\n",
            "Iteration 9, inertia 299744.9502918751.\n",
            "Iteration 10, inertia 299333.0763515134.\n",
            "Iteration 11, inertia 299001.54194057.\n",
            "Iteration 12, inertia 298713.16300161456.\n",
            "Iteration 13, inertia 298389.07531919354.\n",
            "Iteration 14, inertia 298026.98572011635.\n",
            "Iteration 15, inertia 297715.24870951293.\n",
            "Iteration 16, inertia 297424.2017549959.\n",
            "Iteration 17, inertia 297145.2095691128.\n",
            "Iteration 18, inertia 296910.5332656725.\n",
            "Iteration 19, inertia 296643.50993092195.\n",
            "Iteration 20, inertia 296475.3741308326.\n",
            "Iteration 21, inertia 296295.8362179753.\n",
            "Iteration 22, inertia 296089.7586690241.\n",
            "Iteration 23, inertia 295857.06215728173.\n",
            "Iteration 24, inertia 295707.26822435384.\n",
            "Iteration 25, inertia 295555.61558994185.\n",
            "Iteration 26, inertia 295402.04910473444.\n",
            "Iteration 27, inertia 295236.09880206274.\n",
            "Iteration 28, inertia 295129.3504339704.\n",
            "Iteration 29, inertia 295060.7222661342.\n",
            "Iteration 30, inertia 295007.2360379079.\n",
            "Iteration 31, inertia 294955.18169634865.\n",
            "Iteration 32, inertia 294908.53445059294.\n",
            "Iteration 33, inertia 294866.71259755595.\n",
            "Iteration 34, inertia 294821.98076051584.\n",
            "Iteration 35, inertia 294772.0893813703.\n",
            "Iteration 36, inertia 294727.8644901308.\n",
            "Iteration 37, inertia 294693.2937224683.\n",
            "Iteration 38, inertia 294669.47042888775.\n",
            "Iteration 39, inertia 294649.0687140715.\n",
            "Iteration 40, inertia 294629.5638383518.\n",
            "Iteration 41, inertia 294610.2347376977.\n",
            "Iteration 42, inertia 294584.7843120562.\n",
            "Iteration 43, inertia 294558.80715784704.\n",
            "Iteration 44, inertia 294538.9707852556.\n",
            "Iteration 45, inertia 294517.7299429661.\n",
            "Iteration 46, inertia 294490.09874756535.\n",
            "Iteration 47, inertia 294463.067704207.\n",
            "Iteration 48, inertia 294436.3266956329.\n",
            "Iteration 49, inertia 294403.16278955695.\n",
            "Iteration 50, inertia 294367.642918105.\n",
            "Iteration 51, inertia 294329.55848407384.\n",
            "Iteration 52, inertia 294308.43852150167.\n",
            "Iteration 53, inertia 294288.54575236223.\n",
            "Iteration 54, inertia 294276.3821849232.\n",
            "Iteration 55, inertia 294268.2665879876.\n",
            "Iteration 56, inertia 294262.08745906723.\n",
            "Iteration 57, inertia 294258.59500588605.\n",
            "Iteration 58, inertia 294257.1291475576.\n",
            "Iteration 59, inertia 294254.63166384056.\n",
            "Iteration 60, inertia 294251.8104189818.\n",
            "Iteration 61, inertia 294248.6066135092.\n",
            "Iteration 62, inertia 294245.81081880676.\n",
            "Iteration 63, inertia 294243.39687093656.\n",
            "Iteration 64, inertia 294241.4036239095.\n",
            "Iteration 65, inertia 294240.17996070633.\n",
            "Iteration 66, inertia 294239.3402004129.\n",
            "Iteration 67, inertia 294238.34412282164.\n",
            "Iteration 68, inertia 294237.75339363475.\n",
            "Iteration 69, inertia 294236.7589345968.\n",
            "Iteration 70, inertia 294235.85711479257.\n",
            "Iteration 71, inertia 294234.99469644955.\n",
            "Iteration 72, inertia 294234.2131419753.\n",
            "Iteration 73, inertia 294229.72896038.\n",
            "Iteration 74, inertia 294228.51103336224.\n",
            "Iteration 75, inertia 294227.99596773484.\n",
            "Converged at iteration 75: center shift 6.0357437251514515e-05 within tolerance 8.333333333333184e-05.\n",
            "Initialization complete\n",
            "Iteration 0, inertia 354073.183725622.\n",
            "Iteration 1, inertia 320875.0339961315.\n",
            "Iteration 2, inertia 314575.2286036402.\n",
            "Iteration 3, inertia 311394.9713041728.\n",
            "Iteration 4, inertia 309052.7446027324.\n",
            "Iteration 5, inertia 307225.7793371425.\n",
            "Iteration 6, inertia 305471.4293843849.\n",
            "Iteration 7, inertia 304240.59565917664.\n",
            "Iteration 8, inertia 303095.11860414065.\n",
            "Iteration 9, inertia 302332.9064840735.\n",
            "Iteration 10, inertia 301524.76572908706.\n",
            "Iteration 11, inertia 301089.3878291476.\n",
            "Iteration 12, inertia 300740.6215040169.\n",
            "Iteration 13, inertia 300407.037371906.\n",
            "Iteration 14, inertia 300133.89136172814.\n",
            "Iteration 15, inertia 299750.8134411796.\n",
            "Iteration 16, inertia 299316.34311597823.\n",
            "Iteration 17, inertia 299031.66608578054.\n",
            "Iteration 18, inertia 298775.1944105899.\n",
            "Iteration 19, inertia 298551.9274585154.\n",
            "Iteration 20, inertia 298380.69376185193.\n",
            "Iteration 21, inertia 298221.81995541236.\n",
            "Iteration 22, inertia 298074.84748166025.\n",
            "Iteration 23, inertia 297934.1521235444.\n",
            "Iteration 24, inertia 297799.3123212345.\n",
            "Iteration 25, inertia 297622.9729505176.\n",
            "Iteration 26, inertia 297468.96408283646.\n",
            "Iteration 27, inertia 297334.73595773074.\n",
            "Iteration 28, inertia 297212.6861536944.\n",
            "Iteration 29, inertia 297094.1048261835.\n",
            "Iteration 30, inertia 296992.7183840659.\n",
            "Iteration 31, inertia 296905.24071126786.\n",
            "Iteration 32, inertia 296807.1856214175.\n",
            "Iteration 33, inertia 296735.74654000415.\n",
            "Iteration 34, inertia 296674.66286661936.\n",
            "Iteration 35, inertia 296621.391579144.\n",
            "Iteration 36, inertia 296577.17639548925.\n",
            "Iteration 37, inertia 296513.16630051896.\n",
            "Iteration 38, inertia 296421.66327438876.\n",
            "Iteration 39, inertia 296386.24203594256.\n",
            "Iteration 40, inertia 296371.7266544009.\n",
            "Iteration 41, inertia 296362.29018530046.\n",
            "Iteration 42, inertia 296355.3259532447.\n",
            "Iteration 43, inertia 296331.84335281875.\n",
            "Iteration 44, inertia 296303.9195477805.\n",
            "Iteration 45, inertia 296276.0510137927.\n",
            "Iteration 46, inertia 296255.0100881617.\n",
            "Iteration 47, inertia 296237.6284893034.\n",
            "Iteration 48, inertia 296220.4258293057.\n",
            "Iteration 49, inertia 296198.3097084438.\n",
            "Iteration 50, inertia 296163.83934175916.\n",
            "Iteration 51, inertia 296144.291598213.\n",
            "Iteration 52, inertia 296124.0599055674.\n",
            "Iteration 53, inertia 296097.6611762576.\n",
            "Iteration 54, inertia 296073.38773457275.\n",
            "Iteration 55, inertia 296049.451777779.\n",
            "Iteration 56, inertia 296041.9841928162.\n",
            "Iteration 57, inertia 296034.8088006199.\n",
            "Iteration 58, inertia 296026.9665240713.\n",
            "Iteration 59, inertia 296020.43923329003.\n",
            "Iteration 60, inertia 296019.0468367828.\n",
            "Iteration 61, inertia 296018.1747577784.\n",
            "Iteration 62, inertia 296017.3916657419.\n",
            "Iteration 63, inertia 296017.05247982696.\n",
            "Iteration 64, inertia 296015.30435397546.\n",
            "Iteration 65, inertia 296014.3648931593.\n",
            "Iteration 66, inertia 296012.6679466547.\n",
            "Iteration 67, inertia 296010.5123361261.\n",
            "Iteration 68, inertia 296009.9385016798.\n",
            "Iteration 69, inertia 296009.1531645599.\n",
            "Iteration 70, inertia 296008.3193437493.\n",
            "Iteration 71, inertia 296007.8456308629.\n",
            "Iteration 72, inertia 296006.68024108093.\n",
            "Iteration 73, inertia 296005.24467131024.\n",
            "Iteration 74, inertia 296004.002059864.\n",
            "Iteration 75, inertia 296002.5973400229.\n",
            "Iteration 76, inertia 296000.2062684816.\n",
            "Iteration 77, inertia 295997.5043195562.\n",
            "Iteration 78, inertia 295993.42483922833.\n",
            "Iteration 79, inertia 295991.03947677405.\n",
            "Iteration 80, inertia 295990.11311694805.\n",
            "Iteration 81, inertia 295989.2607664387.\n",
            "Iteration 82, inertia 295988.1291262712.\n",
            "Iteration 83, inertia 295987.3958870037.\n",
            "Iteration 84, inertia 295986.74635517085.\n",
            "Iteration 85, inertia 295986.12917378347.\n",
            "Iteration 86, inertia 295985.5555952178.\n",
            "Iteration 87, inertia 295985.1166964045.\n",
            "Converged at iteration 87: center shift 2.781081649920281e-05 within tolerance 8.333333333333184e-05.\n",
            "Initialization complete\n",
            "Iteration 0, inertia 360571.7407756117.\n",
            "Iteration 1, inertia 323574.3997163612.\n",
            "Iteration 2, inertia 313566.03079999017.\n",
            "Iteration 3, inertia 308368.83739887405.\n",
            "Iteration 4, inertia 305474.60697596637.\n",
            "Iteration 5, inertia 303519.8173147391.\n",
            "Iteration 6, inertia 301963.6684271398.\n",
            "Iteration 7, inertia 300748.21753044345.\n",
            "Iteration 8, inertia 299876.1592856628.\n",
            "Iteration 9, inertia 299206.11301997065.\n",
            "Iteration 10, inertia 298683.80559313274.\n",
            "Iteration 11, inertia 298281.91159200226.\n",
            "Iteration 12, inertia 297847.7155927746.\n",
            "Iteration 13, inertia 297406.9045493068.\n",
            "Iteration 14, inertia 297103.7173700344.\n",
            "Iteration 15, inertia 296865.51959585067.\n",
            "Iteration 16, inertia 296666.1129778.\n",
            "Iteration 17, inertia 296505.4119181782.\n",
            "Iteration 18, inertia 296359.34278229484.\n",
            "Iteration 19, inertia 296236.0999680923.\n",
            "Iteration 20, inertia 296124.1873056592.\n",
            "Iteration 21, inertia 296005.21956120565.\n",
            "Iteration 22, inertia 295931.1906619503.\n",
            "Iteration 23, inertia 295861.7521443453.\n",
            "Iteration 24, inertia 295790.48097142274.\n",
            "Iteration 25, inertia 295709.3163628875.\n",
            "Iteration 26, inertia 295645.45505168964.\n",
            "Iteration 27, inertia 295594.3530265364.\n",
            "Iteration 28, inertia 295536.8058723795.\n",
            "Iteration 29, inertia 295502.47180813196.\n",
            "Iteration 30, inertia 295482.5089015235.\n",
            "Iteration 31, inertia 295469.4283639773.\n",
            "Iteration 32, inertia 295458.90144385415.\n",
            "Iteration 33, inertia 295448.71835004754.\n",
            "Iteration 34, inertia 295443.2693808189.\n",
            "Iteration 35, inertia 295434.7319447895.\n",
            "Iteration 36, inertia 295429.6220109348.\n",
            "Iteration 37, inertia 295426.6199417724.\n",
            "Iteration 38, inertia 295425.21517401095.\n",
            "Iteration 39, inertia 295423.98264570977.\n",
            "Iteration 40, inertia 295420.40474345005.\n",
            "Iteration 41, inertia 295414.3377884289.\n",
            "Iteration 42, inertia 295409.67745330906.\n",
            "Iteration 43, inertia 295407.03667896934.\n",
            "Iteration 44, inertia 295404.7717369476.\n",
            "Iteration 45, inertia 295401.064093192.\n",
            "Iteration 46, inertia 295398.9792239015.\n",
            "Iteration 47, inertia 295393.0179792135.\n",
            "Iteration 48, inertia 295387.6330188762.\n",
            "Iteration 49, inertia 295383.7992001468.\n",
            "Iteration 50, inertia 295380.1670663519.\n",
            "Iteration 51, inertia 295378.24517403304.\n",
            "Iteration 52, inertia 295374.6583471619.\n",
            "Iteration 53, inertia 295368.6678815589.\n",
            "Iteration 54, inertia 295366.1897997035.\n",
            "Iteration 55, inertia 295361.9332647553.\n",
            "Iteration 56, inertia 295242.5551347745.\n",
            "Iteration 57, inertia 295186.2541515452.\n",
            "Iteration 58, inertia 295182.5576713529.\n",
            "Iteration 59, inertia 295179.2078673194.\n",
            "Iteration 60, inertia 295176.4805369417.\n",
            "Iteration 61, inertia 295174.84752972174.\n",
            "Iteration 62, inertia 295173.6405525627.\n",
            "Iteration 63, inertia 295173.20705487614.\n",
            "Iteration 64, inertia 295171.22874018346.\n",
            "Iteration 65, inertia 295166.2476488254.\n",
            "Iteration 66, inertia 295162.51518491143.\n",
            "Iteration 67, inertia 295157.11510957376.\n",
            "Iteration 68, inertia 295154.16489414044.\n",
            "Iteration 69, inertia 295146.861518016.\n",
            "Iteration 70, inertia 295141.85812516557.\n",
            "Iteration 71, inertia 295139.2138087151.\n",
            "Iteration 72, inertia 295137.1297264757.\n",
            "Iteration 73, inertia 295136.4509857864.\n",
            "Iteration 74, inertia 295136.2078468912.\n",
            "Iteration 75, inertia 295135.8554440957.\n",
            "Iteration 76, inertia 295135.3036387286.\n",
            "Iteration 77, inertia 295133.643502572.\n",
            "Converged at iteration 77: center shift 6.987059886072631e-05 within tolerance 8.333333333333184e-05.\n"
          ]
        }
      ]
    },
    {
      "cell_type": "markdown",
      "source": [
        "We now have a set of cluster labels that group the data into 50 similar groups. Let's store it in our stacked dataset!"
      ],
      "metadata": {
        "id": "XZXYUggc8xex"
      }
    },
    {
      "cell_type": "code",
      "source": [
        "# Let's run this line\n",
        "stacked['clusters'].values = cluster_labels"
      ],
      "metadata": {
        "id": "aH0qNHM89GER"
      },
      "execution_count": 33,
      "outputs": []
    },
    {
      "cell_type": "markdown",
      "source": [
        "## Visualization"
      ],
      "metadata": {
        "id": "inC84qGpRLh5"
      }
    },
    {
      "cell_type": "markdown",
      "source": [
        "We now have a set of labels, but they're stored in a flattened array. Since we'd like to see the data as a map, we still have some work to do. Let's go back to a 2D representation of our values.\n",
        "\n",
        "### Q10) Turn the flattened xarray back into a set of 2D fields\n",
        "*Hint*: xarrays have an [`.unstack` method](https://xarray.pydata.org/en/stable/generated/xarray.DataArray.unstack.html) that you will find to be very useful for this."
      ],
      "metadata": {
        "id": "pFPN00oH9oI8"
      }
    },
    {
      "cell_type": "code",
      "source": [
        "# Complete the code:\n",
        "processed_ds = stacked.unstack()"
      ],
      "metadata": {
        "id": "lp1u28inKUNT"
      },
      "execution_count": 34,
      "outputs": []
    },
    {
      "cell_type": "markdown",
      "source": [
        "Now we have an unstacked dataset, and can now easily plot out the clusters we found!\n",
        "\n",
        "### Q11) Plot the 'cluster' variable using the built-in xarray function\n",
        "*Hint: `.plot()` [link text](https://xarray.pydata.org/en/stable/generated/xarray.DataArray.plot.html) let's you access the xarray implementations of [`pcolormesh`](https://matplotlib.org/3.1.1/api/_as_gen/matplotlib.pyplot.pcolormesh.html) and [`imshow`](https://matplotlib.org/3.1.1/api/_as_gen/matplotlib.pyplot.imshow.html).*"
      ],
      "metadata": {
        "id": "y4w0zUDn8OOU"
      }
    },
    {
      "cell_type": "code",
      "source": [
        "processed_ds.clusters.plot.imshow(figsize=(12,6),cmap='jet')"
      ],
      "metadata": {
        "id": "DLLCcgw_n3tu",
        "colab": {
          "base_uri": "https://localhost:8080/",
          "height": 395
        },
        "outputId": "0d969dab-e325-4e16-c48b-fcd521941990"
      },
      "execution_count": 39,
      "outputs": [
        {
          "output_type": "execute_result",
          "data": {
            "text/plain": [
              "<matplotlib.image.AxesImage at 0x784d93739e40>"
            ]
          },
          "metadata": {},
          "execution_count": 39
        },
        {
          "output_type": "display_data",
          "data": {
            "text/plain": [
              "<Figure size 1200x600 with 2 Axes>"
            ],
            "image/png": "[encoded data removed]"
          },
          "metadata": {}
        }
      ]
    },
    {
      "cell_type": "markdown",
      "source": [
        "Compare your results to those from the paper:\n",
        "<img src='https://unils-my.sharepoint.com/:i:/g/personal/tom_beucler_unil_ch/EdLh6Ds0yVlFivyfIOXlV74B_G35dVz87GFagzylIG-gZA?download=1'>"
      ],
      "metadata": {
        "id": "sOja6JCxo45g"
      }
    },
    {
      "cell_type": "markdown",
      "source": [
        "We now want to find the 5 most common regimes, and group the rest. This isn't straightforward, so we've gone ahead and prepared the code for you. Run through it and try to understand what the code is doing!"
      ],
      "metadata": {
        "id": "HrLKLVWXtgeX"
      }
    },
    {
      "cell_type": "code",
      "source": [
        "# Make field filled with -1 vals so unprocessed points are easily retrieved.\n",
        "# Noise masked applied automatically by using previously found labels as base.\n",
        "processed_ds['final_clusters'] = (processed_ds.clusters * 0) - 1\n",
        "\n",
        "# Find the 5 most common cluster labels\n",
        "top_clusters = processed_ds.groupby('clusters').count().sortby('BPT').tail(5).clusters.values\n",
        "\n",
        "#Build the set of indices for the cluster data, used for rewriting cluster labels\n",
        "for idx, label in enumerate(top_clusters):\n",
        "    #Find the indices where the label is found\n",
        "    indices = (processed_ds.clusters == label)\n",
        "\n",
        "    processed_ds['final_clusters'].values[indices] = 4-idx\n",
        "\n",
        "# Set the remaining unlabeled regions to category 5 \"non-linear\"\n",
        "processed_ds['final_clusters'].values[processed_ds.final_clusters==-1] = 5\n",
        "\n",
        "# Plot the figure\n",
        "processed_ds.final_clusters.plot.imshow(cmap=mycmap, figsize=(18,8));"
      ],
      "metadata": {
        "id": "UO5OohbKptau",
        "colab": {
          "base_uri": "https://localhost:8080/",
          "height": 406
        },
        "outputId": "efc0e2f0-0588-47f5-c293-fcc71c84bb71"
      },
      "execution_count": 37,
      "outputs": [
        {
          "output_type": "stream",
          "name": "stderr",
          "text": [
            "/usr/local/lib/python3.10/dist-packages/xarray/core/dataset.py:4802: UserWarning: No index created for dimension clusters because variable clusters is not a coordinate. To create an index for clusters, please first call `.set_coords('clusters')` on this object.\n",
            "  warnings.warn(\n"
          ]
        },
        {
          "output_type": "display_data",
          "data": {
            "text/plain": [
              "<Figure size 1800x800 with 2 Axes>"
            ],
            "image/png": "[encoded data removed]"
          },
          "metadata": {}
        }
      ]
    },
    {
      "cell_type": "code",
      "source": [
        "# Feel free to use this space"
      ],
      "metadata": {
        "id": "IHSj9yRaUCSg"
      },
      "execution_count": null,
      "outputs": []
    },
    {
      "cell_type": "markdown",
      "source": [
        "Compare it to the regimes found in the paper:\n",
        "<img src='https://unils-my.sharepoint.com/:i:/g/personal/tom_beucler_unil_ch/EehuR9cUfaJImrw4DCAzDPoBiGuG7R3Ys6453Umi1cN_OQ?download=1'>\n",
        "\n"
      ],
      "metadata": {
        "id": "eEMmkpGkc1Xy"
      }
    },
    {
      "cell_type": "markdown",
      "source": [
        "The authors then went on to train neural networks ***to infer in-depth dynamics from data that is largely readily available from for example CMIP6 models, using NN methods to infer the source of predictive skill*** and ***to apply the trained Ensemble MLP to a climate model in order to assess circulation changes under global heating***.\n",
        "\n",
        "For our purposes, however, we will say goodbye to *THOR* at this point 😃"
      ],
      "metadata": {
        "id": "nbWgoD7bv8AH"
      }
    }
  ]
}